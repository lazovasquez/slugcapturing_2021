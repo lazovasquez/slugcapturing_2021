{
 "cells": [
  {
   "cell_type": "markdown",
   "metadata": {},
   "source": [
    "# Input codes\n",
    "> Import notebooks\n"
   ]
  },
  {
   "cell_type": "code",
   "execution_count": null,
   "metadata": {},
   "outputs": [],
   "source": [
    "# Basic notebooks\n",
    "%run ./codes/00_libraries.ipynb\n",
    "%run ./codes/01_constants_codes.ipynb\n",
    "%run ./codes/02_constants_test_cases.ipynb\n",
    "\n",
    "# Equations\n",
    "%run ./05_C_testcases.ipynb\n",
    "%run ./codes/06_testcases_conditions.ipynb\n",
    "%run ./codes/07_equations_functions.ipynb\n",
    "%run ./codes/08_equations_matrices.ipynb\n",
    "\n",
    "# Stability\n",
    "%run ./codes/10_stability_functions.ipynb"
   ]
  },
  {
   "cell_type": "markdown",
   "metadata": {},
   "source": [
    "# Well-posedness maps and eigenvalues\n",
    "\n",
    "> IKH curves + eigenvalue distribution."
   ]
  },
  {
   "cell_type": "code",
   "execution_count": null,
   "metadata": {
    "tags": []
   },
   "outputs": [],
   "source": [
    "%run ./codes/12_stability_maps_well_posedness.ipynb\n",
    "%run ./codes/13_stability_maps_well_posedness_eigenspectra.ipynb"
   ]
  },
  {
   "cell_type": "markdown",
   "metadata": {},
   "source": [
    "# Fourier analysis and eigenspectra\n",
    "\n",
    "> IKH and VKH + validation curves and eigenvalue distribution."
   ]
  },
  {
   "cell_type": "code",
   "execution_count": null,
   "metadata": {
    "tags": []
   },
   "outputs": [],
   "source": [
    "%run ./codes/14_stability_maps_fourier_differential.ipynb\n",
    "%run ./codes/15_stability_maps_fourier_eigenspectra.ipynb"
   ]
  },
  {
   "cell_type": "markdown",
   "metadata": {},
   "source": [
    "# Dispersion analysis\n",
    "\n",
    "> Dispersion curves under lower  order reguarization mechanisms (i.e., friction)."
   ]
  },
  {
   "cell_type": "code",
   "execution_count": null,
   "metadata": {
    "tags": []
   },
   "outputs": [],
   "source": [
    "%run ./codes/16_stability_maps_dispersion.ipynb\n",
    "# %run ./codes/17_stability_maps_regularization.ipynb"
   ]
  },
  {
   "cell_type": "code",
   "execution_count": null,
   "metadata": {},
   "outputs": [],
   "source": []
  }
 ],
 "metadata": {
  "interpreter": {
   "hash": "38da386f580614e4c6a85824bff41beb4ebd8d62055fe5e2510efbe524b5bbb7"
  },
  "kernelspec": {
   "display_name": "Python 3.8.2 64-bit ('fenicsproject': conda)",
   "name": "python3"
  },
  "language_info": {
   "codemirror_mode": {
    "name": "ipython",
    "version": 3
   },
   "file_extension": ".py",
   "mimetype": "text/x-python",
   "name": "python",
   "nbconvert_exporter": "python",
   "pygments_lexer": "ipython3",
   "version": "3.10.4"
  },
  "metadata": {
   "interpreter": {
    "hash": "38da386f580614e4c6a85824bff41beb4ebd8d62055fe5e2510efbe524b5bbb7"
   }
  }
 },
 "nbformat": 4,
 "nbformat_minor": 4
}
