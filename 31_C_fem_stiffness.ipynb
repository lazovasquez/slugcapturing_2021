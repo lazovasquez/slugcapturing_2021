{
 "cells": [
  {
   "cell_type": "markdown",
   "source": [
    "## VARIABLES: numerical solution\n",
    "\n",
    "- variable1: liquid volume fraction (alpha_l)\n",
    "- variable2: liquid velocity (u_l)\n",
    "- variable3: gas velocity (u_g)\n",
    "- variable4: interfacial pressure (p_i)"
   ],
   "metadata": {}
  },
  {
   "cell_type": "code",
   "execution_count": 1,
   "source": [
    "# Basic notebooks\n",
    "%run ./codes/00_libraries.ipynb\n",
    "%run ./codes/01_constants_codes.ipynb\n",
    "%run ./codes/02_constants_test_cases.ipynb\n",
    "\n",
    "# Equations\n",
    "%run ./05_C_testcases.ipynb\n",
    "%run ./codes/06_testcases_conditions.ipynb\n",
    "%run ./codes/07_equations_functions.ipynb\n",
    "%run ./codes/08_equations_matrices.ipynb\n",
    "\n",
    "# Stability\n",
    "%run ./codes/10_stability_functions.ipynb\n",
    "%run ./codes/11_reference_conditions.ipynb\n",
    "\n",
    "# Finite-elements\n",
    "%run ./codes/18_fem_discretization.ipynb\n",
    "%run ./codes/19_initial_boundary_conditions.ipynb\n",
    "%run ./codes/20_variational_form.ipynb\n",
    "%run ./codes/21_solvers.ipynb\n",
    "\n",
    "# Semi-discrete equations\n",
    "%run ./codes/22_semi_discretized.ipynb"
   ],
   "outputs": [
    {
     "output_type": "stream",
     "name": "stderr",
     "text": [
      "ERROR:root:Internal Python error in the inspect module.\n",
      "Below is the traceback from this internal error.\n",
      "\n"
     ]
    },
    {
     "output_type": "stream",
     "name": "stdout",
     "text": [
      "Traceback (most recent call last):\n",
      "  File \"/opt/anaconda3/envs/fenicsproject/lib/python3.8/site-packages/IPython/core/interactiveshell.py\", line 3331, in run_code\n",
      "    exec(code_obj, self.user_global_ns, self.user_ns)\n",
      "  File \"<ipython-input-1-f90d2f9b3d24>\", line 15, in <module>\n",
      "    get_ipython().run_line_magic('run', './codes/19_initial_boundary_conditions.ipynb')\n",
      "  File \"/opt/anaconda3/envs/fenicsproject/lib/python3.8/site-packages/IPython/core/interactiveshell.py\", line 2317, in run_line_magic\n",
      "    result = fn(*args, **kwargs)\n",
      "  File \"<decorator-gen-59>\", line 2, in run\n",
      "  File \"/opt/anaconda3/envs/fenicsproject/lib/python3.8/site-packages/IPython/core/magic.py\", line 187, in <lambda>\n",
      "    call = lambda f, *a, **k: f(*a, **k)\n",
      "  File \"/opt/anaconda3/envs/fenicsproject/lib/python3.8/site-packages/IPython/core/magics/execution.py\", line 715, in run\n",
      "  File \"/opt/anaconda3/envs/fenicsproject/lib/python3.8/site-packages/IPython/core/interactiveshell.py\", line 2760, in safe_execfile_ipy\n",
      "    fname = os.path.abspath(os.path.expanduser(fname))\n",
      "  File \"/opt/anaconda3/envs/fenicsproject/lib/python3.8/posixpath.py\", line 379, in abspath\n",
      "OSError: [Errno 23] Too many open files in system\n",
      "\n",
      "During handling of the above exception, another exception occurred:\n",
      "\n",
      "Traceback (most recent call last):\n",
      "  File \"/opt/anaconda3/envs/fenicsproject/lib/python3.8/site-packages/IPython/core/interactiveshell.py\", line 2044, in showtraceback\n",
      "    stb = value._render_traceback_()\n",
      "AttributeError: 'OSError' object has no attribute '_render_traceback_'\n",
      "\n",
      "During handling of the above exception, another exception occurred:\n",
      "\n",
      "Traceback (most recent call last):\n",
      "  File \"/opt/anaconda3/envs/fenicsproject/lib/python3.8/site-packages/IPython/core/ultratb.py\", line 1148, in get_records\n",
      "  File \"/opt/anaconda3/envs/fenicsproject/lib/python3.8/site-packages/IPython/core/ultratb.py\", line 316, in wrapped\n",
      "  File \"/opt/anaconda3/envs/fenicsproject/lib/python3.8/site-packages/IPython/core/ultratb.py\", line 350, in _fixed_getinnerframes\n",
      "  File \"/opt/anaconda3/envs/fenicsproject/lib/python3.8/inspect.py\", line 1503, in getinnerframes\n",
      "  File \"/opt/anaconda3/envs/fenicsproject/lib/python3.8/inspect.py\", line 1461, in getframeinfo\n",
      "  File \"/opt/anaconda3/envs/fenicsproject/lib/python3.8/inspect.py\", line 708, in getsourcefile\n",
      "  File \"/opt/anaconda3/envs/fenicsproject/lib/python3.8/inspect.py\", line 737, in getmodule\n",
      "  File \"/opt/anaconda3/envs/fenicsproject/lib/python3.8/inspect.py\", line 721, in getabsfile\n",
      "  File \"/opt/anaconda3/envs/fenicsproject/lib/python3.8/posixpath.py\", line 379, in abspath\n",
      "OSError: [Errno 23] Too many open files in system\n"
     ]
    },
    {
     "output_type": "error",
     "ename": "OSError",
     "evalue": "[Errno 23] Too many open files in system",
     "traceback": [
      "\u001b[0;31m---------------------------------------------------------------------------\u001b[0m"
     ]
    }
   ],
   "metadata": {}
  }
 ],
 "metadata": {
  "kernelspec": {
   "name": "python3",
   "display_name": "Python 3.8.2 64-bit ('fenicsproject': conda)"
  },
  "language_info": {
   "codemirror_mode": {
    "name": "ipython",
    "version": 3
   },
   "file_extension": ".py",
   "mimetype": "text/x-python",
   "name": "python",
   "nbconvert_exporter": "python",
   "pygments_lexer": "ipython3",
   "version": "3.8.2"
  },
  "metadata": {
   "interpreter": {
    "hash": "38da386f580614e4c6a85824bff41beb4ebd8d62055fe5e2510efbe524b5bbb7"
   }
  },
  "interpreter": {
   "hash": "38da386f580614e4c6a85824bff41beb4ebd8d62055fe5e2510efbe524b5bbb7"
  }
 },
 "nbformat": 4,
 "nbformat_minor": 4
}