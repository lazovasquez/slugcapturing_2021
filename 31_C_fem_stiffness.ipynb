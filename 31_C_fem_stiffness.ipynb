{
 "cells": [
  {
   "cell_type": "markdown",
   "metadata": {},
   "source": [
    "## VARIABLES: numerical solution\n",
    "\n",
    "- variable1: liquid volume fraction (alpha_l)\n",
    "- variable2: liquid velocity (u_l)\n",
    "- variable3: gas velocity (u_g)\n",
    "- variable4: interfacial pressure (p_i)"
   ]
  },
  {
   "cell_type": "code",
   "execution_count": 1,
   "metadata": {},
   "outputs": [
    {
     "ename": "NameError",
     "evalue": "name 'V' is not defined",
     "output_type": "error",
     "traceback": [
      "\u001b[0;31m---------------------------------------------------------------------------\u001b[0m",
      "\u001b[0;31mNameError\u001b[0m                                 Traceback (most recent call last)",
      "File \u001b[0;32m/var/folders/x5/75b3n55x0sl84ztqgsdcz6qm0000gn/T/ipykernel_4252/2173066912.py:93\u001b[0m, in \u001b[0;36m<cell line: 91>\u001b[0;34m()\u001b[0m\n\u001b[1;32m     <a href='file:///var/folders/x5/75b3n55x0sl84ztqgsdcz6qm0000gn/T/ipykernel_4252/2173066912.py?line=89'>90</a>\u001b[0m \u001b[39m# Define vector of boundary conditions\u001b[39;00m\n\u001b[1;32m     <a href='file:///var/folders/x5/75b3n55x0sl84ztqgsdcz6qm0000gn/T/ipykernel_4252/2173066912.py?line=90'>91</a>\u001b[0m \u001b[39mif\u001b[39;00m \u001b[39many\u001b[39m ([elementspace \u001b[39m==\u001b[39m \u001b[39m1\u001b[39m, elementspace \u001b[39m==\u001b[39m \u001b[39m2\u001b[39m, elementspace \u001b[39m==\u001b[39m \u001b[39m3\u001b[39m]):\n\u001b[1;32m     <a href='file:///var/folders/x5/75b3n55x0sl84ztqgsdcz6qm0000gn/T/ipykernel_4252/2173066912.py?line=91'>92</a>\u001b[0m     \u001b[39m# Dirichlet boundary conditions\u001b[39;00m\n\u001b[0;32m---> <a href='file:///var/folders/x5/75b3n55x0sl84ztqgsdcz6qm0000gn/T/ipykernel_4252/2173066912.py?line=92'>93</a>\u001b[0m     bc1 \u001b[39m=\u001b[39m DirichletBC (V\u001b[39m.\u001b[39msub (\u001b[39m0\u001b[39m), variable1_dirichlet, Inflow)\u001b[39m#, \"geometric\") # \"geometric\" \"pointwise\"\u001b[39;00m\n\u001b[1;32m     <a href='file:///var/folders/x5/75b3n55x0sl84ztqgsdcz6qm0000gn/T/ipykernel_4252/2173066912.py?line=93'>94</a>\u001b[0m     bc2 \u001b[39m=\u001b[39m DirichletBC (V\u001b[39m.\u001b[39msub (\u001b[39m1\u001b[39m), variable2_dirichlet, Inflow)\u001b[39m#, \"geometric\")\u001b[39;00m\n\u001b[1;32m     <a href='file:///var/folders/x5/75b3n55x0sl84ztqgsdcz6qm0000gn/T/ipykernel_4252/2173066912.py?line=94'>95</a>\u001b[0m     bc3 \u001b[39m=\u001b[39m DirichletBC (V\u001b[39m.\u001b[39msub (\u001b[39m2\u001b[39m), variable3_dirichlet, Inflow)\u001b[39m#, \"geometric\")\u001b[39;00m\n",
      "\u001b[0;31mNameError\u001b[0m: name 'V' is not defined"
     ]
    },
    {
     "ename": "NameError",
     "evalue": "name 'V' is not defined",
     "output_type": "error",
     "traceback": [
      "\u001b[0;31m---------------------------------------------------------------------------\u001b[0m",
      "\u001b[0;31mNameError\u001b[0m                                 Traceback (most recent call last)",
      "\u001b[1;32m/Users/davidvasquez/Documents/GitHub/twofluidmodel_2021/31_C_fem_stiffness.ipynb Cell 2'\u001b[0m in \u001b[0;36m<cell line: 17>\u001b[0;34m()\u001b[0m\n\u001b[1;32m     <a href='vscode-notebook-cell:/Users/davidvasquez/Documents/GitHub/twofluidmodel_2021/31_C_fem_stiffness.ipynb#ch0000001?line=13'>14</a>\u001b[0m get_ipython()\u001b[39m.\u001b[39mrun_line_magic(\u001b[39m'\u001b[39m\u001b[39mrun\u001b[39m\u001b[39m'\u001b[39m, \u001b[39m'\u001b[39m\u001b[39m./codes/11_reference_conditions.ipynb\u001b[39m\u001b[39m'\u001b[39m)\n\u001b[1;32m     <a href='vscode-notebook-cell:/Users/davidvasquez/Documents/GitHub/twofluidmodel_2021/31_C_fem_stiffness.ipynb#ch0000001?line=15'>16</a>\u001b[0m \u001b[39m# Finite-elements\u001b[39;00m\n\u001b[0;32m---> <a href='vscode-notebook-cell:/Users/davidvasquez/Documents/GitHub/twofluidmodel_2021/31_C_fem_stiffness.ipynb#ch0000001?line=16'>17</a>\u001b[0m get_ipython()\u001b[39m.\u001b[39;49mrun_line_magic(\u001b[39m'\u001b[39;49m\u001b[39mrun\u001b[39;49m\u001b[39m'\u001b[39;49m, \u001b[39m'\u001b[39;49m\u001b[39m./codes/18_initial_boundary_conditions.ipynb\u001b[39;49m\u001b[39m'\u001b[39;49m)\n\u001b[1;32m     <a href='vscode-notebook-cell:/Users/davidvasquez/Documents/GitHub/twofluidmodel_2021/31_C_fem_stiffness.ipynb#ch0000001?line=17'>18</a>\u001b[0m get_ipython()\u001b[39m.\u001b[39mrun_line_magic(\u001b[39m'\u001b[39m\u001b[39mrun\u001b[39m\u001b[39m'\u001b[39m, \u001b[39m'\u001b[39m\u001b[39m./codes/19_fem_discretization.ipynb\u001b[39m\u001b[39m'\u001b[39m)\n\u001b[1;32m     <a href='vscode-notebook-cell:/Users/davidvasquez/Documents/GitHub/twofluidmodel_2021/31_C_fem_stiffness.ipynb#ch0000001?line=18'>19</a>\u001b[0m get_ipython()\u001b[39m.\u001b[39mrun_line_magic(\u001b[39m'\u001b[39m\u001b[39mrun\u001b[39m\u001b[39m'\u001b[39m, \u001b[39m'\u001b[39m\u001b[39m./codes/20_variational_form.ipynb\u001b[39m\u001b[39m'\u001b[39m)\n",
      "File \u001b[0;32m~/opt/anaconda3/envs/fenicsproject/lib/python3.10/site-packages/IPython/core/interactiveshell.py:2304\u001b[0m, in \u001b[0;36mInteractiveShell.run_line_magic\u001b[0;34m(self, magic_name, line, _stack_depth)\u001b[0m\n\u001b[1;32m   <a href='file:///Users/davidvasquez/opt/anaconda3/envs/fenicsproject/lib/python3.10/site-packages/IPython/core/interactiveshell.py?line=2301'>2302</a>\u001b[0m     kwargs[\u001b[39m'\u001b[39m\u001b[39mlocal_ns\u001b[39m\u001b[39m'\u001b[39m] \u001b[39m=\u001b[39m \u001b[39mself\u001b[39m\u001b[39m.\u001b[39mget_local_scope(stack_depth)\n\u001b[1;32m   <a href='file:///Users/davidvasquez/opt/anaconda3/envs/fenicsproject/lib/python3.10/site-packages/IPython/core/interactiveshell.py?line=2302'>2303</a>\u001b[0m \u001b[39mwith\u001b[39;00m \u001b[39mself\u001b[39m\u001b[39m.\u001b[39mbuiltin_trap:\n\u001b[0;32m-> <a href='file:///Users/davidvasquez/opt/anaconda3/envs/fenicsproject/lib/python3.10/site-packages/IPython/core/interactiveshell.py?line=2303'>2304</a>\u001b[0m     result \u001b[39m=\u001b[39m fn(\u001b[39m*\u001b[39;49margs, \u001b[39m*\u001b[39;49m\u001b[39m*\u001b[39;49mkwargs)\n\u001b[1;32m   <a href='file:///Users/davidvasquez/opt/anaconda3/envs/fenicsproject/lib/python3.10/site-packages/IPython/core/interactiveshell.py?line=2304'>2305</a>\u001b[0m \u001b[39mreturn\u001b[39;00m result\n",
      "File \u001b[0;32m~/opt/anaconda3/envs/fenicsproject/lib/python3.10/site-packages/IPython/core/magics/execution.py:717\u001b[0m, in \u001b[0;36mExecutionMagics.run\u001b[0;34m(self, parameter_s, runner, file_finder)\u001b[0m\n\u001b[1;32m    <a href='file:///Users/davidvasquez/opt/anaconda3/envs/fenicsproject/lib/python3.10/site-packages/IPython/core/magics/execution.py?line=714'>715</a>\u001b[0m     \u001b[39mwith\u001b[39;00m preserve_keys(\u001b[39mself\u001b[39m\u001b[39m.\u001b[39mshell\u001b[39m.\u001b[39muser_ns, \u001b[39m'\u001b[39m\u001b[39m__file__\u001b[39m\u001b[39m'\u001b[39m):\n\u001b[1;32m    <a href='file:///Users/davidvasquez/opt/anaconda3/envs/fenicsproject/lib/python3.10/site-packages/IPython/core/magics/execution.py?line=715'>716</a>\u001b[0m         \u001b[39mself\u001b[39m\u001b[39m.\u001b[39mshell\u001b[39m.\u001b[39muser_ns[\u001b[39m'\u001b[39m\u001b[39m__file__\u001b[39m\u001b[39m'\u001b[39m] \u001b[39m=\u001b[39m filename\n\u001b[0;32m--> <a href='file:///Users/davidvasquez/opt/anaconda3/envs/fenicsproject/lib/python3.10/site-packages/IPython/core/magics/execution.py?line=716'>717</a>\u001b[0m         \u001b[39mself\u001b[39;49m\u001b[39m.\u001b[39;49mshell\u001b[39m.\u001b[39;49msafe_execfile_ipy(filename, raise_exceptions\u001b[39m=\u001b[39;49m\u001b[39mTrue\u001b[39;49;00m)\n\u001b[1;32m    <a href='file:///Users/davidvasquez/opt/anaconda3/envs/fenicsproject/lib/python3.10/site-packages/IPython/core/magics/execution.py?line=717'>718</a>\u001b[0m     \u001b[39mreturn\u001b[39;00m\n\u001b[1;32m    <a href='file:///Users/davidvasquez/opt/anaconda3/envs/fenicsproject/lib/python3.10/site-packages/IPython/core/magics/execution.py?line=719'>720</a>\u001b[0m \u001b[39m# Control the response to exit() calls made by the script being run\u001b[39;00m\n",
      "File \u001b[0;32m~/opt/anaconda3/envs/fenicsproject/lib/python3.10/site-packages/IPython/core/interactiveshell.py:2810\u001b[0m, in \u001b[0;36mInteractiveShell.safe_execfile_ipy\u001b[0;34m(self, fname, shell_futures, raise_exceptions)\u001b[0m\n\u001b[1;32m   <a href='file:///Users/davidvasquez/opt/anaconda3/envs/fenicsproject/lib/python3.10/site-packages/IPython/core/interactiveshell.py?line=2807'>2808</a>\u001b[0m result \u001b[39m=\u001b[39m \u001b[39mself\u001b[39m\u001b[39m.\u001b[39mrun_cell(cell, silent\u001b[39m=\u001b[39m\u001b[39mTrue\u001b[39;00m, shell_futures\u001b[39m=\u001b[39mshell_futures)\n\u001b[1;32m   <a href='file:///Users/davidvasquez/opt/anaconda3/envs/fenicsproject/lib/python3.10/site-packages/IPython/core/interactiveshell.py?line=2808'>2809</a>\u001b[0m \u001b[39mif\u001b[39;00m raise_exceptions:\n\u001b[0;32m-> <a href='file:///Users/davidvasquez/opt/anaconda3/envs/fenicsproject/lib/python3.10/site-packages/IPython/core/interactiveshell.py?line=2809'>2810</a>\u001b[0m     result\u001b[39m.\u001b[39;49mraise_error()\n\u001b[1;32m   <a href='file:///Users/davidvasquez/opt/anaconda3/envs/fenicsproject/lib/python3.10/site-packages/IPython/core/interactiveshell.py?line=2810'>2811</a>\u001b[0m \u001b[39melif\u001b[39;00m \u001b[39mnot\u001b[39;00m result\u001b[39m.\u001b[39msuccess:\n\u001b[1;32m   <a href='file:///Users/davidvasquez/opt/anaconda3/envs/fenicsproject/lib/python3.10/site-packages/IPython/core/interactiveshell.py?line=2811'>2812</a>\u001b[0m     \u001b[39mbreak\u001b[39;00m\n",
      "File \u001b[0;32m~/opt/anaconda3/envs/fenicsproject/lib/python3.10/site-packages/IPython/core/interactiveshell.py:250\u001b[0m, in \u001b[0;36mExecutionResult.raise_error\u001b[0;34m(self)\u001b[0m\n\u001b[1;32m    <a href='file:///Users/davidvasquez/opt/anaconda3/envs/fenicsproject/lib/python3.10/site-packages/IPython/core/interactiveshell.py?line=247'>248</a>\u001b[0m     \u001b[39mraise\u001b[39;00m \u001b[39mself\u001b[39m\u001b[39m.\u001b[39merror_before_exec\n\u001b[1;32m    <a href='file:///Users/davidvasquez/opt/anaconda3/envs/fenicsproject/lib/python3.10/site-packages/IPython/core/interactiveshell.py?line=248'>249</a>\u001b[0m \u001b[39mif\u001b[39;00m \u001b[39mself\u001b[39m\u001b[39m.\u001b[39merror_in_exec \u001b[39mis\u001b[39;00m \u001b[39mnot\u001b[39;00m \u001b[39mNone\u001b[39;00m:\n\u001b[0;32m--> <a href='file:///Users/davidvasquez/opt/anaconda3/envs/fenicsproject/lib/python3.10/site-packages/IPython/core/interactiveshell.py?line=249'>250</a>\u001b[0m     \u001b[39mraise\u001b[39;00m \u001b[39mself\u001b[39m\u001b[39m.\u001b[39merror_in_exec\n",
      "    \u001b[0;31m[... skipping hidden 1 frame]\u001b[0m\n",
      "File \u001b[0;32m/var/folders/x5/75b3n55x0sl84ztqgsdcz6qm0000gn/T/ipykernel_4252/2173066912.py:93\u001b[0m, in \u001b[0;36m<cell line: 91>\u001b[0;34m()\u001b[0m\n\u001b[1;32m     <a href='file:///var/folders/x5/75b3n55x0sl84ztqgsdcz6qm0000gn/T/ipykernel_4252/2173066912.py?line=89'>90</a>\u001b[0m \u001b[39m# Define vector of boundary conditions\u001b[39;00m\n\u001b[1;32m     <a href='file:///var/folders/x5/75b3n55x0sl84ztqgsdcz6qm0000gn/T/ipykernel_4252/2173066912.py?line=90'>91</a>\u001b[0m \u001b[39mif\u001b[39;00m \u001b[39many\u001b[39m ([elementspace \u001b[39m==\u001b[39m \u001b[39m1\u001b[39m, elementspace \u001b[39m==\u001b[39m \u001b[39m2\u001b[39m, elementspace \u001b[39m==\u001b[39m \u001b[39m3\u001b[39m]):\n\u001b[1;32m     <a href='file:///var/folders/x5/75b3n55x0sl84ztqgsdcz6qm0000gn/T/ipykernel_4252/2173066912.py?line=91'>92</a>\u001b[0m     \u001b[39m# Dirichlet boundary conditions\u001b[39;00m\n\u001b[0;32m---> <a href='file:///var/folders/x5/75b3n55x0sl84ztqgsdcz6qm0000gn/T/ipykernel_4252/2173066912.py?line=92'>93</a>\u001b[0m     bc1 \u001b[39m=\u001b[39m DirichletBC (V\u001b[39m.\u001b[39msub (\u001b[39m0\u001b[39m), variable1_dirichlet, Inflow)\u001b[39m#, \"geometric\") # \"geometric\" \"pointwise\"\u001b[39;00m\n\u001b[1;32m     <a href='file:///var/folders/x5/75b3n55x0sl84ztqgsdcz6qm0000gn/T/ipykernel_4252/2173066912.py?line=93'>94</a>\u001b[0m     bc2 \u001b[39m=\u001b[39m DirichletBC (V\u001b[39m.\u001b[39msub (\u001b[39m1\u001b[39m), variable2_dirichlet, Inflow)\u001b[39m#, \"geometric\")\u001b[39;00m\n\u001b[1;32m     <a href='file:///var/folders/x5/75b3n55x0sl84ztqgsdcz6qm0000gn/T/ipykernel_4252/2173066912.py?line=94'>95</a>\u001b[0m     bc3 \u001b[39m=\u001b[39m DirichletBC (V\u001b[39m.\u001b[39msub (\u001b[39m2\u001b[39m), variable3_dirichlet, Inflow)\u001b[39m#, \"geometric\")\u001b[39;00m\n",
      "\u001b[0;31mNameError\u001b[0m: name 'V' is not defined"
     ]
    }
   ],
   "source": [
    "# Basic notebooks\n",
    "%run ./codes/00_libraries.ipynb\n",
    "%run ./codes/01_constants_codes.ipynb\n",
    "%run ./codes/02_constants_test_cases.ipynb\n",
    "\n",
    "# Equations\n",
    "%run ./05_C_testcases.ipynb\n",
    "%run ./codes/06_testcases_conditions.ipynb\n",
    "%run ./codes/07_equations_functions.ipynb\n",
    "%run ./codes/08_equations_matrices.ipynb\n",
    "\n",
    "# Stability\n",
    "%run ./codes/10_stability_functions.ipynb\n",
    "%run ./codes/11_reference_conditions.ipynb\n",
    "\n",
    "# Finite-elements\n",
    "%run ./codes/18_initial_boundary_conditions.ipynb\n",
    "%run ./codes/19_fem_discretization.ipynb\n",
    "%run ./codes/20_variational_form.ipynb\n",
    "\n",
    "# Semi-discrete equations\n",
    "%run ./codes/22_semi_discretized.ipynb"
   ]
  },
  {
   "cell_type": "code",
   "execution_count": null,
   "metadata": {},
   "outputs": [],
   "source": []
  }
 ],
 "metadata": {
  "interpreter": {
   "hash": "38da386f580614e4c6a85824bff41beb4ebd8d62055fe5e2510efbe524b5bbb7"
  },
  "kernelspec": {
   "display_name": "Python 3.8.2 64-bit ('fenicsproject': conda)",
   "name": "python3"
  },
  "language_info": {
   "codemirror_mode": {
    "name": "ipython",
    "version": 3
   },
   "file_extension": ".py",
   "mimetype": "text/x-python",
   "name": "python",
   "nbconvert_exporter": "python",
   "pygments_lexer": "ipython3",
   "version": "3.10.4"
  },
  "metadata": {
   "interpreter": {
    "hash": "38da386f580614e4c6a85824bff41beb4ebd8d62055fe5e2510efbe524b5bbb7"
   }
  }
 },
 "nbformat": 4,
 "nbformat_minor": 4
}
