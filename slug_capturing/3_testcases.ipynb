{
 "metadata": {
  "language_info": {
   "codemirror_mode": {
    "name": "ipython",
    "version": 3
   },
   "file_extension": ".py",
   "mimetype": "text/x-python",
   "name": "python",
   "nbconvert_exporter": "python",
   "pygments_lexer": "ipython3",
   "version": "3.7.6"
  },
  "orig_nbformat": 2,
  "kernelspec": {
   "name": "python376jvsc74a57bd0dca0ade3e726a953b501b15e8e990130d2b7799f14cfd9f4271676035ebe5511",
   "display_name": "Python 3.7.6 64-bit ('base': conda)"
  }
 },
 "nbformat": 4,
 "nbformat_minor": 2,
 "cells": [
  {
   "source": [
    "## _Test cases parameters_\n",
    "- 1. Stability **(characteristics, dispersion, differential flow pattern maps)**\n",
    "- 2. Stiffness **(eigenspectra)**\n",
    "- 3. Discrete flow pattern maps\n",
    "- 4. Sensitivity charts\n",
    "- 5. Nonlinear simulations\n",
    "- 6. Verification **(KY equations)**"
   ],
   "cell_type": "markdown",
   "metadata": {}
  },
  {
   "source": [
    "## Properties"
   ],
   "cell_type": "markdown",
   "metadata": {}
  },
  {
   "cell_type": "code",
   "execution_count": null,
   "metadata": {},
   "outputs": [],
   "source": []
  },
  {
   "source": [
    "## Geometry"
   ],
   "cell_type": "markdown",
   "metadata": {}
  },
  {
   "cell_type": "code",
   "execution_count": null,
   "metadata": {},
   "outputs": [],
   "source": [
    "D = 0.078 # m, diameter\n",
    "L = 1 # m, pipe length\n"
   ]
  },
  {
   "source": [
    "## Equations"
   ],
   "cell_type": "markdown",
   "metadata": {}
  },
  {
   "cell_type": "code",
   "execution_count": null,
   "metadata": {},
   "outputs": [],
   "source": [
    "# # OPTIONS: system_1, system_2, system_3\n",
    "system = \"system_1\"\n",
    "\n",
    "# # OPTIONS: periodic, nonperiodic\n",
    "dirichlet_type = \"nonperiodic\"   "
   ]
  },
  {
   "source": [
    "## 1. Stability"
   ],
   "cell_type": "markdown",
   "metadata": {}
  },
  {
   "cell_type": "code",
   "execution_count": null,
   "metadata": {},
   "outputs": [],
   "source": [
    "# Maps\n",
    "minj_l = 1e-2 \n",
    "maxj_l = 1e1\n",
    "minj_g = 1e-1\n",
    "maxj_g = 30\n",
    "testpointsj_l = 100 # \n",
    "testpointsj_g = testpointsj_l\n",
    "\n",
    "betavectordeg = np.array ([0, 0.25, -5] ) # deg \n",
    "betavector = np.deg2rad(betavectordeg)\n",
    "testpointsbeta = len (betavector)\n",
    "\n",
    "# Scatter points shown in maps\n",
    "j_lcases = np.array ([0.05, 0.5, 0.7] )\n",
    "j_gcases = np.array ([0.829, 6.908, 10.0] )\n",
    "testpointsj_l_cases = len (j_lcases)\n",
    "testpointsj_g_cases = len (j_gcases)\n",
    "\n",
    "# Dispersion analysis\n",
    "epstest = DOLFIN_EPS/1e250\n",
    "minlambda = 1e-1\n",
    "maxlambda = 1e2\n",
    "testpointsdispersion = 1000\n",
    "steplambda = (maxlambda - epstest)/30 # for ticks in local stability analysis\n",
    "limitlog = 1e-6\n",
    "\n",
    "inf_omega = -1e3\n",
    "sup_omega = 1e5\n",
    "inf_lambda = minlambda\n",
    "sup_lambda = maxlambda\n",
    "\n",
    "# Regularization: artificial viscosities\n",
    "Gamma_lvector = np.array (  [[0, 1E-4, 1e-1], \n",
    "                            [0, 1E-4, 1e-1], \n",
    "                            [0, 0, 0]])\n",
    "nu_lvector = np.array ( [[0, 1e-10, 1e-1], \n",
    "                        [0, 1E-10, 1e-1],\n",
    "                        [0, 0, 0]])\n",
    "Gamma_gvector = Gamma_lvector\n",
    "nu_gvector = nu_lvector"
   ]
  },
  {
   "source": [
    "# Finite element methods"
   ],
   "cell_type": "markdown",
   "metadata": {}
  },
  {
   "source": [
    "## Initial and boundary conditions"
   ],
   "cell_type": "markdown",
   "metadata": {}
  },
  {
   "cell_type": "code",
   "execution_count": null,
   "metadata": {},
   "outputs": [],
   "source": [
    "# wavenumber = 2*DOLFIN_PI"
   ]
  },
  {
   "source": [
    "## Conditions"
   ],
   "cell_type": "markdown",
   "metadata": {}
  },
  {
   "cell_type": "code",
   "execution_count": null,
   "metadata": {},
   "outputs": [],
   "source": [
    "# # Study case # OPTIONS: case0, case1, case2, case3\n",
    "# case = \"case2\"\n",
    "\n",
    "# # Pipe inclination # OPTIONS: horizontal, upward_straight, downward_straight, v-section\n",
    "# inclination = \"horizontal\"\n",
    "# # Simulation # OPTIONS: stiffness, linear_stability, nonlinear_simulation\n",
    "# simulation = \"linear_stability\"         \n",
    "# # For \"linear stability\" or \"nonlinear\" # OPTIONS: semi_discretized, fully_discretized (nao funciona para muchos timesteps)\n",
    "# discretization = \"semi_discretized\"\n",
    "# # Element space # OPTIONS: TaylorHood, CG_elements, Mini, IPDG\n",
    "# elementspace = \"TaylorHood\"  \n",
    "# # For spatial discretization\n",
    "# nxvector = np.array ([40, 200, 1000])\n",
    "# # For Taylor-Hood element space degree of velocity spaces                                        \n",
    "# p = 2\n",
    "# # Viscous effects # OPTIONS: viscous, inviscid\n",
    "# viscous_terms = \"viscous\"\n",
    "# # Time integration method # OPTIONS: BDF1, BDF2, CN\n",
    "# time_method = \"BDF1\"\n",
    "# # Initial conditions # OPTIONS: SS , SS_perturbed\n",
    "# IBVP = \"SS\"\n",
    "# # For \"linear stability\" # OPTIONS: linear, nonlinear\n",
    "# effect = \"linear\"\n",
    "# # For \"linear stability\" # OPTIONS: transient_spectrum, no_transient_spectrum\n",
    "# eigenspectrum = \"transient_spectrum\"    \n",
    "\n",
    "# # Method for liquid volume fraction calculation # OPTIONS: var1_input, correlation\n",
    "# # var1_method = \"correlation\"\n",
    "# # For \"var1_input\"\n",
    "# # var1_in = 0.5 + DOLFIN_EPS\n",
    "# # ===============================================================\n",
    "# # For BDF2 first step\n",
    "# step_bdf2 = \"first\"\n",
    "# # CFL method # OPTIONS: liquid, gas, max_velocity, max_characteristic\n",
    "# base_CFL = \"max_characteristic\"\n",
    "# # CFL input # 0.7 Holmas, 0.978 Van Zwieten, 0.95 Bonzanini, 1 Sanderse, 0.22 Ferrari\n",
    "# CFL = 1                                                                               \n",
    "# # Time step method # OPTIONS: timestep_input, cfl_based\n",
    "# timestep= \"cfl_based\"                      \n",
    "# # For \"timestep_input\" # OPTIONS: 1e-5, 1/40\n",
    "# dt_input = 1/nxvector[0]\n",
    "# # Final time method # OPTIONS: T_cfl_based, T_input\n",
    "# T_simulation = \"T_cfl_based\"                    \n",
    "# # For \"T_cfl_based\"\n",
    "# num_steps = 1\n",
    "# # For \"T_input\"\n",
    "# T_in = 10                      \n"
   ]
  },
  {
   "source": [
    "## Test cases"
   ],
   "cell_type": "markdown",
   "metadata": {}
  },
  {
   "cell_type": "code",
   "execution_count": null,
   "metadata": {},
   "outputs": [],
   "source": [
    "\n",
    "# # ===============================================================\n",
    "# # Test cases\n",
    "# j_lcases = np.array ([0.0220, 0.05, 0.5, 0.74529647])\n",
    "# j_gcases = np.array ([0.4145, 0.829, 6.908, 10.0])\n",
    "\n",
    "# # Eigenvectors\n",
    "# # real_part = [[[ 0.,          8.74990254, 11.1287558 ],  # real part in eigenspectra of KH stability \n",
    "# #   [ 0.,          6.600037,    8.10323132],\n",
    "# #   [ 0.,          6.81624482,  8.46191724]],\n",
    "\n",
    "# #  [[ 5.47430223,  9.97152128, 12.41734012],\n",
    "# #   [ 3.23064053,  6.24315533,  7.96455965],\n",
    "# #   [ 0.,          6.51978708,  8.27631713]],\n",
    "\n",
    "# #  [[ 7.33320828, 14.28985473, 15.79895273],\n",
    "# #   [ 7.38596487, 14.30061954, 15.77221518],\n",
    "# #   [ 7.43649753, 14.23720754, 15.62292733]]]\n",
    "# # Effect of linear and nonlinear waves\n",
    "# if effect == \"linear\":\n",
    "#     waves_effect = 1\n",
    "# elif effect == \"nonlinear\":\n",
    "#     waves_effect = 1e4\n",
    "# # Effect of viscosity\n",
    "# if viscous_terms == \"viscous\":\n",
    "#     visc = 1\n",
    "# elif viscous_terms == \"inviscid\":\n",
    "#     visc = 0\n",
    "# # Body force\n",
    "# if dirichlet_type == \"nonperiodic\": \n",
    "#     Fbody = 0\n",
    "# elif dirichlet_type == \"periodic\": \n",
    "#     Fbody = 74.225\n",
    "# # Cases\n",
    "# if case == \"case0\":\n",
    "#     print (\"INFO: stratified smooth flow.\")\n",
    "#     j_l = j_lcases [0]\n",
    "#     j_g = j_gcases [0]\n",
    "#     l = 1\n",
    "# elif case == \"case1\":\n",
    "#     print (\"INFO: stratified smooth flow.\")\n",
    "#     j_l = j_lcases [1]\n",
    "#     j_g = j_gcases [1]\n",
    "#     l = 1\n",
    "# elif case == \"case2\":\n",
    "#     print (\"INFO: stratified smooth flow.\")\n",
    "#     j_l = j_lcases [2]\n",
    "#     j_g = j_gcases [2]\n",
    "#     l = 1\n",
    "# #     if inclination == 'horizontal':\n",
    "# #         ang_frequency = real_part[0][1][1]\n",
    "# #         eigenvector = waves_effect*np.asarray([ 0.00291852-2.81805376e-04j,  0.00293087-5.94800113e-05j, -0.05152862+1.02129577e-04j, -0.01828003-4.75631527e-02j])\n",
    "# #     elif inclination == 'upward_straight':\n",
    "# #         ang_frequency = real_part[1][1][1]\n",
    "# #         eigenvector = waves_effect*np.asarray([ 0.00293077-7.63974711e-05j,  0.00291226-3.30546793e-04j,\n",
    "# # -0.04625014-1.53188578e-03j, -0.00896813-4.52585614e-02j])\n",
    "# #     elif inclination == 'downward_straight':\n",
    "# #         ang_frequency = real_part[2][1][1]\n",
    "# #         eigenvector = waves_effect*np.asarray([ 0.68064619-0.73260641j,  0.04424159-0.99901655j, 0.74871756 - 0.65434661j,\n",
    "# #  - 0.79682783-0.59249731j])\n",
    "# elif case == \"case3\":\n",
    "#     print (\"INFO: stratified smooth flow.\")\n",
    "#     j_l = j_lcases [3]\n",
    "#     j_g = j_gcases [3]\n",
    "#     l = 1.\n",
    "# elif case == \"case4\":\n",
    "#     print (\"INFO: sanderse case B.\")\n",
    "#     j_l = 0.07\n",
    "#     j_g = 21.16\n",
    "#     l = 1.\n",
    "# elif case == \"case5\":\n",
    "#     print (\"INFO: sanderse case C.\")\n",
    "#     j_l = 0.015\n",
    "#     j_g = 0.23\n",
    "#     l = 1.\n",
    "# elif case == \"case6\":\n",
    "#     print (\"INFO: sanderse case D.\")\n",
    "#     j_l = 0.033\n",
    "#     j_g = 13.28\n",
    "#     l = 1.\n",
    "# elif case == \"case7\":\n",
    "#     print (\"INFO: sanderse wave growth.\")\n",
    "#     j_l = 0.15\n",
    "#     j_g = 10\n",
    "#     l = 1.\n",
    "# elif case == \"case8\":\n",
    "#     print (\"INFO: stratified flow Ferrari 1.\")\n",
    "#     j_l = 0.6\n",
    "#     j_g = 3.\n",
    "#     l = 36.\n",
    "# elif case == \"case9\":\n",
    "#     print (\"INFO: slug flow Ferrari 2.\")\n",
    "#     j_l = 1.5\n",
    "#     j_g = 2.0\n",
    "#     l = 36.\n",
    "# elif case == \"case10\":\n",
    "#     print (\"INFO: Montini well-posed.\")\n",
    "#     j_l = 0.4\n",
    "#     j_g = 3.\n",
    "#     l = 5\n",
    "# elif case == \"case11\":\n",
    "#     print (\"INFO: Montini ill-posed\")\n",
    "#     j_l = 0.532\n",
    "#     j_g = 6.532\n",
    "#     l = 5\n",
    "# elif case == \"case12\":\n",
    "#     print ('INFO:')\n",
    "#     j_l = 0.5\n",
    "#     j_g = 0.829\n",
    "#     l = 1\n",
    "# elif case == \"case13\":\n",
    "#     print ('INFO:')\n",
    "#     j_l = 0.5\n",
    "#     j_g = 0.7\n",
    "#     l = 1\n",
    "# else:\n",
    "#     print (\"ERROR: input case.\")\n",
    "# # Print pipe length\n",
    "# print (\"INFO: l =\", l)\n",
    "# # Beta\n",
    "# betavectordeg = np.array ([0, 0.25, -5] )   # deg \n",
    "# betavector = np.deg2rad(betavectordeg)\n",
    "# if inclination == \"horizontal\":\n",
    "#     beta = betavector[0]\n",
    "#     print (\"INFO: horizontal pipe.\")\n",
    "# elif inclination == \"upward_straight\":\n",
    "#     beta = betavector[1]\n",
    "#     print (\"INFO: upward straight pipe.\")\n",
    "# elif inclination == \"downward_straight\":\n",
    "#     beta = betavector[2]\n",
    "#     print (\"INFO: downward straight pipe.\")\n",
    "# elif inclination == \"vsection\":\n",
    "#     beta_1 = np.deg2rad (-0.5)\n",
    "#     beta_2 = np.deg2rad (0.3)\n",
    "#     # beta_1 = Constant (beta_1)\n",
    "#     # beta_2 = Constant (beta_2)\n",
    "#     # beta_fenics = Expression (\"x[0] < l/2 ? beta_1 : beta_2\", degee = 1)\n",
    "#     print(\"WARNING : is l = 14m + 23m ?\")\n",
    "# else:\n",
    "#     print (\"ERROR: inclination angle\")\n",
    "# # # For initial and boundary conditions\n",
    "# # wavenumber = 2*DOLFIN_PI\n",
    "# # For time discretization\n",
    "# # if time_method == 'BDF1':\n",
    "# #     a0 = 1.0\n",
    "# #     a1 = -1.0\n",
    "# #     a2 = 0.0\n",
    "# #     theta = 1.0\n",
    "# #     print ('INFO: first-order Backward differentiation formula time integration.')\n",
    "# # elif time_method == 'BDF2':\n",
    "# #     a0 = 3/2\n",
    "# #     a1 = -2.0\n",
    "# #     a2 = 1/2\n",
    "# #     theta = 1.0\n",
    "# #     print ('INFO: second-order Backward differentiation formula time integration.')\n",
    "# # elif time_method == 'CN':\n",
    "# #     a0 = 1.0\n",
    "# #     a1 = -1.0\n",
    "# #     a2 = 0.0\n",
    "# #     theta = 0.50\n",
    "# #     print ('INFO: Crank-Nicolson/trapezoidal time integration.')\n",
    "# # else:\n",
    "# #     print (\"ERROR: time discretization method.\")\n"
   ]
  },
  {
   "source": [
    "## Spatial discretization"
   ],
   "cell_type": "markdown",
   "metadata": {}
  },
  {
   "cell_type": "code",
   "execution_count": null,
   "metadata": {},
   "outputs": [],
   "source": []
  },
  {
   "source": [
    "## Time discretization"
   ],
   "cell_type": "markdown",
   "metadata": {}
  },
  {
   "cell_type": "code",
   "execution_count": null,
   "metadata": {},
   "outputs": [],
   "source": []
  },
  {
   "source": [
    "## 2. Stiffness"
   ],
   "cell_type": "markdown",
   "metadata": {}
  },
  {
   "cell_type": "code",
   "execution_count": null,
   "metadata": {},
   "outputs": [],
   "source": []
  },
  {
   "source": [
    "## 3. Discrete flow pattern maps "
   ],
   "cell_type": "markdown",
   "metadata": {}
  },
  {
   "cell_type": "code",
   "execution_count": null,
   "metadata": {},
   "outputs": [],
   "source": []
  },
  {
   "source": [
    "## 4. Sensitivity charts"
   ],
   "cell_type": "markdown",
   "metadata": {}
  },
  {
   "cell_type": "code",
   "execution_count": null,
   "metadata": {},
   "outputs": [],
   "source": []
  },
  {
   "source": [
    "## 5. Nonlinear simulations"
   ],
   "cell_type": "markdown",
   "metadata": {}
  },
  {
   "cell_type": "code",
   "execution_count": null,
   "metadata": {},
   "outputs": [],
   "source": []
  },
  {
   "source": [
    "## 6. (KY equations)"
   ],
   "cell_type": "markdown",
   "metadata": {}
  },
  {
   "cell_type": "code",
   "execution_count": null,
   "metadata": {},
   "outputs": [],
   "source": []
  }
 ]
}