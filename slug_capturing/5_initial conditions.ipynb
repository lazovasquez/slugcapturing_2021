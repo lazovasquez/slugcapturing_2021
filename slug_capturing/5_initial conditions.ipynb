{
 "metadata": {
  "language_info": {
   "codemirror_mode": {
    "name": "ipython",
    "version": 3
   },
   "file_extension": ".py",
   "mimetype": "text/x-python",
   "name": "python",
   "nbconvert_exporter": "python",
   "pygments_lexer": "ipython3",
   "version": "3.8.2"
  },
  "orig_nbformat": 2,
  "kernelspec": {
   "name": "python38264bitfenicsprojectcondabf159a8f9ce4443a8f5d4906e9a70930",
   "display_name": "Python 3.8.2 64-bit ('fenicsproject': conda)"
  },
  "metadata": {
   "interpreter": {
    "hash": "38da386f580614e4c6a85824bff41beb4ebd8d62055fe5e2510efbe524b5bbb7"
   }
  }
 },
 "nbformat": 4,
 "nbformat_minor": 2,
 "cells": [
  {
   "source": [
    "## Import"
   ],
   "cell_type": "markdown",
   "metadata": {}
  },
  {
   "cell_type": "code",
   "execution_count": 2,
   "metadata": {},
   "outputs": [],
   "source": [
    "%run ./0_libraries.ipynb\n",
    "%run ./1_constants.ipynb\n",
    "%run ./2_functions.ipynb\n",
    "%run ./3_testcases.ipynb\n",
    "%run ./4_functions.ipynb"
   ]
  },
  {
   "source": [
    "## Inputs\n",
    "Main inputs\n",
    "\n",
    "| No. | Input |\n",
    "| ------ | ------ |\n",
    "| 1 | system | \n",
    "| 2 | j_l | \n",
    "| 3 | j_g| \n",
    "| 4 | var4_0 | \n",
    "| 5 | beta | \n",
    "| 6 | rho_l | \n",
    "| 7 | p_factor | \n",
    "| 8 | mu_l | \n",
    "| 9 | mu_g |\n",
    "| 10 | D |\n",
    "\n",
    "## Calculation\n",
    "Pipe reference conditions"
   ],
   "cell_type": "markdown",
   "metadata": {}
  },
  {
   "cell_type": "code",
   "execution_count": null,
   "metadata": {},
   "outputs": [],
   "source": [
    "# # Computation of initial conditions for simulations\n",
    "# x0 = 0.001 #DOLFIN_EPS #0.001  #initial guess\n",
    "# var1 = 0.5\n",
    "# j_g = 0.829/2\n",
    "# var4 = var4_0\n",
    "# beta=0\n",
    "# j_lline = fsolve (equilibrium2, x0) #Python function x0 = 0.001#DOLFIN_EPS #0.001  #initial guess\n",
    "# print(\"j_g     = \", j_g)\n",
    "# print(\"j_l     = \", j_lline [0])\n",
    "# print(\"alpha_l = \", var1)"
   ]
  },
  {
   "source": [
    "# Initial conditions"
   ],
   "cell_type": "markdown",
   "metadata": {}
  },
  {
   "source": [
    "## Stratified smooth"
   ],
   "cell_type": "markdown",
   "metadata": {}
  },
  {
   "cell_type": "code",
   "execution_count": null,
   "metadata": {},
   "outputs": [],
   "source": [
    "# ref, Re_ref = ref_state (j_l, j_g, var4_0, beta, rho_l, p_factor, mu_l, mu_g, D)\n",
    "ref, Re_ref = ref_state (j_l, j_g, var4_0, beta, rho_l, p_factor, mu_l, mu_g, D)\n",
    "\n",
    "# Print reference conditions\n",
    "print (\"INFO: var1_ref = \", ref[0], \"[-]\")\n",
    "print (\"INFO: var2_ref = \", ref[1], \"[m/s]\")\n",
    "print (\"INFO: var3_ref = \", ref[2], \"[m/s]\")\n",
    "print (\"INFO: var4_ref = \", ref[3], \"[Pa]\")\n",
    "print (\" \")\n",
    "print (\"INFO: Rel_ref  = \", Re_ref[0], \"[-]\")\n",
    "print (\"INFO: Reg_ref  = \", Re_ref[1], \"[-]\")\n",
    "print (\"INFO: Regl_ref = \", Re_ref[2], \"[-]\")\n",
    "print (\" \")"
   ]
  },
  {
   "source": [
    "## Stratified wavy"
   ],
   "cell_type": "markdown",
   "metadata": {}
  },
  {
   "cell_type": "code",
   "execution_count": null,
   "metadata": {},
   "outputs": [],
   "source": [
    "# Exact solution for linear stability\n",
    "\n",
    "# varstrings = [r'$\\alpha_l$', '$u_l$', '$u_g$', '$p_i$']\n",
    "\n",
    "varstrings = [r'$\\alpha_l$', '$u_l$', '$u_g$', '$p_i$']\n",
    "waves = [\"acoustic1\", \"convective1\", \"convective2\", \"acoustic2\"]\n",
    "t_f = 5\n",
    "k = 2*pi\n",
    "omegatest = np.array ([-1758.05, 4.27, 8.48, 1931.47]) \n",
    "rtest = np.array ([ 1e-6 , 7.005e-7, 2.497e-5, -3.619e-4 ])\n",
    "\n",
    "alpha1test = 0.5935419531241909\n",
    "ref = np.array ([alpha1test, j_lcases[1]/alpha1test, j_gcases[1]/alpha1test , 1e5 ]) # deg \n",
    "epsplot = 1e-5\n",
    "\n",
    "\n",
    "i=0\n",
    "for i in range(4):\n",
    "    print(waves[i], \"wave\")\n",
    "    print(\"eigenvector =\", rtest[i])\n",
    "    fig   = plt.figure ()\n",
    "    ax    = fig.gca (projection='3d')\n",
    "\n",
    "    x     = np.linspace (0, L, 100)\n",
    "    y     = np.linspace (0, t_f, 100)\n",
    "\n",
    "    z     = ref[i] + rtest[i]*(np.exp ( 1j*(omegatest[2]*y-k*x))).real      # 1st alternative\n",
    "    z     = ref[i] + rtest[i]*(np.sin ((omegatest[2]*y-k*x)))               # 2nd alternative\n",
    "\n",
    "    ax.plot(x, y, z, color = listcolor [0])\n",
    "    matplotlib.rcParams ['legend.fontsize'] = 10\n",
    "\n",
    "    plt.rcParams ['figure.figsize'] = [12, 8]\n",
    "    # leg1  = ax.legend (loc = 'best', frameon = True, fontsize = 14);\n",
    "    plt.grid (True, which = \"both\")\n",
    "\n",
    "    ax.set_xlabel('s[m]', fontsize = 16)\n",
    "    ax.set_ylabel('t[s]', fontsize = 16)\n",
    "    ax.set_zlabel(varstrings[i], fontsize = 16)\n",
    "\n",
    "    ax.ticklabel_format(useOffset=False) #<<<<<<<<<<<<<<<<<<\n",
    "\n",
    "    sup_lim = ref[i] + rtest[i]\n",
    "    inf_lim = ref[i] - rtest[i]\n",
    "\n",
    "    ax.set_xlim ((0, L))\n",
    "    ax.set_ylim ((0, t_f))\n",
    "    ax.set_zlim((inf_lim, sup_lim))\n",
    "\n",
    "    plt.show()\n",
    "    i+=1\n"
   ]
  }
 ]
}