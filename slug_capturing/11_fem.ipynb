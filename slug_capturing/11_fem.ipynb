{
 "metadata": {
  "language_info": {
   "codemirror_mode": {
    "name": "ipython",
    "version": 3
   },
   "file_extension": ".py",
   "mimetype": "text/x-python",
   "name": "python",
   "nbconvert_exporter": "python",
   "pygments_lexer": "ipython3",
   "version": 3
  },
  "orig_nbformat": 2
 },
 "nbformat": 4,
 "nbformat_minor": 2,
 "cells": [
  {
   "source": [
    "## Conditions"
   ],
   "cell_type": "markdown",
   "metadata": {}
  },
  {
   "cell_type": "code",
   "execution_count": null,
   "metadata": {},
   "outputs": [],
   "source": [
    "# Shared facet for IPDG\n",
    "if elementspace == \"IPDG\":\n",
    "    parameters [\"ghost_mode\"] = \"shared_facet\"\n",
    "else:\n",
    "    pass"
   ]
  },
  {
   "source": [
    "## Functions"
   ],
   "cell_type": "markdown",
   "metadata": {}
  },
  {
   "cell_type": "code",
   "execution_count": null,
   "metadata": {},
   "outputs": [],
   "source": [
    "# Initial conditions\n",
    "class InitialConditions_SS (UserExpression):\n",
    "    def eval(self, values, x):\n",
    "        values[0] = ref[0]\n",
    "        values[1] = ref[1]\n",
    "        values[2] = ref[2]\n",
    "        values[3] = ref[3]\n",
    "    def value_shape(self):\n",
    "        return (4,)\n",
    "class InitialConditions_SS_perturbed (UserExpression):\n",
    "    def eval(self, values, x):\n",
    "        amplitude1 = (eigenvector[0]).real\n",
    "        amplitude2 = (eigenvector[1]).real\n",
    "        amplitude3 = (eigenvector[2]).real\n",
    "        amplitude4 = (eigenvector[3]).real\n",
    "        values[0] = ref[0] + amplitude1*cos (-k*x[0]) \n",
    "        values[1] = ref[1] + amplitude2*cos (-k*x[0]) \n",
    "        values[2] = ref[2] + amplitude3*cos (-k*x[0]) \n",
    "        values[3] = ref[3] + amplitude4*cos (-k*x[0]) \n",
    "    def value_shape(self):\n",
    "        return (4,)\n",
    "\n",
    "# Boundary conditions\n",
    "if elementspace == \"IPDG\": \n",
    "    # https://fenicsproject.org/docs/dolfin/2016.2.0/python/demo/documented/subdomains-poisson/python/documentation.html\n",
    "    # Inflow Dirichlet boundary condition\n",
    "    class Inflow (SubDomain):\n",
    "        def inside (self, x, on_boundary): \n",
    "            return (x[0] < DOLFIN_EPS) and on_boundary #near\n",
    "    # Ouflow Dirichlet boundary condition\n",
    "    class Outflow (SubDomain):\n",
    "        def inside (self, x, on_boundary): \n",
    "            return (x[0] > (l - DOLFIN_EPS)) and on_boundary #near\n",
    "    # Initialize sub-domain instances\n",
    "    inflow = Inflow ()\n",
    "    outflow = Outflow ()\n",
    "else:\n",
    "    # Inflow Dirichlet boundary condition\n",
    "    def Inflow (x, on_boundary): \n",
    "        return (x[0] < DOLFIN_EPS) and on_boundary\n",
    "    # Ouflow Dirichlet boundary condition\n",
    "    def Outflow (x, on_boundary): \n",
    "        return (x[0] > (l - DOLFIN_EPS)) and on_boundary\n",
    "\n",
    "# Periodic boundary conditions\n",
    "class PeriodicBoundary(SubDomain):\n",
    "    # Left boundary is \"target domain\" G\n",
    "    def inside(self, x, on_boundary):\n",
    "        return bool (x[0] < DOLFIN_EPS and x[0] > - DOLFIN_EPS and on_boundary)\n",
    "        # return bool (x[0] < (l + DOLFIN_EPS) and x[0] > (l - DOLFIN_EPS) and on_boundary)\n",
    "    # Map right boundary (H) to left boundary (G)\n",
    "    def map(self, x, y):\n",
    "          y[0] = x[0] - l\n",
    "        #   y[0] = l - x[0]\n",
    "\n",
    "# Define transient solver\n",
    "# def solver_input (R_input, variable_input, bcs_input, dF_input, form_compiler_parameters_input):\n",
    "#     problem = NonlinearVariationalProblem (R_input, variable_input, bcs = bcs_input, J = dF_input)#, form_compiler_parameters = form_compiler_parameters_input)\n",
    "\n",
    "#     transientsolver = NonlinearVariationalSolver (problem)\n",
    "#     prm = transientsolver.parameters\n",
    "#     info (prm, True)\n",
    "\n",
    "#     # Nonlinear solver\n",
    "#     prm ['nonlinear_solver'] = 'newton'\n",
    "#     # prm ['print_matrix']     = False #True\n",
    "#     # prm ['print_rhs']        = False #True\n",
    "#     # prm ['symmetric']        = False #True\n",
    "\n",
    "#     # Linear solver\n",
    "#     # prm ['newton_solver']['absolute_tolerance']      = 1e-1 #1E-8\n",
    "#     # prm ['newton_solver']['convergence_criterion']   = 'residual' #'residual' 'incremental'\n",
    "#     # prm ['newton_solver']['error_on_nonconvergence'] = True\n",
    "#     prm ['newton_solver']['linear_solver']           = 'umfpack' # 'bicgstab' 'cg' 'gmres' 'minres' 'petsc' 'richardson' 'superlu_dist' 'tfqmr' 'umfpack'\n",
    "#     # prm ['newton_solver']['maximum_iterations']      = 10000\n",
    "#     # prm ['newton_solver']['preconditioner']          = 'ilu' # 'ilu' 'icc' 'petsc_amg' 'sor'\n",
    "#     # prm ['newton_solver']['relative_tolerance']      = 1e-1\n",
    "#     # prm ['newton_solver']['relaxation_parameter']    = 1.0\n",
    "#     # prm ['newton_solver']['report']                  = True\n",
    "\n",
    "#     # Krylov solver\n",
    "#     # prm ['newton_solver']['krylov_solver']['absolute_tolerance']       = 1e-3 #1E-9\n",
    "#     # #     prm ['newton_solver']['krylov_solver']['error_on_nonconvergence']  = True\n",
    "#     # prm ['newton_solver']['krylov_solver']['maximum_iterations']       = 10000 # 500000\n",
    "#     # prm ['newton_solver']['krylov_solver'][\"monitor_convergence\"]      = True\n",
    "#     # prm ['newton_solver']['krylov_solver'][\"nonzero_initial_guess\"]    = True #False\n",
    "#     # prm ['newton_solver']['krylov_solver']['relative_tolerance']       = 1e-3\n",
    "#     # prm ['newton_solver']['krylov_solver']['report']                   = True\n",
    "        \n",
    "#     # LU solver\n",
    "#     # prm ['newton_solver']['lu_solver']['report']    = True\n",
    "#     # prm ['newton_solver']['lu_solver']['symmetric'] = False\n",
    "#     # prm ['newton_solver']['lu_solver']['verbose']   = True\n",
    "\n",
    "#     return prm ['nonlinear_solver'], prm ['newton_solver']['linear_solver']  \n"
   ]
  },
  {
   "source": [
    "## Spatial discretization"
   ],
   "cell_type": "markdown",
   "metadata": {}
  },
  {
   "cell_type": "code",
   "execution_count": null,
   "metadata": {},
   "outputs": [],
   "source": []
  },
  {
   "source": [
    "## Spatial discretization"
   ],
   "cell_type": "markdown",
   "metadata": {}
  },
  {
   "cell_type": "code",
   "execution_count": null,
   "metadata": {},
   "outputs": [],
   "source": []
  }
 ]
}