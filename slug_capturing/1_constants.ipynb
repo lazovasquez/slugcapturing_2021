{
 "metadata": {
  "language_info": {
   "codemirror_mode": {
    "name": "ipython",
    "version": 3
   },
   "file_extension": ".py",
   "mimetype": "text/x-python",
   "name": "python",
   "nbconvert_exporter": "python",
   "pygments_lexer": "ipython3",
   "version": "3.8.2"
  },
  "orig_nbformat": 2,
  "kernelspec": {
   "name": "python38264bitfenicsprojectcondabf159a8f9ce4443a8f5d4906e9a70930",
   "display_name": "Python 3.8.2 64-bit ('fenicsproject': conda)"
  },
  "metadata": {
   "interpreter": {
    "hash": "38da386f580614e4c6a85824bff41beb4ebd8d62055fe5e2510efbe524b5bbb7"
   }
  }
 },
 "nbformat": 4,
 "nbformat_minor": 2,
 "cells": [
  {
   "source": [
    "## _Constant parameters_\n",
    "1. Simulations\n",
    "2. Python functions\n",
    "3. Fenics\n",
    "4. Flor pattern maps\n",
    "5. Plots"
   ],
   "cell_type": "markdown",
   "metadata": {}
  },
  {
   "source": [
    "## 0. Properties\n",
    "> Note: fluid properties for air-water flows."
   ],
   "cell_type": "markdown",
   "metadata": {}
  },
  {
   "cell_type": "code",
   "execution_count": null,
   "metadata": {},
   "outputs": [],
   "source": [
    "# Phasic properties\n",
    "rho_l = 1000 # kg m^-3, liquid density (Montini)\n",
    "mu_l = 8.9e-4 # Pa s, liquid viscosity\n",
    "mu_g = 1.8e-5 # Pa s, gas viscosity# Phase properties\n",
    "c_g = 293.43 # Sanderse 2017\n",
    "\n",
    "# Outlt pressure\n",
    "var4_0 = 1e5 # Pa, outlet pressure (equilibrium state)\n",
    "p_factor = 1/c_g**2 \n",
    "\n",
    "# Roughness\n",
    "roughness = 1.0e-8 # m, pipe roughness\n",
    "# Gravity\n",
    "g = 9.8 # m/s^2"
   ]
  },
  {
   "source": [
    "## 2. Python functions"
   ],
   "cell_type": "markdown",
   "metadata": {}
  },
  {
   "cell_type": "code",
   "execution_count": null,
   "metadata": {},
   "outputs": [],
   "source": [
    "# Brenth interval guess\n",
    "lima = DOLFIN_EPS\n",
    "limb = 1 - lima\n",
    "\n",
    "# Fsolve initial guess\n",
    "x0 = 0.001"
   ]
  },
  {
   "source": [
    "## 3. Fenics"
   ],
   "cell_type": "markdown",
   "metadata": {}
  },
  {
   "cell_type": "code",
   "execution_count": null,
   "metadata": {},
   "outputs": [],
   "source": [
    "# Form compiler options\n",
    "parameters ['form_compiler']['representation'] = 'uflacs'\n",
    "parameters [\"form_compiler\"][\"optimize\"] = True\n",
    "parameters [\"form_compiler\"][\"cpp_optimize\"] = True\n",
    "\n",
    "# Other options\n",
    "# parameters [\"form_compiler\"]['precision'] = 50\n",
    "# parameters [\"form_compiler\"][\"cpp_optimize_flags\"] = \"-O3 -ffast-math -march=native\"\n",
    "# parameters [\"form_compiler\"][\"quadrature_degree\"] = 8\n",
    "# parameters [\"allow_extrapolation\"] = True\n",
    "# parameters [\"refinement_algorithm\"] = \"plaza_with_parent_facets\"\n",
    "# parameters [\"std_out_all_processes\"] = False; # Print log messages only from the root process in parallel\n",
    "\n",
    "# For linear and nonlinear solvers\n",
    "ffc_options = {\"optimize\": True, \\\n",
    "               \"eliminate_zeros\": True, \\\n",
    "               \"precompute_basis_const\": True, \\\n",
    "               \"precompute_ip_const\": True}\n",
    "\n",
    "# Test for PETSc and SLEPc\n",
    "if not has_linear_algebra_backend(\"PETSc\"):\n",
    "    print (\"DOLFIN has not been configured with PETSc. Exiting.\")\n",
    "    exit ()\n",
    "if not has_slepc ():\n",
    "    print (\"DOLFIN has not been configured with SLEPc. Exiting.\")\n",
    "    exit ()\n",
    "\n",
    "# Output file for simulations\n",
    "ff_variable1 = File (\"fem/variable1.pvd\", \"compressed\")\n",
    "ff_variable2 = File (\"fem/variable2.pvd\", \"compressed\")\n",
    "ff_variable3 = File (\"fem/variable3.pvd\", \"compressed\")\n",
    "ff_variable4 = File (\"fem/variable4.pvd\", \"compressed\")"
   ]
  },
  {
   "source": [
    "## 5. Plots"
   ],
   "cell_type": "markdown",
   "metadata": {}
  },
  {
   "cell_type": "code",
   "execution_count": null,
   "metadata": {},
   "outputs": [],
   "source": [
    "# Characteristics\n",
    "%matplotlib inline\n",
    "liststyles = [\"--\", \"-\", \"-.\", \".\"]\n",
    "listcolor = [\"k\", \"g\", \"b\", \"r\", \"none\"]\n",
    "listmarkers = [\"s\", \"o\", \"^\", \">\", \"<\", \"p\"]\n",
    "\n",
    "# Font\n",
    "font = {'family': 'Times New Roman',\n",
    "        'weight': 'normal',\n",
    "        'size': 18\n",
    "        }\n",
    "matplotlib.rc('font',family = 'Times New Roman')\n",
    "\n",
    "# Scatter\n",
    "area = 100\n",
    "\n",
    "# Maps\n",
    "mapsize = [12, 8]\n",
    "\n",
    "# Flow pattern maps\n",
    "var1linemaps = 0.5\n"
   ]
  }
 ]
}