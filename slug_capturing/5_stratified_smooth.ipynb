{
 "metadata": {
  "language_info": {
   "codemirror_mode": {
    "name": "ipython",
    "version": 3
   },
   "file_extension": ".py",
   "mimetype": "text/x-python",
   "name": "python",
   "nbconvert_exporter": "python",
   "pygments_lexer": "ipython3",
   "version": "3.8.2"
  },
  "orig_nbformat": 2,
  "kernelspec": {
   "name": "python38264bitfenicsprojectcondabf159a8f9ce4443a8f5d4906e9a70930",
   "display_name": "Python 3.8.2 64-bit ('fenicsproject': conda)"
  },
  "metadata": {
   "interpreter": {
    "hash": "38da386f580614e4c6a85824bff41beb4ebd8d62055fe5e2510efbe524b5bbb7"
   }
  }
 },
 "nbformat": 4,
 "nbformat_minor": 2,
 "cells": [
  {
   "source": [
    "## Import"
   ],
   "cell_type": "markdown",
   "metadata": {}
  },
  {
   "cell_type": "code",
   "execution_count": 2,
   "metadata": {},
   "outputs": [],
   "source": [
    "%run ./0_libraries.ipynb\n",
    "%run ./1_constants.ipynb\n",
    "%run ./2_functions.ipynb"
   ]
  },
  {
   "source": [
    "## Inputs\n",
    "Main inputs\n",
    "\n",
    "| No. | Input |\n",
    "| ------ | ------ |\n",
    "| 1 | system | \n",
    "| 2 | j_l | \n",
    "| 3 | j_g| \n",
    "| 4 | var4_0 | \n",
    "| 5 | beta | \n",
    "| 6 | rho_l | \n",
    "| 7 | p_factor | \n",
    "| 8 | mu_l | \n",
    "| 9 | mu_g |\n",
    "| 10 | D |\n",
    "\n",
    "## Calculation\n",
    "Pipe reference conditions"
   ],
   "cell_type": "markdown",
   "metadata": {}
  },
  {
   "cell_type": "code",
   "execution_count": null,
   "metadata": {},
   "outputs": [],
   "source": [
    "# # Computation of initial conditions for simulations\n",
    "# x0 = 0.001 #DOLFIN_EPS #0.001  #initial guess\n",
    "# var1 = 0.5\n",
    "# j_g = 0.829/2\n",
    "# var4 = var4_0\n",
    "# beta=0\n",
    "# j_lline = fsolve (equilibrium2, x0) #Python function x0 = 0.001#DOLFIN_EPS #0.001  #initial guess\n",
    "# print(\"j_g     = \", j_g)\n",
    "# print(\"j_l     = \", j_lline [0])\n",
    "# print(\"alpha_l = \", var1)"
   ]
  },
  {
   "source": [],
   "cell_type": "markdown",
   "metadata": {}
  },
  {
   "cell_type": "code",
   "execution_count": null,
   "metadata": {},
   "outputs": [],
   "source": [
    "# ref, Re_ref = ref_state (j_l, j_g, var4_0, beta, rho_l, p_factor, mu_l, mu_g, D)\n",
    "ref, Re_ref = ref_state (j_l, j_g, var4_0, beta, rho_l, p_factor, mu_l, mu_g, D)\n",
    "\n",
    "# Print reference conditions\n",
    "print (\"INFO: var1_ref = \", ref[0], \"[-]\")\n",
    "print (\"INFO: var2_ref = \", ref[1], \"[m/s]\")\n",
    "print (\"INFO: var3_ref = \", ref[2], \"[m/s]\")\n",
    "print (\"INFO: var4_ref = \", ref[3], \"[Pa]\")\n",
    "print (\" \")\n",
    "print (\"INFO: Rel_ref  = \", Re_ref[0], \"[-]\")\n",
    "print (\"INFO: Reg_ref  = \", Re_ref[1], \"[-]\")\n",
    "print (\"INFO: Regl_ref = \", Re_ref[2], \"[-]\")\n",
    "print (\" \")"
   ]
  }
 ]
}