{
 "metadata": {
  "language_info": {
   "codemirror_mode": {
    "name": "ipython",
    "version": 3
   },
   "file_extension": ".py",
   "mimetype": "text/x-python",
   "name": "python",
   "nbconvert_exporter": "python",
   "pygments_lexer": "ipython3",
   "version": 3
  },
  "orig_nbformat": 2
 },
 "nbformat": 4,
 "nbformat_minor": 2,
 "cells": [
  {
   "cell_type": "code",
   "execution_count": null,
   "metadata": {},
   "outputs": [],
   "source": [
    "def characteristics_function (Aeval, Beval):\n",
    "    # ===============================================================\n",
    "    # CHARACTERISTICS\n",
    "    # ===============================================================\n",
    "    # Matrices\n",
    "    # Aeval = np.asarray (Amat (ref[0], ref[1], ref[2], ref[3]))\n",
    "    # Beval = np.asarray (Bmat (ref[0], ref[1], ref[2], ref[3]))\n",
    "\n",
    "    m1, _ = eig (Beval, b = Aeval, overwrite_a = True, overwrite_b = True, check_finite = True)\n",
    "                \n",
    "    listreal1 = []\n",
    "    listimag1 = []\n",
    "\n",
    "    for l1 in range (len (m1)):\n",
    "        realpart1 = m1 [l1].real                \n",
    "        imagpart1 = m1 [l1].imag\n",
    "        \n",
    "        listimag1.append (imagpart1)\n",
    "        listreal1.append (realpart1)\n",
    "\n",
    "    maxchar = max (listreal1)\n",
    "\n",
    "    return listreal1, listimag1, maxchar\n",
    "    \n",
    "# # FUNCTION: \n",
    "# listreal1, listimag1, maxchar = characteristics_function (Aeval, Beval)"
   ]
  }
 ]
}