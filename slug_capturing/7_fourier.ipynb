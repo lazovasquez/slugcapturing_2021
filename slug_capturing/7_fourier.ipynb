{
 "metadata": {
  "language_info": {
   "codemirror_mode": {
    "name": "ipython",
    "version": 3
   },
   "file_extension": ".py",
   "mimetype": "text/x-python",
   "name": "python",
   "nbconvert_exporter": "python",
   "pygments_lexer": "ipython3",
   "version": 3
  },
  "orig_nbformat": 2
 },
 "nbformat": 4,
 "nbformat_minor": 2,
 "cells": [
  {
   "cell_type": "code",
   "execution_count": null,
   "metadata": {},
   "outputs": [],
   "source": [
    "def stability_function (Aeval, Beval, Ceval):\n",
    "    Acomplex   = Aeval.dot (1j)\n",
    "    Bcomplex   = Beval.dot (1j)\n",
    "\n",
    "    wavenumber = 2*DOLFIN_PI\n",
    "    m2, vect2 = eig ( (-wavenumber*Bcomplex - Ceval), b =  -Acomplex, overwrite_a = True, overwrite_b = True, check_finite = True) \n",
    "    listreal2 = []\n",
    "    listimag2 = []\n",
    "\n",
    "    for l2 in range (len (m2)):\n",
    "        realpart2 = m2 [l2].real                \n",
    "        imagpart2 = m2 [l2].imag\n",
    "        \n",
    "        listimag2.append (imagpart2)\n",
    "        listreal2.append (realpart2)\n",
    "\n",
    "    return listreal2, listimag2, m2, vect2\n",
    "\n",
    "# # FUNCTION: \n",
    "# listreal2, listimag2, m2, vect2 = stability_function (Aeval, Beval, Ceval)"
   ]
  }
 ]
}