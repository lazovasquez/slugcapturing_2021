{
 "metadata": {
  "language_info": {
   "codemirror_mode": {
    "name": "ipython",
    "version": 3
   },
   "file_extension": ".py",
   "mimetype": "text/x-python",
   "name": "python",
   "nbconvert_exporter": "python",
   "pygments_lexer": "ipython3",
   "version": "3.7.6"
  },
  "orig_nbformat": 2,
  "kernelspec": {
   "name": "python37664bitbaseconda16dfad7bec1e4d9aac2deca203d98c6d",
   "display_name": "Python 3.7.6 64-bit ('base': conda)"
  },
  "metadata": {
   "interpreter": {
    "hash": "dca0ade3e726a953b501b15e8e990130d2b7799f14cfd9f4271676035ebe5511"
   }
  }
 },
 "nbformat": 4,
 "nbformat_minor": 2,
 "cells": [
  {
   "source": [
    "## For reference (var1)"
   ],
   "cell_type": "markdown",
   "metadata": {}
  },
  {
   "cell_type": "code",
   "execution_count": null,
   "metadata": {},
   "outputs": [],
   "source": [
    "# liquid sectional area\n",
    "def A_l (var1):\n",
    "    return A*var1\n",
    "# gas sectional area\n",
    "def A_g (var1):\n",
    "    return A*(1 - var1)\n",
    "# stratification angle\n",
    "def gamma (var1):\n",
    "    return pi*(var1) + pow ((3.*pi/2.), (1./3.))*(1 - 2*(var1) + pow (abs (var1), (1./3.)) - pow (abs(1 - (var1)), (1/3))) - (1/200)*(1 - (var1))*(var1)*(1 - 2*(var1))*(1+4*((1 - (var1))**2 + (var1)**2))\n",
    "# def gamma (var1):\n",
    "#     return pi*(var1 + DOLFIN_EPS) + pow ((3.*pi/2.), (1./3.))*(1 - 2*(var1 + DOLFIN_EPS) + pow (abs (var1 + DOLFIN_EPS), (1./3.)) - pow (abs(1 - (var1 + DOLFIN_EPS)), (1/3))) - (1/200)*(1 - (var1 + DOLFIN_EPS))*(var1 + DOLFIN_EPS)*(1 - 2*(var1 + DOLFIN_EPS))*(1+4*((1 - (var1 + DOLFIN_EPS))**2 + (var1 + DOLFIN_EPS)**2))\n",
    "\n",
    "# liquid wetted perimeter\n",
    "def P_lw (var1):\n",
    "    return D*gamma (var1)\n",
    "# gas wetted perimeter\n",
    "def P_gw (var1):\n",
    "    return D*(pi - gamma (var1))\n",
    "# interface wetted perimeter\n",
    "def P_gl (var1):\n",
    "    return D*np.sin (gamma (var1))\n",
    "# liquid hydraulic diameter \n",
    "def Dh_l (var1):\n",
    "    return 4.*A_l (var1)/P_lw (var1)\n",
    "# gas hydraulic diameter \n",
    "def Dh_g (var1):\n",
    "    return 4.*A_g (var1)/(P_gw (var1) + P_gl (var1))\n",
    "#Gas density\n",
    "def rho_g (var4):\n",
    "    return p_factor*var4\n",
    "# def rho_g (var4):\n",
    "#     return p_factor*var4 + DOLFIN_EPS\n",
    "\n",
    "# liquid phase velocity\n",
    "def var2 (var1):\n",
    "    return j_l/(var1)\n",
    "# gas phase velocity\n",
    "def var3 (var1):\n",
    "    return j_g/(1 - var1)\n",
    "# liquid Reynolds number\n",
    "def Re_l (var1, var2):\n",
    "    return rho_l*var2*Dh_l (var1)/mu_l\n",
    "# gas Reynolds number\n",
    "def Re_g (var1, var3, var4):\n",
    "    return rho_g (var4)*var3*Dh_g (var1)/mu_g\n",
    "# interface hydraulic diameter \n",
    "def Dh_gl (var1):\n",
    "    return 4.*A_g (var1)/(P_gw (var1) + P_gl (var1))\n",
    "# interface Reynolds number\n",
    "def Re_gl (var1, var2, var3, var4):\n",
    "    return rho_g (var4)*abs(var3 - var2)*Dh_gl (var1)/mu_g\n",
    "# Friction factor liquid-wall\n",
    "def f_lw (var1, var2):\n",
    "    return 0.046*abs(Re_l (var1, var2))**(-0.2)\n",
    "# Friction factor gas-wall\n",
    "def f_gw (var1, var3, var4):\n",
    "    return 0.046*abs(Re_g (var1, var3, var4))**(-0.2)\n",
    "# interfacial friction\n",
    "def f_gl (var1, var2, var3, var4):\n",
    "    return max (f_gw (var1, var3, var4), 0.014)\n",
    "# Shear stress liquid-wall\n",
    "def tau_lw (var1, var2):\n",
    "    return 1/2*f_lw (var1, var2)*rho_l*var2*abs (var2)\n",
    "# gas shear stress\n",
    "def tau_gw (var1, var3, var4):\n",
    "    return 1/2*f_gw (var1, var3, var4)*rho_g (var4)*var3*abs (var3)\n",
    "# interface shear stress l\n",
    "def tau_gl (var1, var2, var3, var4):\n",
    "    return 1/2*f_gl(var1, var2, var3, var4)*rho_g (var4)*(var3 - var2)*abs (var3 - var2)\n",
    "\n",
    "# Equilibrium\n",
    "def equilibrium1 (var1): \n",
    "    return (rho_g (var4_0) - rho_l)*g*np.sin (beta) - tau_lw (var1, var2 (var1))*P_lw (var1)/A_l (var1) + tau_gw (var1, var3 (var1), var4_0)*P_gw (var1)/A_g (var1) + tau_gl (var1, var2 (var1), var3 (var1), var4_0)*P_gl (var1)*(1/A_l (var1) + 1/A_g (var1))"
   ]
  },
  {
   "source": [
    "## For reference (j_l)"
   ],
   "cell_type": "markdown",
   "metadata": {}
  },
  {
   "cell_type": "code",
   "execution_count": null,
   "metadata": {},
   "outputs": [],
   "source": [
    "# liquid phase velocity\n",
    "def var2b (j_l):\n",
    "    return j_l/(var1)\n",
    "# Equilibrium\n",
    "def equilibrium2 (j_l):  \n",
    "    return (rho_g (var4_0) - rho_l)*g*np.sin (beta) - tau_lw (var1, var2b (j_l))*P_lw (var1)/A_l (var1) + tau_gw (var1, var3 (var1), var4_0)*P_gw (var1)/A_g (var1) + tau_gl (var1, var2b (j_l), var3 (var1), var4_0)*P_gl (var1)*(1/A_l (var1) + 1/A_g (var1))"
   ]
  },
  {
   "source": [
    "## 1. Reference state\n",
    "find var1\n",
    "\n",
    "FUNCTION:\n",
    "ref, Re_ref = ref_state (j_l, j_g, var4_0, beta, rho_l, p_factor, mu_l, mu_g, D)"
   ],
   "cell_type": "markdown",
   "metadata": {}
  },
  {
   "cell_type": "code",
   "execution_count": null,
   "metadata": {},
   "outputs": [],
   "source": [
    "def ref_state (j_l, j_g, var4_0, beta, rho_l, p_factor, mu_l, mu_g, D):\n",
    "    # Reference state\n",
    "    var1_ref = brenth (equilibrium1, lima, limb)\n",
    "    var2_ref = j_l/var1_ref\n",
    "    var3_ref = j_g/(1 - var1_ref)\n",
    "    var4_ref = var4_0\n",
    "\n",
    "    ref = np.array ([var1_ref, var2_ref, var3_ref, var4_ref])\n",
    "    \n",
    "    # Reynolds number of initial conditions\n",
    "    Rel_ref = Re_l (var1_ref, var2_ref)\n",
    "    Reg_ref = Re_g (var1_ref, var3_ref, var4_ref)\n",
    "    Regl_ref = Re_gl (var1_ref, var2_ref, var3_ref, var4_ref)\n",
    "\n",
    "    # Reynolds reference conditions\n",
    "    Re_ref = np.array ([Rel_ref, Reg_ref, Regl_ref])\n",
    "\n",
    "    return ref, Re_ref"
   ]
  },
  {
   "source": [
    "## 2. Reference state\n",
    "Find j_l"
   ],
   "cell_type": "markdown",
   "metadata": {}
  },
  {
   "cell_type": "code",
   "execution_count": null,
   "metadata": {},
   "outputs": [],
   "source": [
    "def ref_state_jl (var1, j_g, var4_0, beta, rho_l, p_factor, mu_l, mu_g, D):\n",
    "    # Define j_l\n",
    "    j_l = fsolve (equilibrium2, x0) #Python function    \n",
    "\n",
    "    var1_ref = var1\n",
    "    var2_ref = j_l[0]/var1_ref\n",
    "    var3_ref = j_g/(1 - var1_ref)\n",
    "    var4_ref = var4_0\n",
    "\n",
    "    return np.array ([var1_ref, var2_ref, var3_ref, var4_ref])"
   ]
  },
  {
   "source": [
    "## For matrices"
   ],
   "cell_type": "markdown",
   "metadata": {}
  },
  {
   "cell_type": "code",
   "execution_count": null,
   "metadata": {},
   "outputs": [],
   "source": [
    "# critic diameter\n",
    "def Dc (var1):\n",
    "    return g*np.cos (beta)*pi*D/(4*np.sin (gamma (var1)))"
   ]
  },
  {
   "source": [
    "## For FEniCS"
   ],
   "cell_type": "markdown",
   "metadata": {}
  },
  {
   "cell_type": "code",
   "execution_count": null,
   "metadata": {},
   "outputs": [],
   "source": [
    "# def P_gl_fenics (var1):\n",
    "#     return D*sin (gamma (var1))\n",
    "\n",
    "# def Dh_g_fenics (var1):\n",
    "#     return 4.*A_g (var1)/(P_gw (var1) + P_gl_fenics (var1))\n",
    "\n",
    "# def Dh_gl_fenics (var1):\n",
    "#     return 4.*A_g (var1)/(P_gw (var1) + P_gl_fenics (var1))\n",
    "\n",
    "# def Dc_fenics (var1):\n",
    "#     return g*cos (beta)*pi*D/(4*sin (gamma (var1)))\n",
    "\n",
    "# def Re_g_fenics (var1, var3, var4):\n",
    "#     return rho_g (var4)*var3*Dh_g_fenics (var1)/mu_g\n",
    "\n",
    "# def Re_gl_fenics (var1, var2, var3, var4):\n",
    "#     return rho_g (var4)*abs(var3 - var2)*Dh_gl_fenics (var1)/mu_g\n",
    "\n",
    "# def f_lw_fenics (var1, var2):\n",
    "#     Af_lw = pow (2.457*ln (pow (pow (abs (7/Re_l (var1, var2)), 0.9) + 0.27*roughness/Dh_l (var1), -1)), 16)\n",
    "#     Bf_lw = pow (abs (37530/Re_l (var1, var2)), 16)\n",
    "#     return 2*pow (pow (abs (8/Re_l (var1, var2)), 12) + pow (abs (Af_lw + Bf_lw), - 1.5), 1/12)\n",
    "\n",
    "# def f_gw_fenics (var1, var3, var4):\n",
    "#     Af_gw = pow (2.457*ln (pow (pow (abs (7/Re_g_fenics (var1, var3, var4)), 0.9) + 0.27*roughness/Dh_g_fenics (var1), - 1)), 16)\n",
    "#     Bf_gw = pow (abs (37530/Re_g_fenics (var1, var3, var4)), 16)\n",
    "#     return 2*pow (pow (abs (8/Re_g_fenics (var1, var3, var4)), 12) + pow (abs (Af_gw + Bf_gw), - 1.5), 1/12)\n",
    "\n",
    "# def f_gl_fenics (var1, var2, var3, var4):\n",
    "#     return max (f_gw_fenics (var1, var3, var4), 0.014)\n",
    "\n",
    "# def tau_gw_fenics (var1, var3, var4):\n",
    "#     return 1/2*f_gw_fenics (var1, var3, var4)*rho_g (var4)*var3*abs (var3)\n",
    "\n",
    "# def tau_gl_fenics (var1, var2, var3, var4):\n",
    "#     return 1/2*f_gl_fenics (var1, var2, var3, var4)*rho_g (var4)*(var3 - var2)*abs (var3 - var2)\n",
    " "
   ]
  }
 ]
}