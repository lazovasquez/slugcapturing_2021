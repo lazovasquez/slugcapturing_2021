{
 "metadata": {
  "language_info": {
   "codemirror_mode": {
    "name": "ipython",
    "version": 3
   },
   "file_extension": ".py",
   "mimetype": "text/x-python",
   "name": "python",
   "nbconvert_exporter": "python",
   "pygments_lexer": "ipython3",
   "version": "3.8.2"
  },
  "orig_nbformat": 2,
  "kernelspec": {
   "name": "python3",
   "display_name": "Python 3.8.2 64-bit ('fenicsproject': conda)"
  },
  "interpreter": {
   "hash": "38da386f580614e4c6a85824bff41beb4ebd8d62055fe5e2510efbe524b5bbb7"
  }
 },
 "nbformat": 4,
 "nbformat_minor": 2,
 "cells": [
  {
   "cell_type": "markdown",
   "source": [
    "## Type of simulation\n",
    "> Choose the equation system, type of simulation or stability analysis and validation data."
   ],
   "metadata": {}
  },
  {
   "cell_type": "code",
   "execution_count": 1,
   "source": [
    "# Simulation\n",
    "simulation = 1 # OPT: 1. differential maps\n",
    "                    # 2. stiffness\n",
    "                    # 3. linear simulation\n",
    "                    # 4. nonlinear simulation\n",
    "# Element function space\n",
    "elementspace = 2 # OPT: 1. CG\n",
    "                        # 2. TH\n",
    "                        # 3. Mini\n",
    "                        # 4. IPDG\n"
   ],
   "outputs": [],
   "metadata": {}
  },
  {
   "cell_type": "markdown",
   "source": [
    "## Cases\n",
    "> Choose test case and inclination angle."
   ],
   "metadata": {}
  },
  {
   "cell_type": "code",
   "execution_count": null,
   "source": [
    "# Study case \n",
    "case = 0 # OPT: 0. Case 0\n",
    "                # 1. Case 1\n",
    "                # 2. Case 2\n",
    "# Pipe inclination \n",
    "inclination = 1 # OPT: 1. Horizontal\n",
    "                        # 2. Upward straight\n",
    "                        # 3. Downward straight\n",
    "                        # 4. V-section\n",
    "# Highest order of basis functions. If CG (p for all variables), if TH (p for velocities, p-1 for the other variables)                       \n",
    "p = 2\n",
    "# Number of elements\n",
    "nx = 40"
   ],
   "outputs": [],
   "metadata": {}
  },
  {
   "cell_type": "markdown",
   "source": [
    "## Flow pattern maps\n",
    "> Number of test points and data for validation"
   ],
   "metadata": {}
  },
  {
   "cell_type": "code",
   "execution_count": null,
   "source": [
    "# Flow pattern maps\n",
    "testpointsj_l = 5000\n",
    "validation = 1 # OPT: 1. khinstabilities (Sanderse et al. 2017)\n",
    "                    # 2. experimental (Barnea and Taitel, 1994)\n",
    "                    # 3. linear (Sanderse et al. 2017)\n",
    "                    # 4. nonlinear (Issa and Kempf, 2003)\n",
    "                    # 5. nonlinear (Montini, 2011)"
   ],
   "outputs": [],
   "metadata": {}
  }
 ]
}