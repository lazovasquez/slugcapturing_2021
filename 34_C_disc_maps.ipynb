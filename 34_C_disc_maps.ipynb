{
 "cells": [
  {
   "cell_type": "markdown",
   "source": [
    "# Input codes\n",
    "> Import notebooks\n"
   ],
   "metadata": {}
  },
  {
   "cell_type": "code",
   "execution_count": null,
   "source": [
    "# Basic notebooks\n",
    "%run ./codes/00_libraries.ipynb\n",
    "%run ./codes/01_constants_codes.ipynb\n",
    "%run ./codes/02_constants_test_cases.ipynb\n",
    "\n",
    "# Test cases and equations\n",
    "%run ./05_C_testcases.ipynb\n",
    "%run ./codes/06_testcases_conditions.ipynb\n",
    "%run ./codes/07_equations_functions.ipynb\n",
    "%run ./codes/08_equations_matrices.ipynb\n",
    "\n",
    "# Stability and well-posedness\n",
    "%run ./codes/10_stability_functions.ipynb\n",
    "%run ./codes/12_stability_maps_well_posedness.ipynb\n",
    "\n",
    "# Finite elements\n"
   ],
   "outputs": [],
   "metadata": {}
  },
  {
   "cell_type": "markdown",
   "source": [
    "# Discrete flow pattern maps\n",
    "\n",
    "> Differential + discrete + validation flow pattern maps."
   ],
   "metadata": {}
  },
  {
   "cell_type": "code",
   "execution_count": null,
   "source": [
    "%run ./codes/14_stability_maps_fourier_discrete.ipynb"
   ],
   "outputs": [],
   "metadata": {
    "tags": []
   }
  }
 ],
 "metadata": {
  "kernelspec": {
   "name": "python3",
   "display_name": "Python 3.8.2 64-bit ('fenicsproject': conda)"
  },
  "language_info": {
   "codemirror_mode": {
    "name": "ipython",
    "version": 3
   },
   "file_extension": ".py",
   "mimetype": "text/x-python",
   "name": "python",
   "nbconvert_exporter": "python",
   "pygments_lexer": "ipython3",
   "version": "3.8.2"
  },
  "metadata": {
   "interpreter": {
    "hash": "38da386f580614e4c6a85824bff41beb4ebd8d62055fe5e2510efbe524b5bbb7"
   }
  },
  "interpreter": {
   "hash": "38da386f580614e4c6a85824bff41beb4ebd8d62055fe5e2510efbe524b5bbb7"
  }
 },
 "nbformat": 4,
 "nbformat_minor": 4
}