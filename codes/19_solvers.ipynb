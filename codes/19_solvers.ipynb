{
 "metadata": {
  "language_info": {
   "codemirror_mode": {
    "name": "ipython",
    "version": 3
   },
   "file_extension": ".py",
   "mimetype": "text/x-python",
   "name": "python",
   "nbconvert_exporter": "python",
   "pygments_lexer": "ipython3",
   "version": "3.8.2"
  },
  "orig_nbformat": 4,
  "kernelspec": {
   "name": "python3",
   "display_name": "Python 3.8.2 64-bit ('fenicsproject': conda)"
  },
  "interpreter": {
   "hash": "38da386f580614e4c6a85824bff41beb4ebd8d62055fe5e2510efbe524b5bbb7"
  }
 },
 "nbformat": 4,
 "nbformat_minor": 2,
 "cells": [
  {
   "source": [
    "### Stiffness solver"
   ],
   "cell_type": "markdown",
   "metadata": {}
  },
  {
   "cell_type": "code",
   "execution_count": null,
   "metadata": {},
   "outputs": [],
   "source": [
    "# https://fenicsproject.org/docs/dolfin/1.4.0/python/programmers-reference/cpp/la/SLEPcEigenSolver.html\n",
    "# PETScOptions.set (\"st_ksp_type\", \"preonly\")\n",
    "# PETScOptions.set (\"st_pc_type\", \"lu\")\n",
    "# PETScOptions.set (\"st_pc_factor_mat_solver_package\", \"mumps\")\n",
    "\n",
    "# Create eigensolver\n",
    "eigensolver = SLEPcEigenSolver (A_stiffness) #(A, B)\n",
    "prm1 = eigensolver.parameters \n",
    "PETScOptions.set (\"eps_view\")\n",
    "prm1[\"solver\"] = \"subspace\" # OPTIONS: \"krylov-schur\", \"arnoldi\", \"power\", \"subspace\"\n",
    "prm1[\"problem_type\"] = \"non_hermitian\" # OPTIONS: \"gen_hermitian\", \"non_hermitian\"\n",
    "# prm1[\"spectrum\"] = \"target magnitude\" # OPTIONS: \"target magnitude\", \"largest magnitude\"\n",
    "# prm1[\"spectral_transform\"] = \"shift-and-invert\" # OPTIONS: \"shift-and-invert\"\n",
    "# prm1[\"spectral_shift\"] = 0.9\n",
    "# neigs = 12"
   ]
  },
  {
   "source": [
    "### Transient solver"
   ],
   "cell_type": "markdown",
   "metadata": {}
  },
  {
   "cell_type": "code",
   "execution_count": null,
   "metadata": {},
   "outputs": [],
   "source": [
    "def solver_input (R_input, variable_input, bcs_input, dF_input, form_compiler_parameters_input):\n",
    "    problem = NonlinearVariationalProblem (R_input, variable_input, bcs = bcs_input, J = dF_input)#, form_compiler_parameters = form_compiler_parameters_input)\n",
    "\n",
    "    transientsolver = NonlinearVariationalSolver (problem)\n",
    "    prm = transientsolver.parameters\n",
    "    info (prm, True)\n",
    "\n",
    "    # Nonlinear solver\n",
    "    prm ['nonlinear_solver'] = 'newton'\n",
    "    # prm ['print_matrix'] = False #True\n",
    "    # prm ['print_rhs'] = False #True\n",
    "    # prm ['symmetric'] = False #True\n",
    "\n",
    "    # Linear solver\n",
    "    # prm ['newton_solver']['absolute_tolerance'] = 1e-1 #1E-8\n",
    "    # prm ['newton_solver']['convergence_criterion'] = 'residual' #'residual' 'incremental'\n",
    "    # prm ['newton_solver']['error_on_nonconvergence'] = True\n",
    "    prm ['newton_solver']['linear_solver'] = 'umfpack' # 'bicgstab' 'cg' 'gmres' 'minres' 'petsc' 'richardson' 'superlu_dist' 'tfqmr' 'umfpack'\n",
    "    # prm ['newton_solver']['maximum_iterations'] = 10000\n",
    "    # prm ['newton_solver']['preconditioner'] = 'ilu' # 'ilu' 'icc' 'petsc_amg' 'sor'\n",
    "    # prm ['newton_solver']['relative_tolerance'] = 1e-1\n",
    "    # prm ['newton_solver']['relaxation_parameter'] = 1.0\n",
    "    # prm ['newton_solver']['report'] = True\n",
    "\n",
    "    # Krylov solver\n",
    "    # prm ['newton_solver']['krylov_solver']['absolute_tolerance'] = 1e-3 #1E-9\n",
    "    # #     prm ['newton_solver']['krylov_solver']['error_on_nonconvergence'] = True\n",
    "    # prm ['newton_solver']['krylov_solver']['maximum_iterations'] = 10000 # 500000\n",
    "    # prm ['newton_solver']['krylov_solver'][\"monitor_convergence\"] = True\n",
    "    # prm ['newton_solver']['krylov_solver'][\"nonzero_initial_guess\"] = True #False\n",
    "    # prm ['newton_solver']['krylov_solver']['relative_tolerance'] = 1e-3\n",
    "    # prm ['newton_solver']['krylov_solver']['report'] = True\n",
    "        \n",
    "    # LU solver\n",
    "    # prm ['newton_solver']['lu_solver']['report'] = True\n",
    "    # prm ['newton_solver']['lu_solver']['symmetric'] = False\n",
    "    # prm ['newton_solver']['lu_solver']['verbose'] = True\n",
    "\n",
    "    return prm ['nonlinear_solver'], prm ['newton_solver']['linear_solver']  "
   ]
  },
  {
   "source": [
    "### Nonlinear solver"
   ],
   "cell_type": "markdown",
   "metadata": {}
  },
  {
   "cell_type": "code",
   "execution_count": null,
   "metadata": {},
   "outputs": [],
   "source": []
  }
 ]
}