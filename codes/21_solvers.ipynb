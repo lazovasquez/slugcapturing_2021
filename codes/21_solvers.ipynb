{
 "metadata": {
  "language_info": {
   "codemirror_mode": {
    "name": "ipython",
    "version": 3
   },
   "file_extension": ".py",
   "mimetype": "text/x-python",
   "name": "python",
   "nbconvert_exporter": "python",
   "pygments_lexer": "ipython3",
   "version": "3.8.2"
  },
  "orig_nbformat": 4,
  "kernelspec": {
   "name": "python3",
   "display_name": "Python 3.8.2 64-bit ('fenicsproject': conda)"
  },
  "interpreter": {
   "hash": "38da386f580614e4c6a85824bff41beb4ebd8d62055fe5e2510efbe524b5bbb7"
  }
 },
 "nbformat": 4,
 "nbformat_minor": 2,
 "cells": [
  {
   "cell_type": "markdown",
   "source": [
    "### Stiffness solver"
   ],
   "metadata": {}
  },
  {
   "cell_type": "code",
   "execution_count": null,
   "source": [
    "def solver_stiffness (matrix):\n",
    "    eigensolver = SLEPcEigenSolver (matrix) #(A, B)\n",
    "    PETScOptions.set (\"eps_view\")\n",
    "    eigensolver.parameters[\"solver\"] = \"subspace\" # OPTIONS: \"krylov-schur\", \"arnoldi\", \"power\", \"subspace\"\n",
    "    eigensolver.parameters[\"problem_type\"] = \"non_hermitian\" # OPTIONS: \"gen_hermitian\", \"non_hermitian\"\n",
    "    # eigensolver.parameters[\"spectrum\"] = \"target magnitude\" # OPTIONS: \"target magnitude\", \"largest magnitude\"\n",
    "    # eigensolver.parameters[\"spectral_transform\"] = \"shift-and-invert\" # OPTIONS: \"shift-and-invert\"\n",
    "    # eigensolver.parameters[\"spectral_shift\"] = 0.9\n",
    "    # neigs = 12\n",
    "\n",
    "    # Compute all eigenvalues of A x = \\lambda x\n",
    "    eigensolver.solve () #(neigs)\n",
    "\n",
    "    #Exporting the real part of the eigenvectors and plotting eigenvalues\n",
    "    Real = []\n",
    "    Imag = []\n",
    "\n",
    "    for i in range (eigensolver.get_number_converged ()):\n",
    "        r, c, rv, cv = eigensolver.get_eigenpair (i)\n",
    "\n",
    "        # Real part of eigenvalues\n",
    "        Real.append (r)\n",
    "        Imag.append (c)\n",
    "\n",
    "    return Real, Imag"
   ],
   "outputs": [],
   "metadata": {}
  },
  {
   "cell_type": "markdown",
   "source": [
    "### Transient linear simulations solver"
   ],
   "metadata": {}
  },
  {
   "cell_type": "code",
   "execution_count": null,
   "source": [
    "# transientsolver = solver_linear (R_input, variable_input, bcs_input, dF_input)\n",
    "\n",
    "def solver_linear (R_input, variable_input, bcs_input, dF_input): # ,form_compiler_parameters_input):\n",
    "    problem = NonlinearVariationalProblem (R_input, variable_input, bcs = bcs_input, J = dF_input)#, form_compiler_parameters = form_compiler_parameters_input)\n",
    "\n",
    "    transientsolver = NonlinearVariationalSolver (problem)\n",
    "\n",
    "    prm = transientsolver.parameters\n",
    "    # info (prm, True)\n",
    "\n",
    "    # Nonlinear solver\n",
    "    prm ['nonlinear_solver'] = 'newton'\n",
    "    # prm ['print_matrix'] = False #True\n",
    "    # prm ['print_rhs'] = False #True\n",
    "    # prm ['symmetric'] = False #True\n",
    "\n",
    "    # Linear solver\n",
    "    # prm ['newton_solver']['absolute_tolerance'] = 1e-1 #1E-8\n",
    "    # prm ['newton_solver']['convergence_criterion'] = 'residual' #'residual' 'incremental'\n",
    "    # prm ['newton_solver']['error_on_nonconvergence'] = True\n",
    "    prm ['newton_solver']['linear_solver'] = 'umfpack' # 'bicgstab' 'cg' 'gmres' 'minres' 'petsc' 'richardson' 'superlu_dist' 'tfqmr' 'umfpack'\n",
    "    # prm ['newton_solver']['maximum_iterations'] = 10000\n",
    "    # prm ['newton_solver']['preconditioner'] = 'ilu' # 'ilu' 'icc' 'petsc_amg' 'sor'\n",
    "    # prm ['newton_solver']['relative_tolerance'] = 1e-1\n",
    "    # prm ['newton_solver']['relaxation_parameter'] = 1.0\n",
    "    # prm ['newton_solver']['report'] = True\n",
    "\n",
    "    # Krylov solver\n",
    "    # prm ['newton_solver']['krylov_solver']['absolute_tolerance'] = 1e-3 #1E-9\n",
    "    # #     prm ['newton_solver']['krylov_solver']['error_on_nonconvergence'] = True\n",
    "    # prm ['newton_solver']['krylov_solver']['maximum_iterations'] = 10000 # 500000\n",
    "    # prm ['newton_solver']['krylov_solver'][\"monitor_convergence\"] = True\n",
    "    # prm ['newton_solver']['krylov_solver'][\"nonzero_initial_guess\"] = True #False\n",
    "    # prm ['newton_solver']['krylov_solver']['relative_tolerance'] = 1e-3\n",
    "    # prm ['newton_solver']['krylov_solver']['report'] = True\n",
    "        \n",
    "    # LU solver\n",
    "    # prm ['newton_solver']['lu_solver']['report'] = True\n",
    "    # prm ['newton_solver']['lu_solver']['symmetric'] = False\n",
    "    # prm ['newton_solver']['lu_solver']['verbose'] = True\n",
    "\n",
    "    return transientsolver"
   ],
   "outputs": [],
   "metadata": {}
  },
  {
   "cell_type": "markdown",
   "source": [
    "### Transient Nonlinear simulations solver"
   ],
   "metadata": {}
  },
  {
   "cell_type": "code",
   "execution_count": null,
   "source": [
    "def solver_nonlinear (R_input, variable_input, bcs_input, dF_input, form_compiler_parameters_input):\n",
    "    problem = NonlinearVariationalProblem (R_input, variable_input, bcs = bcs_input, J = dF_input)#, form_compiler_parameters = form_compiler_parameters_input)\n",
    "\n",
    "    transientsolver = NonlinearVariationalSolver (problem)\n",
    "    prm = transientsolver.parameters\n",
    "    # info (prm, True)\n",
    "\n",
    "    # Nonlinear solver\n",
    "    # prm ['nonlinear_solver'] = 'newton'\n",
    "    # prm ['print_matrix'] = False #True\n",
    "    # prm ['print_rhs'] = False #True\n",
    "    # prm ['symmetric'] = False #True\n",
    "\n",
    "    # Linear solver\n",
    "    # prm ['newton_solver']['absolute_tolerance'] = 1e-1 #1E-8\n",
    "    # prm ['newton_solver']['convergence_criterion'] = 'residual' #'residual' 'incremental'\n",
    "    # prm ['newton_solver']['error_on_nonconvergence'] = True\n",
    "    prm ['newton_solver']['linear_solver'] = 'umfpack' # 'bicgstab' 'cg' 'gmres' 'minres' 'petsc' 'richardson' 'superlu_dist' 'tfqmr' 'umfpack'\n",
    "    # prm ['newton_solver']['maximum_iterations'] = 10000\n",
    "    # prm ['newton_solver']['preconditioner'] = 'ilu' # 'ilu' 'icc' 'petsc_amg' 'sor'\n",
    "    # prm ['newton_solver']['relative_tolerance'] = 1e-1\n",
    "    # prm ['newton_solver']['relaxation_parameter'] = 1.0\n",
    "    # prm ['newton_solver']['report'] = True\n",
    "\n",
    "    # Krylov solver\n",
    "    # prm ['newton_solver']['krylov_solver']['absolute_tolerance'] = 1e-3 #1E-9\n",
    "    # #     prm ['newton_solver']['krylov_solver']['error_on_nonconvergence'] = True\n",
    "    # prm ['newton_solver']['krylov_solver']['maximum_iterations'] = 10000 # 500000\n",
    "    # prm ['newton_solver']['krylov_solver'][\"monitor_convergence\"] = True\n",
    "    # prm ['newton_solver']['krylov_solver'][\"nonzero_initial_guess\"] = True #False\n",
    "    # prm ['newton_solver']['krylov_solver']['relative_tolerance'] = 1e-3\n",
    "    # prm ['newton_solver']['krylov_solver']['report'] = True\n",
    "        \n",
    "    # LU solver\n",
    "    # prm ['newton_solver']['lu_solver']['report'] = True\n",
    "    # prm ['newton_solver']['lu_solver']['symmetric'] = False\n",
    "    # prm ['newton_solver']['lu_solver']['verbose'] = True\n",
    "\n",
    "    return prm ['nonlinear_solver'], prm ['newton_solver']['linear_solver']  "
   ],
   "outputs": [],
   "metadata": {}
  }
 ]
}