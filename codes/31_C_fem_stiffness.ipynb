{
 "cells": [
  {
   "cell_type": "markdown",
   "source": [
    "## VARIABLES: numerical solution\n",
    "\n",
    "- variable1: liquid volume fraction (alpha_l)\n",
    "- variable2: liquid velocity (u_l)\n",
    "- variable3: gas velocity (u_g)\n",
    "- variable4: interfacial pressure (p_i)"
   ],
   "metadata": {}
  },
  {
   "cell_type": "code",
   "execution_count": 1,
   "source": [
    "# Import libraries\n",
    "%run ./00_libraries.ipynb\n",
    "%run ./01_constants_codes.ipynb\n",
    "%run ./02_constants_test_cases.ipynb\n",
    "\n",
    "%run ./05_C_testcases.ipynb\n",
    "%run ./06_testcases_conditions.ipynb\n",
    "%run ./07_equations_functions.ipynb\n",
    "%run ./08_equations_matrices.ipynb\n",
    "\n",
    "%run ./10_stability_functions.ipynb\n",
    "%run ./11_reference_conditions.ipynb\n",
    "\n",
    "%run ./18_fem_discretization.ipynb\n",
    "%run ./19_initial_boundary_conditions.ipynb\n",
    "%run ./20_variational_form.ipynb\n",
    "%run ./21_solvers.ipynb\n",
    "\n",
    "%run ./22_semi_discretized.ipynb"
   ],
   "outputs": [
    {
     "output_type": "stream",
     "name": "stdout",
     "text": [
      "Inclination =  horizontal\n",
      "INFO: case1 horizontal unstable (Sanderse et al., 2017)\n",
      "Diameter =  0.078\n",
      "Validation =  KH instabilities based (Sanderse et al., 2017)\n",
      "INFO: BDF1 first-order Backward differentiation formula time integration.\n"
     ]
    }
   ],
   "metadata": {}
  }
 ],
 "metadata": {
  "kernelspec": {
   "name": "python3",
   "display_name": "Python 3.8.2 64-bit ('fenicsproject': conda)"
  },
  "language_info": {
   "codemirror_mode": {
    "name": "ipython",
    "version": 3
   },
   "file_extension": ".py",
   "mimetype": "text/x-python",
   "name": "python",
   "nbconvert_exporter": "python",
   "pygments_lexer": "ipython3",
   "version": "3.8.2"
  },
  "metadata": {
   "interpreter": {
    "hash": "38da386f580614e4c6a85824bff41beb4ebd8d62055fe5e2510efbe524b5bbb7"
   }
  },
  "interpreter": {
   "hash": "38da386f580614e4c6a85824bff41beb4ebd8d62055fe5e2510efbe524b5bbb7"
  }
 },
 "nbformat": 4,
 "nbformat_minor": 4
}