{
 "metadata": {
  "language_info": {
   "codemirror_mode": {
    "name": "ipython",
    "version": 3
   },
   "file_extension": ".py",
   "mimetype": "text/x-python",
   "name": "python",
   "nbconvert_exporter": "python",
   "pygments_lexer": "ipython3",
   "version": "3.8.2"
  },
  "orig_nbformat": 2,
  "kernelspec": {
   "name": "python3",
   "display_name": "Python 3.8.2 64-bit ('fenicsproject': conda)"
  },
  "interpreter": {
   "hash": "38da386f580614e4c6a85824bff41beb4ebd8d62055fe5e2510efbe524b5bbb7"
  }
 },
 "nbformat": 4,
 "nbformat_minor": 2,
 "cells": [
  {
   "source": [
    "# _Contents_\n",
    "\n",
    "0. Inputs\n",
    "2. Stratified smooth\n",
    "2. Stratified wavy"
   ],
   "cell_type": "markdown",
   "metadata": {}
  },
  {
   "source": [
    "## Import"
   ],
   "cell_type": "markdown",
   "metadata": {}
  },
  {
   "cell_type": "code",
   "execution_count": 1,
   "metadata": {},
   "outputs": [
    {
     "output_type": "stream",
     "name": "stdout",
     "text": [
      "INFO: first-order Backward differentiation formula time integration.\nInvalid degree type.\n"
     ]
    },
    {
     "output_type": "error",
     "ename": "UFLException",
     "evalue": "Invalid degree type.",
     "traceback": [
      "\u001b[0;31m---------------------------------------------------------------------------\u001b[0m",
      "\u001b[0;31mUFLException\u001b[0m                              Traceback (most recent call last)",
      "\u001b[0;32m~/Desktop/slugcapturing/codes/08_fem.ipynb\u001b[0m in \u001b[0;36m<module>\u001b[0;34m\u001b[0m\n\u001b[1;32m     64\u001b[0m     \u001b[0;31m# Define function space\u001b[0m\u001b[0;34m\u001b[0m\u001b[0;34m\u001b[0m\u001b[0;34m\u001b[0m\u001b[0m\n\u001b[1;32m     65\u001b[0m     \u001b[0;31m# Continuous elements\u001b[0m\u001b[0;34m\u001b[0m\u001b[0;34m\u001b[0m\u001b[0;34m\u001b[0m\u001b[0m\n\u001b[0;32m---> 66\u001b[0;31m     \u001b[0melement1\u001b[0m \u001b[0;34m=\u001b[0m \u001b[0mFiniteElement\u001b[0m \u001b[0;34m(\u001b[0m\u001b[0me1\u001b[0m\u001b[0;34m,\u001b[0m \u001b[0mmesh\u001b[0m\u001b[0;34m.\u001b[0m\u001b[0mufl_cell\u001b[0m \u001b[0;34m(\u001b[0m\u001b[0;34m)\u001b[0m\u001b[0;34m,\u001b[0m \u001b[0mdegree\u001b[0m \u001b[0;34m=\u001b[0m \u001b[0mdeg1\u001b[0m\u001b[0;34m)\u001b[0m\u001b[0;34m\u001b[0m\u001b[0;34m\u001b[0m\u001b[0m\n\u001b[0m\u001b[1;32m     67\u001b[0m     \u001b[0melement2\u001b[0m \u001b[0;34m=\u001b[0m \u001b[0mFiniteElement\u001b[0m \u001b[0;34m(\u001b[0m\u001b[0me2\u001b[0m\u001b[0;34m,\u001b[0m \u001b[0mmesh\u001b[0m\u001b[0;34m.\u001b[0m\u001b[0mufl_cell\u001b[0m \u001b[0;34m(\u001b[0m\u001b[0;34m)\u001b[0m\u001b[0;34m,\u001b[0m \u001b[0mdegree\u001b[0m \u001b[0;34m=\u001b[0m \u001b[0mdeg2\u001b[0m\u001b[0;34m)\u001b[0m\u001b[0;34m\u001b[0m\u001b[0;34m\u001b[0m\u001b[0m\n\u001b[1;32m     68\u001b[0m     \u001b[0melement3\u001b[0m \u001b[0;34m=\u001b[0m \u001b[0mFiniteElement\u001b[0m \u001b[0;34m(\u001b[0m\u001b[0me3\u001b[0m\u001b[0;34m,\u001b[0m \u001b[0mmesh\u001b[0m\u001b[0;34m.\u001b[0m\u001b[0mufl_cell\u001b[0m \u001b[0;34m(\u001b[0m\u001b[0;34m)\u001b[0m\u001b[0;34m,\u001b[0m \u001b[0mdegree\u001b[0m \u001b[0;34m=\u001b[0m \u001b[0mdeg3\u001b[0m\u001b[0;34m)\u001b[0m\u001b[0;34m\u001b[0m\u001b[0;34m\u001b[0m\u001b[0m\n",
      "\u001b[0;32m/opt/anaconda3/envs/fenicsproject/lib/python3.8/site-packages/ufl/finiteelement/finiteelement.py\u001b[0m in \u001b[0;36m__init__\u001b[0;34m(self, family, cell, degree, form_degree, quad_scheme, variant)\u001b[0m\n\u001b[1;32m    177\u001b[0m \u001b[0;34m\u001b[0m\u001b[0m\n\u001b[1;32m    178\u001b[0m         \u001b[0;31m# Initialize element data\u001b[0m\u001b[0;34m\u001b[0m\u001b[0;34m\u001b[0m\u001b[0;34m\u001b[0m\u001b[0m\n\u001b[0;32m--> 179\u001b[0;31m         FiniteElementBase.__init__(self, family, cell, degree, quad_scheme,\n\u001b[0m\u001b[1;32m    180\u001b[0m                                    value_shape, reference_value_shape)\n\u001b[1;32m    181\u001b[0m \u001b[0;34m\u001b[0m\u001b[0m\n",
      "\u001b[0;32m/opt/anaconda3/envs/fenicsproject/lib/python3.8/site-packages/ufl/finiteelement/finiteelementbase.py\u001b[0m in \u001b[0;36m__init__\u001b[0;34m(self, family, cell, degree, quad_scheme, value_shape, reference_value_shape)\u001b[0m\n\u001b[1;32m     49\u001b[0m             \u001b[0merror\u001b[0m\u001b[0;34m(\u001b[0m\u001b[0;34m\"Invalid family type.\"\u001b[0m\u001b[0;34m)\u001b[0m\u001b[0;34m\u001b[0m\u001b[0;34m\u001b[0m\u001b[0m\n\u001b[1;32m     50\u001b[0m         \u001b[0;32mif\u001b[0m \u001b[0;32mnot\u001b[0m \u001b[0;34m(\u001b[0m\u001b[0mdegree\u001b[0m \u001b[0;32mis\u001b[0m \u001b[0;32mNone\u001b[0m \u001b[0;32mor\u001b[0m \u001b[0misinstance\u001b[0m\u001b[0;34m(\u001b[0m\u001b[0mdegree\u001b[0m\u001b[0;34m,\u001b[0m \u001b[0;34m(\u001b[0m\u001b[0mint\u001b[0m\u001b[0;34m,\u001b[0m \u001b[0mtuple\u001b[0m\u001b[0;34m)\u001b[0m\u001b[0;34m)\u001b[0m\u001b[0;34m)\u001b[0m\u001b[0;34m:\u001b[0m\u001b[0;34m\u001b[0m\u001b[0;34m\u001b[0m\u001b[0m\n\u001b[0;32m---> 51\u001b[0;31m             \u001b[0merror\u001b[0m\u001b[0;34m(\u001b[0m\u001b[0;34m\"Invalid degree type.\"\u001b[0m\u001b[0;34m)\u001b[0m\u001b[0;34m\u001b[0m\u001b[0;34m\u001b[0m\u001b[0m\n\u001b[0m\u001b[1;32m     52\u001b[0m         \u001b[0;32mif\u001b[0m \u001b[0;32mnot\u001b[0m \u001b[0misinstance\u001b[0m\u001b[0;34m(\u001b[0m\u001b[0mvalue_shape\u001b[0m\u001b[0;34m,\u001b[0m \u001b[0mtuple\u001b[0m\u001b[0;34m)\u001b[0m\u001b[0;34m:\u001b[0m\u001b[0;34m\u001b[0m\u001b[0;34m\u001b[0m\u001b[0m\n\u001b[1;32m     53\u001b[0m             \u001b[0merror\u001b[0m\u001b[0;34m(\u001b[0m\u001b[0;34m\"Invalid value_shape type.\"\u001b[0m\u001b[0;34m)\u001b[0m\u001b[0;34m\u001b[0m\u001b[0;34m\u001b[0m\u001b[0m\n",
      "\u001b[0;32m/opt/anaconda3/envs/fenicsproject/lib/python3.8/site-packages/ufl/log.py\u001b[0m in \u001b[0;36merror\u001b[0;34m(self, *message)\u001b[0m\n\u001b[1;32m    170\u001b[0m         \u001b[0;34m\"Write error message and raise an exception.\"\u001b[0m\u001b[0;34m\u001b[0m\u001b[0;34m\u001b[0m\u001b[0m\n\u001b[1;32m    171\u001b[0m         \u001b[0mself\u001b[0m\u001b[0;34m.\u001b[0m\u001b[0m_log\u001b[0m\u001b[0;34m.\u001b[0m\u001b[0merror\u001b[0m\u001b[0;34m(\u001b[0m\u001b[0;34m*\u001b[0m\u001b[0mmessage\u001b[0m\u001b[0;34m)\u001b[0m\u001b[0;34m\u001b[0m\u001b[0;34m\u001b[0m\u001b[0m\n\u001b[0;32m--> 172\u001b[0;31m         \u001b[0;32mraise\u001b[0m \u001b[0mself\u001b[0m\u001b[0;34m.\u001b[0m\u001b[0m_exception_type\u001b[0m\u001b[0;34m(\u001b[0m\u001b[0mself\u001b[0m\u001b[0;34m.\u001b[0m\u001b[0m_format_raw\u001b[0m\u001b[0;34m(\u001b[0m\u001b[0;34m*\u001b[0m\u001b[0mmessage\u001b[0m\u001b[0;34m)\u001b[0m\u001b[0;34m)\u001b[0m\u001b[0;34m\u001b[0m\u001b[0;34m\u001b[0m\u001b[0m\n\u001b[0m\u001b[1;32m    173\u001b[0m \u001b[0;34m\u001b[0m\u001b[0m\n\u001b[1;32m    174\u001b[0m     \u001b[0;32mdef\u001b[0m \u001b[0mbegin\u001b[0m\u001b[0;34m(\u001b[0m\u001b[0mself\u001b[0m\u001b[0;34m,\u001b[0m \u001b[0;34m*\u001b[0m\u001b[0mmessage\u001b[0m\u001b[0;34m)\u001b[0m\u001b[0;34m:\u001b[0m\u001b[0;34m\u001b[0m\u001b[0;34m\u001b[0m\u001b[0m\n",
      "\u001b[0;31mUFLException\u001b[0m: Invalid degree type."
     ]
    }
   ],
   "source": [
    "%run ./0_libraries.ipynb\n",
    "%run ./01_constants_functions.ipynb\n",
    "%run ./02_testcases.ipynb\n",
    "%run ./03_testcases_conditions.ipynb\n",
    "\n",
    "%run ./04_functions_equations.ipynb\n",
    "%run ./05_equations_matrices.ipynb\n",
    "%run ./06_stability.ipynb\n",
    "\n",
    "%run ./08_fem.ipynb"
   ]
  },
  {
   "source": [],
   "cell_type": "markdown",
   "metadata": {}
  },
  {
   "cell_type": "code",
   "execution_count": null,
   "metadata": {},
   "outputs": [],
   "source": []
  },
  {
   "source": [],
   "cell_type": "markdown",
   "metadata": {}
  },
  {
   "cell_type": "code",
   "execution_count": 3,
   "metadata": {},
   "outputs": [],
   "source": []
  },
  {
   "source": [
    "## Initial and boundary conditions\n"
   ],
   "cell_type": "markdown",
   "metadata": {}
  },
  {
   "cell_type": "code",
   "execution_count": 4,
   "metadata": {},
   "outputs": [
    {
     "output_type": "error",
     "ename": "NameError",
     "evalue": "name 'V' is not defined",
     "traceback": [
      "\u001b[0;31m---------------------------------------------------------------------------\u001b[0m",
      "\u001b[0;31mNameError\u001b[0m                                 Traceback (most recent call last)",
      "\u001b[0;32m<ipython-input-4-d339e576ff21>\u001b[0m in \u001b[0;36m<module>\u001b[0;34m\u001b[0m\n\u001b[1;32m     41\u001b[0m \u001b[0;32melse\u001b[0m\u001b[0;34m:\u001b[0m\u001b[0;34m\u001b[0m\u001b[0;34m\u001b[0m\u001b[0m\n\u001b[1;32m     42\u001b[0m     \u001b[0;31m# Dirichlet boundary conditions\u001b[0m\u001b[0;34m\u001b[0m\u001b[0;34m\u001b[0m\u001b[0;34m\u001b[0m\u001b[0m\n\u001b[0;32m---> 43\u001b[0;31m     \u001b[0mbc1\u001b[0m \u001b[0;34m=\u001b[0m \u001b[0mDirichletBC\u001b[0m \u001b[0;34m(\u001b[0m\u001b[0mV\u001b[0m\u001b[0;34m.\u001b[0m\u001b[0msub\u001b[0m \u001b[0;34m(\u001b[0m\u001b[0;36m0\u001b[0m\u001b[0;34m)\u001b[0m\u001b[0;34m,\u001b[0m \u001b[0mvariable1_dirichlet\u001b[0m\u001b[0;34m,\u001b[0m \u001b[0mInflow\u001b[0m\u001b[0;34m)\u001b[0m\u001b[0;31m#, \"geometric\") # \"geometric\" \"pointwise\"\u001b[0m\u001b[0;34m\u001b[0m\u001b[0;34m\u001b[0m\u001b[0m\n\u001b[0m\u001b[1;32m     44\u001b[0m     \u001b[0mbc2\u001b[0m \u001b[0;34m=\u001b[0m \u001b[0mDirichletBC\u001b[0m \u001b[0;34m(\u001b[0m\u001b[0mV\u001b[0m\u001b[0;34m.\u001b[0m\u001b[0msub\u001b[0m \u001b[0;34m(\u001b[0m\u001b[0;36m1\u001b[0m\u001b[0;34m)\u001b[0m\u001b[0;34m,\u001b[0m \u001b[0mvariable2_dirichlet\u001b[0m\u001b[0;34m,\u001b[0m \u001b[0mInflow\u001b[0m\u001b[0;34m)\u001b[0m\u001b[0;31m#, \"geometric\")\u001b[0m\u001b[0;34m\u001b[0m\u001b[0;34m\u001b[0m\u001b[0m\n\u001b[1;32m     45\u001b[0m     \u001b[0mbc3\u001b[0m \u001b[0;34m=\u001b[0m \u001b[0mDirichletBC\u001b[0m \u001b[0;34m(\u001b[0m\u001b[0mV\u001b[0m\u001b[0;34m.\u001b[0m\u001b[0msub\u001b[0m \u001b[0;34m(\u001b[0m\u001b[0;36m2\u001b[0m\u001b[0;34m)\u001b[0m\u001b[0;34m,\u001b[0m \u001b[0mvariable3_dirichlet\u001b[0m\u001b[0;34m,\u001b[0m \u001b[0mInflow\u001b[0m\u001b[0;34m)\u001b[0m\u001b[0;31m#, \"geometric\")\u001b[0m\u001b[0;34m\u001b[0m\u001b[0;34m\u001b[0m\u001b[0m\n",
      "\u001b[0;31mNameError\u001b[0m: name 'V' is not defined"
     ]
    }
   ],
   "source": [
    "# Define Dirichlet boundary conditions\n",
    "if any ([system == \"system_1\", system == \"system_2\"]):\n",
    "    if IBVP == \"SS\":\n",
    "        # Define Dirichlet boundary conditions for smooth flow\n",
    "        variable1_dirichlet = Constant (ref[0])\n",
    "        variable2_dirichlet = Constant (ref[1])\n",
    "        variable3_dirichlet = Constant (ref[2])\n",
    "        variable4_dirichlet = Constant (ref[3])\n",
    "    elif IBVP == \"SS_perturbed\":\n",
    "        # Define Dirichlet boundary conditions for perturbed flow\n",
    "        timedirichlet = 0\n",
    "        amplitude1 = (eigenvector[0]).real\n",
    "        amplitude2 = (eigenvector[1]).real\n",
    "        amplitude3 = (eigenvector[2]).real\n",
    "        amplitude4 = (eigenvector[3]).real\n",
    "        \n",
    "        variable1_dirichlet = Expression ('variable1_ref + amplitude1*sin (ang_frequency*timedirichlet - wavenumber*x[0])', degree = p - 1, variable1_ref = variable1_ref, amplitude1 = amplitude1, wavenumber  = wavenumber, ang_frequency = ang_frequency, timedirichlet = timedirichlet, domain = mesh)\n",
    "        variable2_dirichlet = Expression ('variable2_ref + amplitude2*sin (ang_frequency*timedirichlet -wavenumber*x[0])', degree = p, variable2_ref = variable2_ref, amplitude2 = amplitude2, wavenumber  = wavenumber, ang_frequency = ang_frequency, timedirichlet = timedirichlet, domain = mesh)\n",
    "        variable3_dirichlet = Expression ('variable3_ref + amplitude3*sin (ang_frequency*timedirichlet -wavenumber*x[0])', degree = p, variable3_ref = variable3_ref, amplitude3 = amplitude3, wavenumber  = wavenumber, ang_frequency = ang_frequency, timedirichlet = timedirichlet, domain = mesh)\n",
    "        variable4_dirichlet = Expression ('variable4_ref + amplitude4*sin (ang_frequency*timedirichlet - wavenumber*x[0])', degree = p - 1, variable4_ref = variable4_ref, amplitude4 = amplitude4, wavenumber  = wavenumber, ang_frequency = ang_frequency, timedirichlet = timedirichlet, domain = mesh)\n",
    "elif system == \"system_3\":\n",
    "    if IBVP == \"SS\":\n",
    "        # Define Dirichlet boundary conditions for smooth flow\n",
    "        variable1_dirichlet = Constant (ref[0]/rho_l)\n",
    "        variable2_dirichlet = Constant (ref[2]/ref[0])\n",
    "        variable3_dirichlet = Constant (ref[3]/ref[1])\n",
    "        variable4_dirichlet = Constant (ref[1]/((1 - ref[0]/rho_l)*p_factor))\n",
    "\n",
    "# Define vector of boundary conditions\n",
    "if elementspace == \"IPDG\":\n",
    "    # Define ds for facets\n",
    "    # DOLFIN predefines the “measures” dx, ds and dS representing integration over cells, exterior facets (that is, facets on the boundary) and interior facets, respectively. These measures can take an additional integer argument. In fact, dx defaults to dx(0), ds defaults to ds(0), and dS defaults to dS(0). Integration over subregions can be specified by measures with different integer labels as arguments.\n",
    "    # Define outer surface measure aware of Dirichlet boundaries\n",
    "    ds = Measure ('ds', domain = mesh, subdomain_data = boundaries)\n",
    "    # Dirichlet boundary conditions\n",
    "    bc1 = DirichletBC (V.sub (0), variable1_dirichlet, boundaries, 1)#, \"geometric\") # \"geometric\"<<<<\n",
    "    bc2 = DirichletBC (V.sub (1), variable2_dirichlet, boundaries, 1)#, \"geometric\")\n",
    "    bc3 = DirichletBC (V.sub (2), variable3_dirichlet, boundaries, 1)#, \"geometric\")\n",
    "    bc4 = DirichletBC (V.sub (3), variable4_dirichlet, boundaries, 2)#, \"geometric\")\n",
    "    bcs = [bc1, bc2, bc3, bc4]\n",
    "else:\n",
    "    # Dirichlet boundary conditions\n",
    "    bc1 = DirichletBC (V.sub (0), variable1_dirichlet, Inflow)#, \"geometric\") # \"geometric\" \"pointwise\"\n",
    "    bc2 = DirichletBC (V.sub (1), variable2_dirichlet, Inflow)#, \"geometric\")\n",
    "    bc3 = DirichletBC (V.sub (2), variable3_dirichlet, Inflow)#, \"geometric\")\n",
    "    bc4 = DirichletBC (V.sub (3), variable4_dirichlet, Outflow)#, \"geometric\")\n",
    "    bcs = [bc1, bc2, bc3, bc4]\n",
    "\n",
    "# Initial conditions\n",
    "if IBVP == 'SS':\n",
    "    variable_init = InitialConditions_SS ()\n",
    "elif IBVP == 'SS_perturbed':\n",
    "    variable_init = InitialConditions_SS_perturbed ()\n",
    "\n",
    "# interpolate vector of initial conditions\n",
    "variable_ic.interpolate (variable_init)\n",
    "\n",
    "# interpolate vector of initial conditions (transient simulations)\n",
    "if time_method == 'BDF1':\n",
    "    variable_n.interpolate (variable_init)\n",
    "elif time_method == 'CN':\n",
    "    variable_n.interpolate (variable_init)\n",
    "elif time_method == 'BDF2':\n",
    "    variable_past.interpolate (variable_init)\n",
    "\n",
    "# Plot initial conditions\n",
    "if any ([system == \"system_1\", system == \"system_2\"]):\n",
    "    plt.figure (1, figsize = (8, 4))\n",
    "    fig, ax = plt.subplots ()\n",
    "    plt.ylim (0, 1)\n",
    "    plt.xlim (0, L)\n",
    "    plt.grid (True, which = \"both\")\n",
    "    ax.set_xlabel (r'L [m]', fontsize = 18)\n",
    "    ax.set_ylabel (r'$\\alpha_l$ [-]', fontsize = 18)\n",
    "    ax.xaxis.set_tick_params (which = 'major', size = 10, direction = 'in', top = 'on')\n",
    "    ax.xaxis.set_tick_params (which = 'minor', size = 7, direction = 'in', top = 'on')\n",
    "    ax.yaxis.set_tick_params (which = 'major', size = 10, direction = 'in', right = 'on')\n",
    "    ax.yaxis.set_tick_params (which = 'minor', size = 7, direction = 'in', right = 'on')\n",
    "    plot (variable1_ic, color = 'k')\n",
    "\n",
    "    plt.figure (2, figsize = (8, 4))\n",
    "    fig, ax = plt.subplots ()\n",
    "    plt.xlim (0, L)\n",
    "    plt.grid (True, which = \"both\")\n",
    "    ax.set_xlabel (r'L [m]', fontsize = 18)\n",
    "    ax.set_ylabel (r'$u_l$ [m/s]', fontsize = 18)\n",
    "    ax.xaxis.set_tick_params (which = 'major', size = 10, direction = 'in', top = 'on')\n",
    "    ax.xaxis.set_tick_params (which = 'minor', size = 7, direction = 'in', top = 'on')\n",
    "    ax.yaxis.set_tick_params (which = 'major', size = 10, direction = 'in', right = 'on')\n",
    "    ax.yaxis.set_tick_params (which = 'minor', size = 7, direction = 'in', right = 'on')\n",
    "    plot (variable2_ic, color = 'k')\n",
    "\n",
    "    plt.figure (3, figsize = (8, 4))\n",
    "    fig, ax = plt.subplots ()\n",
    "    plt.xlim (0, L)\n",
    "    plt.grid (True, which = \"both\")\n",
    "    ax.set_xlabel (r'L [m]', fontsize = 18)\n",
    "    ax.set_ylabel (r'$u_g$ [m/s]', fontsize = 18)\n",
    "    ax.xaxis.set_tick_params (which = 'major', size = 10, direction = 'in', top = 'on')\n",
    "    ax.xaxis.set_tick_params (which = 'minor', size = 7, direction = 'in', top = 'on')\n",
    "    ax.yaxis.set_tick_params (which = 'major', size = 10, direction = 'in', right = 'on')\n",
    "    ax.yaxis.set_tick_params (which = 'minor', size = 7, direction = 'in', right = 'on')\n",
    "    plot (variable3_ic, color = 'k')\n",
    "\n",
    "    plt.figure (4, figsize = (8, 4))\n",
    "    fig, ax = plt.subplots ()\n",
    "    plt.xlim (0, L)\n",
    "    plt.grid (True, which = \"both\")\n",
    "    ax.set_xlabel (r'L [m]', fontsize = 18)\n",
    "    ax.set_ylabel (r'$p_i$ [Pa]', fontsize = 18)\n",
    "    ax.xaxis.set_tick_params (which = 'major', size = 10, direction = 'in', top = 'on')\n",
    "    ax.xaxis.set_tick_params (which = 'minor', size = 7, direction = 'in', top = 'on')\n",
    "    ax.yaxis.set_tick_params (which = 'major', size = 10, direction = 'in', right = 'on')\n",
    "    ax.yaxis.set_tick_params (which = 'minor', size = 7, direction = 'in', right = 'on')\n",
    "    plot (variable4_ic, color = 'k')\n",
    "else:\n",
    "    pass"
   ]
  }
 ]
}