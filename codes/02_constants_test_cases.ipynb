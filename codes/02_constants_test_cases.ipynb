{
 "metadata": {
  "language_info": {
   "codemirror_mode": {
    "name": "ipython",
    "version": 3
   },
   "file_extension": ".py",
   "mimetype": "text/x-python",
   "name": "python",
   "nbconvert_exporter": "python",
   "pygments_lexer": "ipython3",
   "version": "3.8.2"
  },
  "orig_nbformat": 2,
  "kernelspec": {
   "name": "python3",
   "display_name": "Python 3.8.2 64-bit ('fenicsproject': conda)"
  },
  "metadata": {
   "interpreter": {
    "hash": "38da386f580614e4c6a85824bff41beb4ebd8d62055fe5e2510efbe524b5bbb7"
   }
  },
  "interpreter": {
   "hash": "38da386f580614e4c6a85824bff41beb4ebd8d62055fe5e2510efbe524b5bbb7"
  }
 },
 "nbformat": 4,
 "nbformat_minor": 2,
 "cells": [
  {
   "cell_type": "markdown",
   "source": [
    "# _Contents_\n"
   ],
   "metadata": {}
  },
  {
   "cell_type": "markdown",
   "source": [
    "## Equations\n",
    "> Equation systems and terms"
   ],
   "metadata": {}
  },
  {
   "cell_type": "code",
   "execution_count": null,
   "source": [
    "# Equation system \n",
    "system = \"system_2\" # OPTIONS: system_1 (primitive variables with A != I), system_2 (primitive variables with A = I), system_3 (conserved variables)\n",
    "\n",
    "# Viscous effects\n",
    "viscous_terms = \"viscous\" # OPTIONS: viscous, inviscid\n",
    "\n",
    "# OPTIONS: periodic, nonperiodic\n",
    "dirichlet_type = \"nonperiodic\" \n",
    "\n",
    "# Initial conditions \n",
    "IBVP = \"SS\" # OPTIONS: SS (stratified smooth) , SS_perturbed (stratified wavy)\n",
    "effect = \"linear\" # OPTIONS: linear, nonlinear"
   ],
   "outputs": [],
   "metadata": {}
  },
  {
   "cell_type": "markdown",
   "source": [
    "## Constant parameters\n",
    "\n",
    "> Constants."
   ],
   "metadata": {}
  },
  {
   "cell_type": "code",
   "execution_count": null,
   "source": [
    "# Phasic properties\n",
    "rho_l = 1000 # kg m^-3, liquid density (Montini)\n",
    "mu_l = 8.9e-4 # Pa s, liquid viscosity\n",
    "mu_g = 1.8e-5 # Pa s, gas viscosity# Phase properties\n",
    "c_g = 293.43 # OPTIONS: 0.1*293.43, 293.43, 10*293.43 (Sanderse, et al., 2017)\n",
    "var4_0 = 1e5 # Pa, outlet pressure (equilibrium state)\n",
    "g = 9.8 # Gravity"
   ],
   "outputs": [],
   "metadata": {}
  },
  {
   "cell_type": "markdown",
   "source": [
    "## Flow properties\n",
    "> Cases for simulation"
   ],
   "metadata": {}
  },
  {
   "cell_type": "code",
   "execution_count": null,
   "source": [
    "betavectordeg = np.array ([0, \n",
    "                           0.25, \n",
    "                           -5]) # Inclination\n",
    "\n",
    "# Horizontal\n",
    "j_lcases = np.array ([0.05, \n",
    "                      0.5, \n",
    "                      0.74529647, \n",
    "                      0.07, \n",
    "                      0.015, \n",
    "                      0.033, \n",
    "                      0.15, \n",
    "                      0.6, \n",
    "                      1.5, \n",
    "                      0.4, \n",
    "                      0.532])\n",
    "\n",
    "j_gcases = np.array ([0.829, \n",
    "                      6.908, \n",
    "                      10.0, \n",
    "                      21.16, \n",
    "                      0.23, \n",
    "                      13.28, \n",
    "                      10, \n",
    "                      3., \n",
    "                      2.0, \n",
    "                      3., \n",
    "                      6.532])\n",
    "\n",
    "L_cases = np.array ([1, \n",
    "                     1, \n",
    "                     1, \n",
    "                     1, \n",
    "                     1, \n",
    "                     1, \n",
    "                     1, \n",
    "                     36., \n",
    "                     36., \n",
    "                     5, \n",
    "                     5])\n",
    "\n",
    "D_vector = np.array ([0.051, \n",
    "                      0.078])"
   ],
   "outputs": [],
   "metadata": {}
  },
  {
   "cell_type": "markdown",
   "source": [
    "> Flow pattern maps scatter"
   ],
   "metadata": {}
  },
  {
   "cell_type": "code",
   "execution_count": null,
   "source": [
    "# Horizontal\n",
    "j_lscatter = [j_lcases[0], j_lcases[1], j_lcases[2]]\n",
    "j_gscatter = [j_gcases[0], j_gcases[1], j_gcases[2]]"
   ],
   "outputs": [],
   "metadata": {}
  },
  {
   "cell_type": "markdown",
   "source": [
    "> Spatial discretization"
   ],
   "metadata": {}
  },
  {
   "cell_type": "code",
   "execution_count": null,
   "source": [
    "# Spatial discretization\n",
    "nxvector = np.array ([40, 200, 1000])\n",
    "# Order of basis functions\n",
    "p_vector = np.array ([1, 2, 3, 4, 5, 6] ) # Sanderse 2017"
   ],
   "outputs": [],
   "metadata": {}
  },
  {
   "cell_type": "markdown",
   "source": [
    "> Time discretization"
   ],
   "metadata": {}
  },
  {
   "cell_type": "code",
   "execution_count": null,
   "source": [
    "theta_cfl = 1e-3 # (Sanderse, et al., 2017)"
   ],
   "outputs": [],
   "metadata": {}
  },
  {
   "cell_type": "markdown",
   "source": [
    "## Flow pattern maps\n",
    "\n",
    "> Limits and test points."
   ],
   "metadata": {}
  },
  {
   "cell_type": "code",
   "execution_count": null,
   "source": [
    "# Flow pattern maps properties\n",
    "minj_l = 1e-2 \n",
    "maxj_l = 5 \n",
    "minj_g = 2e-1\n",
    "maxj_g = 30\n",
    "testpointsj_l = 600\n",
    "testpointsj_g = testpointsj_l"
   ],
   "outputs": [],
   "metadata": {}
  },
  {
   "cell_type": "markdown",
   "source": [
    "## Dispersion maps\n",
    "> Constants, limits and test points."
   ],
   "metadata": {}
  },
  {
   "cell_type": "code",
   "execution_count": null,
   "source": [
    "# Fourier analysis\n",
    "wavenumber_fourier = 2*pi\n",
    "\n",
    "# Dispersion analysis\n",
    "epstest = DOLFIN_EPS/1e250\n",
    "minlambda = 1e-1\n",
    "maxlambda = 1e2\n",
    "testpointsdispersion = 600\n",
    "steplambda = (maxlambda - epstest)/30 # for ticks in local stability analysis\n",
    "limitlog = 1e-6\n",
    "\n",
    "inf_omega = -1e3\n",
    "sup_omega = 1e5\n",
    "inf_lambda = minlambda\n",
    "sup_lambda = maxlambda"
   ],
   "outputs": [],
   "metadata": {}
  },
  {
   "cell_type": "markdown",
   "source": [
    "## Stiffness\n",
    ">Vectors for parametric analysis"
   ],
   "metadata": {}
  },
  {
   "cell_type": "code",
   "execution_count": null,
   "source": [
    "# Case I - Finite elements\n",
    "caseI_vector = [\"CG_elements\", \"TaylorHood\"]\n",
    "\n",
    "# Case II - Superficial velocities\n",
    "caseII_vector_sl = [0.05, 0.829]\n",
    "caseII_vector_sg = [0.50, 6.908]\n",
    "\n",
    "# Case III - Upward flows\n",
    "caseIII_vector = [0, 0.25]\n",
    "\n",
    "# Case IV - Downward flows\n",
    "caseIV_vector = [0, -5]\n",
    "\n",
    "# Case V - Mesh size\n",
    "caseV_vector = [40, 160]\n",
    "\n",
    "# Case VI - Highest order of basis function\n",
    "caseVI_vector = [2, 4]\n",
    "\n",
    "# Case VII - Compressibility effects\n",
    "caseVII_vector = [c_g*0.1, c_g*10]"
   ],
   "outputs": [],
   "metadata": {}
  },
  {
   "cell_type": "markdown",
   "source": [
    "## Regularization\n",
    "> Numerical diffusion "
   ],
   "metadata": {}
  },
  {
   "cell_type": "code",
   "execution_count": null,
   "source": [
    "# Regularization with numerical difussion\n",
    "# Gamma_lvector = np.array (  [[0, 1E-4, 1e-1], \n",
    "#                             [0, 1E-4, 1e-1], \n",
    "#                             [0, 0, 0]])\n",
    "# nu_lvector = np.array ( [[0, 1e-10, 1e-1], \n",
    "#                         [0, 1E-10, 1e-1],\n",
    "#                         [0, 0, 0]])\n",
    "# Gamma_gvector = Gamma_lvector\n",
    "# nu_gvector = nu_lvector"
   ],
   "outputs": [],
   "metadata": {}
  }
 ]
}