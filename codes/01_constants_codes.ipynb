{
 "metadata": {
  "language_info": {
   "codemirror_mode": {
    "name": "ipython",
    "version": 3
   },
   "file_extension": ".py",
   "mimetype": "text/x-python",
   "name": "python",
   "nbconvert_exporter": "python",
   "pygments_lexer": "ipython3",
   "version": "3.8.2"
  },
  "orig_nbformat": 2,
  "kernelspec": {
   "name": "python3",
   "display_name": "Python 3.8.2 64-bit ('fenicsproject': conda)"
  },
  "metadata": {
   "interpreter": {
    "hash": "38da386f580614e4c6a85824bff41beb4ebd8d62055fe5e2510efbe524b5bbb7"
   }
  },
  "interpreter": {
   "hash": "38da386f580614e4c6a85824bff41beb4ebd8d62055fe5e2510efbe524b5bbb7"
  }
 },
 "nbformat": 4,
 "nbformat_minor": 2,
 "cells": [
  {
   "cell_type": "markdown",
   "source": [
    "# _Contents_\n"
   ],
   "metadata": {}
  },
  {
   "cell_type": "markdown",
   "source": [
    "## 0. Constant parameters\n",
    "\n",
    "> Constants."
   ],
   "metadata": {}
  },
  {
   "cell_type": "markdown",
   "source": [
    "## 2. Python functions\n",
    "\n",
    "> Constants for integration."
   ],
   "metadata": {}
  },
  {
   "cell_type": "code",
   "execution_count": null,
   "source": [
    "# Brenth interval guess\n",
    "lima = DOLFIN_EPS\n",
    "limb = 1 - lima\n",
    "\n",
    "# Fsolve initial guess\n",
    "x0 = 0.001"
   ],
   "outputs": [],
   "metadata": {}
  },
  {
   "cell_type": "markdown",
   "source": [
    "## 3. Linearization\n",
    "\n",
    "> Functions for linearization."
   ],
   "metadata": {}
  },
  {
   "cell_type": "code",
   "execution_count": null,
   "source": [
    "# For linearization of sources\n",
    "def gradient (Cmat_element, nvariable):\n",
    "    return dtv (Cmat_element, ref[nvariable - 1])\n",
    "\n",
    "# 3D matrix for fourier analysis\n",
    "def ThreeD (a, b, c): \n",
    "    lst = [[ [[] for col in range (a)] for col in range (b)] for row in range (c)] \n",
    "    return lst"
   ],
   "outputs": [],
   "metadata": {}
  },
  {
   "cell_type": "markdown",
   "source": [
    "## 4. FEniCS\n",
    "\n",
    "> Parameters and functions."
   ],
   "metadata": {}
  },
  {
   "cell_type": "code",
   "execution_count": null,
   "source": [
    "# Form compiler options\n",
    "parameters ['form_compiler']['representation'] = 'uflacs'\n",
    "parameters [\"form_compiler\"][\"optimize\"] = True\n",
    "parameters [\"form_compiler\"][\"cpp_optimize\"] = True\n",
    "# parameters [\"form_compiler\"]['precision'] = 50\n",
    "# parameters [\"form_compiler\"][\"cpp_optimize_flags\"] = \"-O3 -ffast-math -march=native\"\n",
    "# parameters [\"form_compiler\"][\"quadrature_degree\"] = 8\n",
    "# parameters [\"allow_extrapolation\"] = True\n",
    "# parameters [\"refinement_algorithm\"] = \"plaza_with_parent_facets\"\n",
    "# parameters [\"std_out_all_processes\"] = False; # Print log messages only from the root process in parallel\n",
    "\n",
    "# For PETSc options (https://fenicsproject.org/docs/dolfin/1.4.0/python/programmers-reference/cpp/la/SLEPcEigenSolver.html)\n",
    "# PETScOptions.set (\"st_ksp_type\", \"preonly\")\n",
    "# PETScOptions.set (\"st_pc_type\", \"lu\")\n",
    "# PETScOptions.set (\"st_pc_factor_mat_solver_package\", \"mumps\")\n",
    "\n",
    "# For linear and nonlinear solvers\n",
    "ffc_options = {\"optimize\": True, \\\n",
    "               \"eliminate_zeros\": True, \\\n",
    "               \"precompute_basis_const\": True, \\\n",
    "               \"precompute_ip_const\": True}\n",
    "\n",
    "# Test for PETSc and SLEPc\n",
    "if not has_linear_algebra_backend(\"PETSc\"):\n",
    "    print (\"DOLFIN has not been configured with PETSc. Exiting.\")\n",
    "    exit ()\n",
    "if not has_slepc ():\n",
    "    print (\"DOLFIN has not been configured with SLEPc. Exiting.\")\n",
    "    exit ()\n",
    "\n",
    "# For UFL\n",
    "def Max (a, b): \n",
    "    return (a + b + abs (a - b))/2\n",
    "def Min (a, b): \n",
    "    return (a + b - abs (a - b))/2"
   ],
   "outputs": [],
   "metadata": {}
  },
  {
   "cell_type": "markdown",
   "source": [
    "## 5. Files\n",
    "\n",
    "> Criation of folders and files."
   ],
   "metadata": {}
  },
  {
   "cell_type": "code",
   "execution_count": null,
   "source": [
    "# File for linear simulations\n",
    "ff_variable1 = File (\"fields_linear/variable1.pvd\", \"compressed\")\n",
    "ff_variable2 = File (\"fields_linear/variable2.pvd\", \"compressed\")\n",
    "ff_variable3 = File (\"fields_linear/variable3.pvd\", \"compressed\")\n",
    "ff_variable4 = File (\"fields_linear/variable4.pvd\", \"compressed\")\n",
    "\n",
    "# File for boundaries (linear simulations)\n",
    "file_boundaries = File (\"domain_linear/boundaries.xml\")\n",
    "\n",
    "# # File for nonlinear simulations\n",
    "# ff_variable1 = File (\"fields_nonlinear/variable1.pvd\", \"compressed\")\n",
    "# ff_variable2 = File (\"fields_nonlinear/variable2.pvd\", \"compressed\")\n",
    "# ff_variable3 = File (\"fields_nonlinear/variable3.pvd\", \"compressed\")\n",
    "# ff_variable4 = File (\"fields_nonlinear/variable4.pvd\", \"compressed\")\n",
    "\n",
    "# # File for boundaries (nonlinear simulations)\n",
    "# file_boundaries = File (\"domain_nonlinear/boundaries.xml\")"
   ],
   "outputs": [],
   "metadata": {}
  },
  {
   "cell_type": "markdown",
   "source": [
    "## 6. Plots\n",
    "\n",
    "> Properties of plots."
   ],
   "metadata": {}
  },
  {
   "cell_type": "code",
   "execution_count": null,
   "source": [
    "# Characteristics\n",
    "%matplotlib inline\n",
    "liststyles = [\"--\", \"-\", \"-.\", \".\"]\n",
    "listcolor = [\"k\", \"g\", \"b\", \"r\", \"none\"]\n",
    "listmarkers = [\"s\", \"o\", \"^\", \">\", \"<\", \"p\"]\n",
    "\n",
    "# Font\n",
    "font = {'family': 'Times New Roman',\n",
    "        'weight': 'normal',\n",
    "        'size': 18\n",
    "        }\n",
    "matplotlib.rc('font',family = 'Times New Roman')\n",
    "\n",
    "# Scatter\n",
    "alphascatter = 0.5\n",
    "area_scatter = 25\n",
    "areatestpoints = 100\n",
    "\n",
    "line_width = 1.5\n",
    "var1linemaps = 0.5\n",
    "\n",
    "# Flow pattern maps\n",
    "mapsize = [12, 8]\n",
    "\n",
    "# Stratified wavy flow plot\n",
    "epsplot = 1e-5\n",
    "n_wavy = 100"
   ],
   "outputs": [],
   "metadata": {}
  }
 ]
}