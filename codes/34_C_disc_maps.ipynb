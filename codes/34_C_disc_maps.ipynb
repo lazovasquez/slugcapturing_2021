{
 "cells": [
  {
   "cell_type": "markdown",
   "source": [
    "# Input codes\n",
    "> Import notebooks\n"
   ],
   "metadata": {}
  },
  {
   "cell_type": "code",
   "execution_count": null,
   "source": [
    "%run ./00_libraries.ipynb\n",
    "%run ./01_constants_codes.ipynb\n",
    "%run ./02_constants_test_cases.ipynb\n",
    "\n",
    "%run ./05_C_testcases.ipynb\n",
    "%run ./06_testcases_conditions.ipynb\n",
    "%run ./07_equations_functions.ipynb\n",
    "%run ./08_equations_matrices.ipynb\n",
    "\n",
    "%run ./10_stability_functions.ipynb\n"
   ],
   "outputs": [],
   "metadata": {}
  },
  {
   "cell_type": "markdown",
   "source": [
    "# Well-posedness maps and eigenvalues\n",
    "\n",
    "> IKH curves + eigenvalue distribution."
   ],
   "metadata": {}
  },
  {
   "cell_type": "code",
   "execution_count": null,
   "source": [
    "%run ./12_stability_maps_well_posedness.ipynb\n"
   ],
   "outputs": [],
   "metadata": {
    "tags": []
   }
  },
  {
   "cell_type": "markdown",
   "source": [
    "# Fourier analysis and eigenspectra\n",
    "\n",
    "> IKH and VKH + validation curves and eigenvalue distribution."
   ],
   "metadata": {}
  },
  {
   "cell_type": "code",
   "execution_count": null,
   "source": [
    "%run ./14_stability_maps_fourier.ipynb\n"
   ],
   "outputs": [],
   "metadata": {
    "tags": []
   }
  },
  {
   "cell_type": "code",
   "execution_count": null,
   "source": [
    "%run ./25_stability_maps_fourier_discrete.ipynb\n"
   ],
   "outputs": [],
   "metadata": {
    "tags": []
   }
  }
 ],
 "metadata": {
  "kernelspec": {
   "name": "python3",
   "display_name": "Python 3.8.2 64-bit ('fenicsproject': conda)"
  },
  "language_info": {
   "codemirror_mode": {
    "name": "ipython",
    "version": 3
   },
   "file_extension": ".py",
   "mimetype": "text/x-python",
   "name": "python",
   "nbconvert_exporter": "python",
   "pygments_lexer": "ipython3",
   "version": "3.8.2"
  },
  "metadata": {
   "interpreter": {
    "hash": "38da386f580614e4c6a85824bff41beb4ebd8d62055fe5e2510efbe524b5bbb7"
   }
  },
  "interpreter": {
   "hash": "38da386f580614e4c6a85824bff41beb4ebd8d62055fe5e2510efbe524b5bbb7"
  }
 },
 "nbformat": 4,
 "nbformat_minor": 4
}