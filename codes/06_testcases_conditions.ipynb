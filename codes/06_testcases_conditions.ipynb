{
 "metadata": {
  "language_info": {
   "codemirror_mode": {
    "name": "ipython",
    "version": 3
   },
   "file_extension": ".py",
   "mimetype": "text/x-python",
   "name": "python",
   "nbconvert_exporter": "python",
   "pygments_lexer": "ipython3",
   "version": "3.8.2"
  },
  "orig_nbformat": 4,
  "kernelspec": {
   "name": "python3",
   "display_name": "Python 3.8.2 64-bit ('fenicsproject': conda)"
  },
  "interpreter": {
   "hash": "38da386f580614e4c6a85824bff41beb4ebd8d62055fe5e2510efbe524b5bbb7"
  }
 },
 "nbformat": 4,
 "nbformat_minor": 2,
 "cells": [
  {
   "cell_type": "markdown",
   "source": [
    "### Simulations"
   ],
   "metadata": {}
  },
  {
   "cell_type": "code",
   "execution_count": null,
   "source": [
    "# Options for linear stability analysis\n",
    "if simulation == \"stiffness\":\n",
    "    discretization = \"semi_discretized\"\n",
    "elif any ([simulation == \"linear_simulation\", simulation == \"nonlinear_simulation\"]):\n",
    "    discretization = \"fully_discretized\""
   ],
   "outputs": [],
   "metadata": {}
  },
  {
   "cell_type": "markdown",
   "source": [
    "### Geometry"
   ],
   "metadata": {}
  },
  {
   "cell_type": "code",
   "execution_count": null,
   "source": [
    "# Inclination\n",
    "betavector = np.deg2rad(betavectordeg)\n",
    "\n",
    "# Condition inclination\n",
    "if inclination == \"horizontal\":\n",
    "    beta = betavector[0]\n",
    "elif inclination == \"upward_straight\":\n",
    "    beta = betavector[1]\n",
    "elif inclination == \"downward_straight\":\n",
    "    beta = betavector[2]\n",
    "elif inclination == \"vsection\":\n",
    "    beta_1 = np.deg2rad (-1.5)\n",
    "    beta_2 = np.deg2rad (1.5)\n",
    "    # beta_1 = Constant (beta_1)\n",
    "    # beta_2 = Constant (beta_2)\n",
    "    # beta_fenics = Expression (\"x[0] < l/2 ? beta_1 : beta_2\", degee = 1)\n",
    "    # print(\"WARNING : is l = 14m + 23m ? according to Issa (2003)\")\n",
    "\n",
    "print (\"Inclination = \", inclination)"
   ],
   "outputs": [],
   "metadata": {}
  },
  {
   "cell_type": "markdown",
   "source": [
    "### Equations"
   ],
   "metadata": {}
  },
  {
   "cell_type": "code",
   "execution_count": null,
   "source": [
    "# Body force\n",
    "if inclination == \"horizontal\":\n",
    "    if dirichlet_type == \"nonperiodic\": \n",
    "        Fbody = 0\n",
    "    elif dirichlet_type == \"periodic\": \n",
    "        Fbody = 74.225\n",
    "        print(\"WARNING : is beta = 0? according to Sanderse (2017)\")\n",
    "\n",
    "# Effect of linear and nonlinear waves\n",
    "if effect == \"linear\":\n",
    "    waves_effect = 1\n",
    "elif effect == \"nonlinear\":\n",
    "    waves_effect = 1e4\n",
    "\n",
    "# Effect of viscosity\n",
    "if viscous_terms == \"viscous\":\n",
    "    visc = 1\n",
    "elif viscous_terms == \"inviscid\":\n",
    "    visc = 0"
   ],
   "outputs": [],
   "metadata": {}
  },
  {
   "cell_type": "markdown",
   "source": [
    "### Cases"
   ],
   "metadata": {}
  },
  {
   "cell_type": "code",
   "execution_count": null,
   "source": [
    "if case == \"case0\":\n",
    "    j_l = j_lcases [0]\n",
    "    j_g = j_gcases [0]\n",
    "    L = L_cases [0]\n",
    "    reference = 'sanderse'\n",
    "    description = \"horizontal stable (Sanderse et al., 2017)\"\n",
    "elif case == \"case1\":\n",
    "    j_l = j_lcases [1]\n",
    "    j_g = j_gcases [1]\n",
    "    L = L_cases [1]\n",
    "    reference = 'sanderse'\n",
    "    description =  \"horizontal unstable (Sanderse et al., 2017)\"\n",
    "elif case == \"case2\":\n",
    "    j_l = j_lcases [2]\n",
    "    j_g = j_gcases [2]\n",
    "    L = L_cases [2]\n",
    "    reference = 'sanderse'\n",
    "    description = \"horizontal ill-posed (Sanderse et al., 2017)\"\n",
    "elif case == \"case3\":\n",
    "    j_l = j_lcases [3]\n",
    "    j_g = j_gcases [3]\n",
    "    L = L_cases [3]\n",
    "    reference = 'sanderse'\n",
    "    description = \"horizontal case B (Sanderse et al., 2017)\"\n",
    "elif case == \"case4\":\n",
    "    j_l = j_lcases [4]\n",
    "    j_g = j_gcases [4]\n",
    "    L = L_cases [4]\n",
    "    reference = 'sanderse'\n",
    "    description = \"horizontal case C (Sanderse et al., 2017)\"\n",
    "elif case == \"case5\":\n",
    "    # print (\"INFO: sanderse case D.\")\n",
    "    j_l = j_lcases [5]\n",
    "    j_g = j_gcases [5]\n",
    "    L = L_cases [5]\n",
    "    reference = 'sanderse'\n",
    "    description = \"horizontal case D (Sanderse et al., 2017)\"\n",
    "elif case == \"case6\":\n",
    "    # print (\"INFO: sanderse wave growth.\")\n",
    "    j_l = j_lcases [6]\n",
    "    j_g = j_gcases [6]\n",
    "    L = L_cases [6]\n",
    "    reference = 'sanderse'\n",
    "    description = \"horizontal wave growth case (Sanderse et al., 2017)\"\n",
    "elif case == \"case7\":\n",
    "    j_l = j_lcases [7]\n",
    "    j_g = j_gcases [7]\n",
    "    L = L_cases [7]\n",
    "    reference = 'ferrari'\n",
    "    description = \"horizontal case 1 (Ferrari, 2017)\"\n",
    "elif case == \"case8\":\n",
    "    # print (\"INFO: slug flow Ferrari 2.\")\n",
    "    j_l = j_lcases [8]\n",
    "    j_g = j_gcases [8]\n",
    "    L = L_cases [8]\n",
    "    reference = 'ferrari'\n",
    "    description = \"horizontal case 2 (Ferrari, 2017)\"\n",
    "elif case == \"case9\":\n",
    "    # print (\"INFO: Montini well-posed.\")\n",
    "    j_l = j_lcases [9]\n",
    "    j_g = j_gcases [9]\n",
    "    L = L_cases [9]\n",
    "    reference = 'montini'\n",
    "    description = \"horizontal well-posed (Montini, 2011)\"\n",
    "elif case == \"case10\":\n",
    "    # print (\"INFO: case ill-posed (Montini, 2011) \")\n",
    "    j_l = j_lcases [10]\n",
    "    j_g = j_gcases [10]\n",
    "    L = L_cases [10]\n",
    "    reference = 'montini'\n",
    "    description = \"horizontal ill-posed (Montini, 2011)\"\n",
    "\n",
    "print (\"INFO:\", case, description)\n",
    "\n",
    "# Diameter\n",
    "if validation == \"experimental\":\n",
    "    D = D_vector[0]\n",
    "    description_validation = \"Experimental data (several authors)\"\n",
    "if validation == \"khinstabilities\":\n",
    "    D = D_vector[1]\n",
    "    description_validation = \"KH instabilities based (Sanderse et al., 2017)\"\n",
    "\n",
    "print (\"Diameter = \", D)\n",
    "print(\"Validation = \", description_validation)\n",
    "\n",
    "#     if inclination == 'horizontal':\n",
    "#         ang_frequency = real_part[0][1][1]\n",
    "#         eigenvector = waves_effect*np.asarray([ 0.00291852-2.81805376e-04j,  0.00293087-5.94800113e-05j, -0.05152862+1.02129577e-04j, -0.01828003-4.75631527e-02j])\n",
    "#     elif inclination == 'upward_straight':\n",
    "#         ang_frequency = real_part[1][1][1]\n",
    "#         eigenvector = waves_effect*np.asarray([ 0.00293077-7.63974711e-05j,  0.00291226-3.30546793e-04j,\n",
    "# -0.04625014-1.53188578e-03j, -0.00896813-4.52585614e-02j])\n",
    "#     elif inclination == 'downward_straight':\n",
    "#         ang_frequency = real_part[2][1][1]\n",
    "#         eigenvector = waves_effect*np.asarray([ 0.68064619-0.73260641j,  0.04424159-0.99901655j, 0.74871756 - 0.65434661j,\n",
    "#  - 0.79682783-0.59249731j])\n",
    "\n",
    "# Eigenvectors\n",
    "# real_part = [[[ 0.,          8.74990254, 11.1287558 ],  # real part in eigenspectra of KH stability \n",
    "#   [ 0.,          6.600037,    8.10323132],\n",
    "#   [ 0.,          6.81624482,  8.46191724]],\n",
    "\n",
    "#  [[ 5.47430223,  9.97152128, 12.41734012],\n",
    "#   [ 3.23064053,  6.24315533,  7.96455965],\n",
    "#   [ 0.,          6.51978708,  8.27631713]],\n",
    "\n",
    "#  [[ 7.33320828, 14.28985473, 15.79895273],\n",
    "#   [ 7.38596487, 14.30061954, 15.77221518],\n",
    "#   [ 7.43649753, 14.23720754, 15.62292733]]]"
   ],
   "outputs": [],
   "metadata": {}
  },
  {
   "cell_type": "markdown",
   "source": [
    "### Time discretization"
   ],
   "metadata": {}
  },
  {
   "cell_type": "code",
   "execution_count": null,
   "source": [
    "# Time discretization\n",
    "if time_method == 'BDF1':\n",
    "    a0 = 1.0\n",
    "    a1 = -1.0\n",
    "    a2 = 0.0\n",
    "    theta = 1.0\n",
    "    # print ('INFO: first-order Backward differentiation formula time integration.')\n",
    "elif time_method == 'BDF2':\n",
    "    a0 = 3/2\n",
    "    a1 = -2.0\n",
    "    a2 = 1/2\n",
    "    theta = 1.0\n",
    "    # print ('INFO: second-order Backward differentiation formula time integration.')\n",
    "elif time_method == 'CN':\n",
    "    a0 = 1.0\n",
    "    a1 = -1.0\n",
    "    a2 = 0.0\n",
    "    theta = 0.50\n",
    "    # print ('INFO: Crank-Nicolson/trapezoidal time integration.')\n",
    "\n",
    "# Time of simulation\n",
    "if T_simulation == \"T_cfl_based\":\n",
    "    # For \"T_cfl_based\"\n",
    "    num_steps = 1\n",
    "elif T_simulation == \"T_input\":\n",
    "    # For \"T_input\"\n",
    "    T_in = 10    "
   ],
   "outputs": [],
   "metadata": {}
  },
  {
   "cell_type": "markdown",
   "source": [
    "# Validation\n",
    "### Flow pattern maps"
   ],
   "metadata": {}
  },
  {
   "cell_type": "code",
   "execution_count": null,
   "source": [
    "# if all ([D == D_vector[0], any ([beta == 0, beta == 0.25, beta == -5])]):\n",
    "#     print (\"INFO: validation Barnea, Shoham and Taitel (1981)\")\n",
    "# elif all ([D == D_vector[1], any ([beta == 0])]):\n",
    "#     print (\"INFO: validation Sanderse et al. (2017)\")"
   ],
   "outputs": [],
   "metadata": {}
  },
  {
   "cell_type": "markdown",
   "source": [
    "### Nonlinear simulations"
   ],
   "metadata": {}
  },
  {
   "cell_type": "code",
   "execution_count": null,
   "source": [],
   "outputs": [],
   "metadata": {}
  },
  {
   "cell_type": "markdown",
   "source": [
    "### Linear simulations"
   ],
   "metadata": {}
  },
  {
   "cell_type": "code",
   "execution_count": null,
   "source": [],
   "outputs": [],
   "metadata": {}
  }
 ]
}