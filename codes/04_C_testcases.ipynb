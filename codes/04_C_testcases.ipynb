{
 "metadata": {
  "language_info": {
   "codemirror_mode": {
    "name": "ipython",
    "version": 3
   },
   "file_extension": ".py",
   "mimetype": "text/x-python",
   "name": "python",
   "nbconvert_exporter": "python",
   "pygments_lexer": "ipython3",
   "version": "3.7.6"
  },
  "orig_nbformat": 2,
  "kernelspec": {
   "name": "python376jvsc74a57bd0dca0ade3e726a953b501b15e8e990130d2b7799f14cfd9f4271676035ebe5511",
   "display_name": "Python 3.7.6 64-bit ('base': conda)"
  }
 },
 "nbformat": 4,
 "nbformat_minor": 2,
 "cells": [
  {
   "source": [
    "# _Contents_"
   ],
   "cell_type": "markdown",
   "metadata": {}
  },
  {
   "source": [
    "# _Operations_"
   ],
   "cell_type": "markdown",
   "metadata": {}
  },
  {
   "cell_type": "code",
   "execution_count": null,
   "metadata": {},
   "outputs": [],
   "source": [
    "# OPTIONS: system_1 (primitive variables with A != I), system_2 (primitive variables with A = I), system_3 (conserved variables)\n",
    "system = \"system_2\"\n",
    "# Simulation # OPTIONS: stiffness, linear_simulation, nonlinear_simulation\n",
    "simulation = \"stiffness\"\n",
    "# Validation # OPTIONS: khinstabilities, experimental\n",
    "validation = \"khinstabilities\"\n",
    "# For \"linear stability\" or \"nonlinear\" # OPTIONS: semi_discretized, fully_discretized\n",
    "discretization = \"semi_discretized\"\n",
    "# For \"linear stability\" # OPTIONS: linear, nonlinear\n",
    "effect = \"linear\"\n",
    "# For \"linear stability\" # OPTIONS: transient_spectrum, no_transient_spectrum\n",
    "eigenspectrum = \"transient_spectrum\"   "
   ]
  },
  {
   "source": [
    "## 0. Properties"
   ],
   "cell_type": "markdown",
   "metadata": {}
  },
  {
   "cell_type": "code",
   "execution_count": null,
   "metadata": {},
   "outputs": [],
   "source": [
    "# Study case # OPTIONS: case0, case1, case2, case3\n",
    "case = \"case0\"\n",
    "# Pipe inclination # OPTIONS: horizontal, upward_straight, downward_straight, v-section\n",
    "inclination = \"horizontal\"\n",
    "# Element space # OPTIONS: TaylorHood, CG_elements, Mini, IPDG\n",
    "elementspace = \"TaylorHood\"\n",
    "# For Taylor-Hood element space degree of velocity spaces (higher p)                                   \n",
    "p = 2 # p = p_vector[2]\n",
    "# Number of elements\n",
    "nx = nxvector[1]"
   ]
  },
  {
   "cell_type": "code",
   "execution_count": null,
   "metadata": {},
   "outputs": [],
   "source": [
    "# Phasic properties\n",
    "rho_l = 1000 # kg m^-3, liquid density (Montini)\n",
    "mu_l = 8.9e-4 # Pa s, liquid viscosity\n",
    "mu_g = 1.8e-5 # Pa s, gas viscosity# Phase properties\n",
    "c_g = c_g_vector[1] # Sanderse 2017\n",
    "\n",
    "# Outlet pressure\n",
    "var4_0 = 1e5 # Pa, outlet pressure (equilibrium state)"
   ]
  },
  {
   "source": [
    "## 2. Equations\n",
    "\n",
    "> Equations and terms."
   ],
   "cell_type": "markdown",
   "metadata": {}
  },
  {
   "cell_type": "code",
   "execution_count": null,
   "metadata": {},
   "outputs": [],
   "source": [
    "# Viscous effects # OPTIONS: viscous, inviscid\n",
    "viscous_terms = \"viscous\"\n",
    "# OPTIONS: periodic, nonperiodic\n",
    "dirichlet_type = \"nonperiodic\"  \n",
    "# Initial conditions # OPTIONS: SS (stratified smooth) , SS_perturbed (stratified wavy)\n",
    "IBVP = \"SS\""
   ]
  },
  {
   "source": [
    "## 5. Time integration\n",
    "\n",
    "> Time discretization patrameters."
   ],
   "cell_type": "markdown",
   "metadata": {}
  },
  {
   "cell_type": "code",
   "execution_count": null,
   "metadata": {},
   "outputs": [],
   "source": [
    "# Time integration method # OPTIONS: BDF1, BDF2, CN\n",
    "time_method = \"BDF1\"\n",
    "# For BDF2 first step\n",
    "step_bdf2 = \"first\"\n",
    "\n",
    "# CFL input # 0.7 Holmas, 0.978 Van Zwieten, 0.95 Bonzanini, 1 Sanderse, 0.22 Ferrari\n",
    "CFL = 1\n",
    "# CFL method # OPTIONS: liquid, gas, max_velocity, max_characteristic\n",
    "base_CFL = \"max_characteristic\"\n",
    "# Time step method # OPTIONS: timestep_input, cfl_based\n",
    "timestep= \"cfl_based\"                      \n",
    "# For \"timestep_input\" # OPTIONS: 1/nx (sanderse, 2017), CFL*hmin/(max_char)\n",
    "dt_input = 1/nx \n",
    "\n",
    "# Final time method # OPTIONS: T_cfl_based, T_input\n",
    "T_simulation = \"T_cfl_based\""
   ]
  },
  {
   "source": [
    "## 6. Regularization\n",
    "\n",
    "> Parameters for regularization."
   ],
   "cell_type": "markdown",
   "metadata": {}
  },
  {
   "cell_type": "code",
   "execution_count": null,
   "metadata": {},
   "outputs": [],
   "source": [
    "# Regularization: artificial viscosities\n",
    "# Gamma_lvector = np.array (  [[0, 1E-4, 1e-1], \n",
    "#                             [0, 1E-4, 1e-1], \n",
    "#                             [0, 0, 0]])\n",
    "# nu_lvector = np.array ( [[0, 1e-10, 1e-1], \n",
    "#                         [0, 1E-10, 1e-1],\n",
    "#                         [0, 0, 0]])\n",
    "# Gamma_gvector = Gamma_lvector\n",
    "# nu_gvector = nu_lvector"
   ]
  }
 ]
}