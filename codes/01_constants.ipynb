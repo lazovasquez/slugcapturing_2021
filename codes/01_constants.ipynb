{
 "metadata": {
  "language_info": {
   "codemirror_mode": {
    "name": "ipython",
    "version": 3
   },
   "file_extension": ".py",
   "mimetype": "text/x-python",
   "name": "python",
   "nbconvert_exporter": "python",
   "pygments_lexer": "ipython3",
   "version": "3.8.2"
  },
  "orig_nbformat": 2,
  "kernelspec": {
   "name": "python38264bitfenicsprojectcondabf159a8f9ce4443a8f5d4906e9a70930",
   "display_name": "Python 3.8.2 64-bit ('fenicsproject': conda)"
  },
  "metadata": {
   "interpreter": {
    "hash": "38da386f580614e4c6a85824bff41beb4ebd8d62055fe5e2510efbe524b5bbb7"
   }
  }
 },
 "nbformat": 4,
 "nbformat_minor": 2,
 "cells": [
  {
   "source": [
    "# _Contents_\n"
   ],
   "cell_type": "markdown",
   "metadata": {}
  },
  {
   "source": [
    "## 0. Constant parameters\n",
    "\n",
    "> Constants."
   ],
   "cell_type": "markdown",
   "metadata": {}
  },
  {
   "cell_type": "code",
   "execution_count": null,
   "metadata": {},
   "outputs": [],
   "source": [
    "# Gravity\n",
    "g = 9.8 # m/s^2"
   ]
  },
  {
   "source": [
    "## 1. Flow pattern maps\n",
    "\n",
    "> Limits and test points."
   ],
   "cell_type": "markdown",
   "metadata": {}
  },
  {
   "cell_type": "code",
   "execution_count": null,
   "metadata": {},
   "outputs": [],
   "source": [
    "# Flow pattern maps properties\n",
    "minj_l = 1e-2 \n",
    "maxj_l = 1e1\n",
    "minj_g = 1e-1\n",
    "maxj_g = 30\n",
    "testpointsj_l = 100 # \n",
    "testpointsj_g = testpointsj_l"
   ]
  },
  {
   "source": [
    "## 2. Dispersion maps\n",
    "\n",
    "> Constants, limits and test points."
   ],
   "cell_type": "markdown",
   "metadata": {}
  },
  {
   "cell_type": "code",
   "execution_count": null,
   "metadata": {},
   "outputs": [],
   "source": [
    "# Fourier analysis\n",
    "wavenumber_fourier = 2*pi\n",
    "\n",
    "# Dispersion analysis\n",
    "epstest = DOLFIN_EPS/1e250\n",
    "minlambda = 1e-1\n",
    "maxlambda = 1e2\n",
    "testpointsdispersion = 1000\n",
    "steplambda = (maxlambda - epstest)/30 # for ticks in local stability analysis\n",
    "limitlog = 1e-6\n",
    "\n",
    "inf_omega = -1e3\n",
    "sup_omega = 1e5\n",
    "inf_lambda = minlambda\n",
    "sup_lambda = maxlambda"
   ]
  },
  {
   "source": [
    "## 2. Python functions\n",
    "\n",
    "> Constants for integration."
   ],
   "cell_type": "markdown",
   "metadata": {}
  },
  {
   "cell_type": "code",
   "execution_count": null,
   "metadata": {},
   "outputs": [],
   "source": [
    "# Brenth interval guess\n",
    "lima = DOLFIN_EPS\n",
    "limb = 1 - lima\n",
    "\n",
    "# Fsolve initial guess\n",
    "x0 = 0.001"
   ]
  },
  {
   "source": [
    "## 3. Linearization\n",
    "\n",
    "> Functions for linearization."
   ],
   "cell_type": "markdown",
   "metadata": {}
  },
  {
   "cell_type": "code",
   "execution_count": null,
   "metadata": {},
   "outputs": [],
   "source": [
    "# For linearization of sources\n",
    "def gradient (Cmat_element, nvariable):\n",
    "    return dtv (Cmat_element, ref[nvariable - 1])\n",
    "\n",
    "# 3D matrix for fourier analysis\n",
    "def ThreeD (a, b, c): \n",
    "    lst = [[ [[] for col in range (a)] for col in range (b)] for row in range (c)] \n",
    "    return lst"
   ]
  },
  {
   "source": [
    "## 4. FEniCS\n",
    "\n",
    "> Parameters and functions."
   ],
   "cell_type": "markdown",
   "metadata": {}
  },
  {
   "cell_type": "code",
   "execution_count": null,
   "metadata": {},
   "outputs": [],
   "source": [
    "# Form compiler options\n",
    "parameters ['form_compiler']['representation'] = 'uflacs'\n",
    "parameters [\"form_compiler\"][\"optimize\"] = True\n",
    "parameters [\"form_compiler\"][\"cpp_optimize\"] = True\n",
    "# parameters [\"form_compiler\"]['precision'] = 50\n",
    "# parameters [\"form_compiler\"][\"cpp_optimize_flags\"] = \"-O3 -ffast-math -march=native\"\n",
    "# parameters [\"form_compiler\"][\"quadrature_degree\"] = 8\n",
    "# parameters [\"allow_extrapolation\"] = True\n",
    "# parameters [\"refinement_algorithm\"] = \"plaza_with_parent_facets\"\n",
    "# parameters [\"std_out_all_processes\"] = False; # Print log messages only from the root process in parallel\n",
    "\n",
    "# For linear and nonlinear solvers\n",
    "ffc_options = {\"optimize\": True, \\\n",
    "               \"eliminate_zeros\": True, \\\n",
    "               \"precompute_basis_const\": True, \\\n",
    "               \"precompute_ip_const\": True}\n",
    "\n",
    "# Test for PETSc and SLEPc\n",
    "if not has_linear_algebra_backend(\"PETSc\"):\n",
    "    print (\"DOLFIN has not been configured with PETSc. Exiting.\")\n",
    "    exit ()\n",
    "if not has_slepc ():\n",
    "    print (\"DOLFIN has not been configured with SLEPc. Exiting.\")\n",
    "    exit ()\n",
    "\n",
    "# For UFL\n",
    "def Max (a, b): \n",
    "    return (a + b + abs (a - b))/2\n",
    "def Min (a, b): \n",
    "    return (a + b - abs (a - b))/2"
   ]
  },
  {
   "source": [
    "## 5. Files\n",
    "\n",
    "> Criation of folders and files."
   ],
   "cell_type": "markdown",
   "metadata": {}
  },
  {
   "cell_type": "code",
   "execution_count": null,
   "metadata": {},
   "outputs": [],
   "source": [
    "# File for simulations\n",
    "ff_variable1 = File (\"fields/variable1.pvd\", \"compressed\")\n",
    "ff_variable2 = File (\"fields/variable2.pvd\", \"compressed\")\n",
    "ff_variable3 = File (\"fields/variable3.pvd\", \"compressed\")\n",
    "ff_variable4 = File (\"fields/variable4.pvd\", \"compressed\")\n",
    "\n",
    "# File for boundaries\n",
    "file_boundaries = File (\"domain/boundaries.xml\")"
   ]
  },
  {
   "source": [
    "## 6. Plots\n",
    "\n",
    "> Properties of plots."
   ],
   "cell_type": "markdown",
   "metadata": {}
  },
  {
   "cell_type": "code",
   "execution_count": null,
   "metadata": {},
   "outputs": [],
   "source": [
    "# Characteristics\n",
    "%matplotlib inline\n",
    "liststyles = [\"--\", \"-\", \"-.\", \".\"]\n",
    "listcolor = [\"k\", \"g\", \"b\", \"r\", \"none\"]\n",
    "listmarkers = [\"s\", \"o\", \"^\", \">\", \"<\", \"p\"]\n",
    "\n",
    "# Font\n",
    "font = {'family': 'Times New Roman',\n",
    "        'weight': 'normal',\n",
    "        'size': 18\n",
    "        }\n",
    "matplotlib.rc('font',family = 'Times New Roman')\n",
    "\n",
    "# Scatter\n",
    "alphascatter = 0.5\n",
    "\n",
    "areatestpoints = 100\n",
    "area_scatter = 25\n",
    "\n",
    "# Flow pattern maps\n",
    "mapsize = [12, 8]\n",
    "var1linemaps = 0.5\n",
    "\n",
    "# Stratified wavy flow plot\n",
    "epsplot = 1e-5\n",
    "n_wavy = 100"
   ]
  }
 ]
}