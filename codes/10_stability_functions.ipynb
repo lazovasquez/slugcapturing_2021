{
 "metadata": {
  "language_info": {
   "codemirror_mode": {
    "name": "ipython",
    "version": 3
   },
   "file_extension": ".py",
   "mimetype": "text/x-python",
   "name": "python",
   "nbconvert_exporter": "python",
   "pygments_lexer": "ipython3",
   "version": 3
  },
  "orig_nbformat": 2
 },
 "nbformat": 4,
 "nbformat_minor": 2,
 "cells": [
  {
   "cell_type": "markdown",
   "source": [
    "## Function for characteristics"
   ],
   "metadata": {}
  },
  {
   "cell_type": "code",
   "execution_count": null,
   "source": [
    "def characteristics_function (Aeval, Beval):\n",
    "    m1, _ = eig (Beval, b = Aeval, overwrite_a = True, overwrite_b = True, check_finite = True)\n",
    "\n",
    "    listreal1 = []\n",
    "    listimag1 = []\n",
    "\n",
    "    for l1 in range (len (m1)):\n",
    "        realpart1 = m1 [l1].real\n",
    "        imagpart1 = m1 [l1].imag\n",
    "        \n",
    "        listimag1.append (imagpart1)\n",
    "        listreal1.append (realpart1)\n",
    "\n",
    "    maxchar = max (listreal1)\n",
    "\n",
    "    return listreal1, listimag1, maxchar"
   ],
   "outputs": [],
   "metadata": {}
  },
  {
   "cell_type": "markdown",
   "source": [
    "## Function for amplification factors and eigenvectors"
   ],
   "metadata": {}
  },
  {
   "cell_type": "code",
   "execution_count": null,
   "source": [
    "def stability_function (Aeval, Beval, Ceval):\n",
    "    Acomplex   = Aeval.dot (1j)\n",
    "    Bcomplex   = Beval.dot (1j)\n",
    "\n",
    "    m2, vect2 = eig ( (-wavenumber_fourier*Bcomplex - Ceval), b =  -Acomplex, overwrite_a = True, overwrite_b = True, check_finite = True)\n",
    "\n",
    "    listreal2 = []\n",
    "    listimag2 = []\n",
    "\n",
    "    for l2 in range (len (m2)):\n",
    "        realpart2 = m2 [l2].real                \n",
    "        imagpart2 = m2 [l2].imag\n",
    "        \n",
    "        listimag2.append (imagpart2)\n",
    "        listreal2.append (realpart2)\n",
    "\n",
    "    return listreal2, listimag2, m2, vect2\n"
   ],
   "outputs": [],
   "metadata": {}
  },
  {
   "cell_type": "markdown",
   "source": [
    "## Functions for stiffness"
   ],
   "metadata": {}
  },
  {
   "cell_type": "code",
   "execution_count": null,
   "source": [
    "def stiffness_function (Bm, visc, Cm, variable, dvariable):\n",
    "        # Variational form\n",
    "        R = -(- Bm - visc*Cm)\n",
    "\n",
    "        # Compute directional derivative about u in the direction of du (Jacobian)\n",
    "        dF = derivative (R, variable, dvariable)\n",
    "        dummy = (inner (Constant (0.0), v1) + inner (Constant (0.0), v2) + inner (Constant (0.0), v3) + inner (Constant (0.0), v4))*dx\n",
    "\n",
    "        # Assemble stiffness form\n",
    "        A_stiffness = PETScMatrix ()\n",
    "        b_stiffness = PETScVector ()\n",
    "\n",
    "        # Assemble system\n",
    "        bcs = [] # Alternative 2\n",
    "        A_stiffness, _ = assemble_system (dF, dummy, bcs = bcs, A_tensor = A_stiffness, b_tensor = b_stiffness) # Alternative 2\n",
    "        # A_stiffness = assemble (dF, tensor = A_stiffness) # Alternative 1\n",
    "\n",
    "        # Matrix A1\n",
    "        A1 = matrix (A_stiffness.array ())\n",
    "\n",
    "        # Condition number\n",
    "        # condnumber = LA.cond (A1)\n",
    "        # print (\"Condition number:\", condnumber)\n",
    "\n",
    "        # # Compute all eigenvalues of A x = \\lambda x\n",
    "        # eigensolver.solve () #(neigs)\n",
    "        \n",
    "        # #Exporting the real part of the eigenvectors and plotting eigenvalues\n",
    "        # Real = []\n",
    "        # Imag = []\n",
    "\n",
    "        # for i in range (eigensolver.get_number_converged ()):\n",
    "        #     r, c, rv, cv = eigensolver.get_eigenpair (i)\n",
    "\n",
    "        #     # Real part of eigenvalues\n",
    "        #     Real.append (r)\n",
    "        #     Imag.append (c)\n",
    "\n",
    "        Real, Imag = solver_stiffness (A_stiffness)\n",
    "\n",
    "        return Real, Imag, A_stiffness"
   ],
   "outputs": [],
   "metadata": {}
  },
  {
   "cell_type": "markdown",
   "source": [
    "> Eigenvalue function of a sparse matrix"
   ],
   "metadata": {}
  },
  {
   "cell_type": "code",
   "execution_count": null,
   "source": [
    "def eigenvalue_function (Beval):\n",
    "    m1, _ = eigs (Beval)\n",
    "\n",
    "    listreal1 = []\n",
    "    listimag1 = []\n",
    "\n",
    "    for l1 in range (len (m1)):\n",
    "        realpart1 = m1 [l1].real\n",
    "        imagpart1 = m1 [l1].imag\n",
    "        \n",
    "        listimag1.append (imagpart1)\n",
    "        listreal1.append (realpart1)\n",
    "\n",
    "    maxchar = max (listreal1)\n",
    "\n",
    "    return listreal1, listimag1, maxchar"
   ],
   "outputs": [],
   "metadata": {}
  }
 ]
}