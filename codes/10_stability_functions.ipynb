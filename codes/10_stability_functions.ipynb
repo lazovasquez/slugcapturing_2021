{
 "metadata": {
  "language_info": {
   "codemirror_mode": {
    "name": "ipython",
    "version": 3
   },
   "file_extension": ".py",
   "mimetype": "text/x-python",
   "name": "python",
   "nbconvert_exporter": "python",
   "pygments_lexer": "ipython3",
   "version": 3
  },
  "orig_nbformat": 2
 },
 "nbformat": 4,
 "nbformat_minor": 2,
 "cells": [
  {
   "source": [
    "## Function for characteristics"
   ],
   "cell_type": "markdown",
   "metadata": {}
  },
  {
   "cell_type": "code",
   "execution_count": null,
   "metadata": {},
   "outputs": [],
   "source": [
    "# FUNCTION: \n",
    "# listreal1, listimag1, maxchar = characteristics_function (Aeval, Beval)\n",
    "\n",
    "# Matrices\n",
    "# Aeval = np.asarray (Amat (ref[0], ref[1], ref[2], ref[3]))\n",
    "# Beval = np.asarray (Bmat (ref[0], ref[1], ref[2], ref[3]))\n",
    "\n",
    "def characteristics_function (Aeval, Beval):\n",
    "    m1, _ = eig (Beval, b = Aeval, overwrite_a = True, overwrite_b = True, check_finite = True)\n",
    "\n",
    "    listreal1 = []\n",
    "    listimag1 = []\n",
    "\n",
    "    for l1 in range (len (m1)):\n",
    "        realpart1 = m1 [l1].real\n",
    "        imagpart1 = m1 [l1].imag\n",
    "        \n",
    "        listimag1.append (imagpart1)\n",
    "        listreal1.append (realpart1)\n",
    "\n",
    "    maxchar = max (listreal1)\n",
    "\n",
    "    return listreal1, listimag1, maxchar"
   ]
  },
  {
   "source": [
    "## Function for amplification factors and eigenvectors"
   ],
   "cell_type": "markdown",
   "metadata": {}
  },
  {
   "cell_type": "code",
   "execution_count": null,
   "metadata": {},
   "outputs": [],
   "source": [
    "# FUNCTION: \n",
    "# listreal2, listimag2, m2, vect2 = stability_function (Aeval, Beval, Ceval)\n",
    "\n",
    "def stability_function (Aeval, Beval, Ceval):\n",
    "    Acomplex   = Aeval.dot (1j)\n",
    "    Bcomplex   = Beval.dot (1j)\n",
    "\n",
    "    m2, vect2 = eig ( (-wavenumber_fourier*Bcomplex - Ceval), b =  -Acomplex, overwrite_a = True, overwrite_b = True, check_finite = True)\n",
    "\n",
    "    listreal2 = []\n",
    "    listimag2 = []\n",
    "\n",
    "    for l2 in range (len (m2)):\n",
    "        realpart2 = m2 [l2].real                \n",
    "        imagpart2 = m2 [l2].imag\n",
    "        \n",
    "        listimag2.append (imagpart2)\n",
    "        listreal2.append (realpart2)\n",
    "\n",
    "    return listreal2, listimag2, m2, vect2\n",
    "\n"
   ]
  }
 ]
}