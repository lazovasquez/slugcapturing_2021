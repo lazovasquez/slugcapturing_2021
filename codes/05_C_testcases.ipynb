{
 "metadata": {
  "language_info": {
   "codemirror_mode": {
    "name": "ipython",
    "version": 3
   },
   "file_extension": ".py",
   "mimetype": "text/x-python",
   "name": "python",
   "nbconvert_exporter": "python",
   "pygments_lexer": "ipython3",
   "version": "3.7.6"
  },
  "orig_nbformat": 2,
  "kernelspec": {
   "name": "python376jvsc74a57bd0dca0ade3e726a953b501b15e8e990130d2b7799f14cfd9f4271676035ebe5511",
   "display_name": "Python 3.7.6 64-bit ('base': conda)"
  }
 },
 "nbformat": 4,
 "nbformat_minor": 2,
 "cells": [
  {
   "cell_type": "markdown",
   "source": [
    "# _Operations_"
   ],
   "metadata": {}
  },
  {
   "cell_type": "code",
   "execution_count": null,
   "source": [
    "# OPTIONS: system_1 (primitive variables with A != I), system_2 (primitive variables with A = I), system_3 (conserved variables)\n",
    "system = \"system_2\"\n",
    "# Simulation # OPTIONS: stiffness, linear_simulation, nonlinear_simulation\n",
    "simulation = \"linear_simulation\"\n",
    "# Validation # OPTIONS: khinstabilities, experimental\n",
    "validation = \"khinstabilities\"\n",
    "# For \"linear_simulation\" # OPTIONS: linear, nonlinear\n",
    "effect = \"linear\"\n",
    "# For \"linear_simulation\" # OPTIONS: transient_spectrum, no_transient_spectrum\n",
    "eigenspectrum = \"no_transient_spectrum\"   "
   ],
   "outputs": [],
   "metadata": {}
  },
  {
   "cell_type": "markdown",
   "source": [
    "# Cases\n",
    "\n",
    "> Test cases and equation terms"
   ],
   "metadata": {}
  },
  {
   "cell_type": "code",
   "execution_count": null,
   "source": [
    "# Study case # OPTIONS: case0, case1, case2, case3...\n",
    "case = \"case1\"\n",
    "# Pipe inclination # OPTIONS: horizontal, upward_straight, downward_straight, v-section\n",
    "inclination = \"horizontal\"\n",
    "# Element space # OPTIONS: TaylorHood, CG_elements, Mini, IPDG\n",
    "elementspace = \"TaylorHood\"\n",
    "# For Taylor-Hood element space degree of velocity spaces (higher p)                                   \n",
    "p = 2 # p = p_vector[2]\n",
    "# Number of elements\n",
    "nx = nxvector[0]\n",
    "# Viscous effects # OPTIONS: viscous, inviscid\n",
    "viscous_terms = \"viscous\"\n",
    "# OPTIONS: periodic, nonperiodic\n",
    "dirichlet_type = \"nonperiodic\"  \n",
    "# Initial conditions # OPTIONS: SS (stratified smooth) , SS_perturbed (stratified wavy)\n",
    "IBVP = \"SS\"\n"
   ],
   "outputs": [],
   "metadata": {}
  },
  {
   "cell_type": "markdown",
   "source": [
    "## 5. Time integration\n",
    "\n",
    "> Time discretization patrameters."
   ],
   "metadata": {}
  },
  {
   "cell_type": "code",
   "execution_count": null,
   "source": [
    "# Time integration method # OPTIONS: BDF1, BDF2, CN\n",
    "time_method = \"BDF1\"\n",
    "\n",
    "########## Consistency check\n",
    "# CFL input # 0.7 Holmas, 0.978 Van Zwieten, 0.95 Bonzanini, 1 Sanderse, 0.22 Ferrari\n",
    "CFL = 1\n",
    "\n",
    "# Time step method # OPTIONS: timestep_input, cfl_based\n",
    "timestep = \"timestep_input\"\n",
    "\n",
    "# Type of timestep input # OPTIONS: sanderse_approach, numerical_value\n",
    "type_of_timestep_input = \"sanderse_approach\"\n",
    "if type_of_timestep_input == \"sanderse_approach\":\n",
    "    timestep_in = 1/nx\n",
    "elif type_of_timestep_input == \"numerical_value\":\n",
    "    timestep_in = 0.0001\n",
    "\n",
    "# Final time method # OPTIONS: T_steps_based, T_input\n",
    "T_simulation = \"T_steps_based\"\n",
    "if T_simulation == \"T_steps_based\":\n",
    "    num_steps = 1\n",
    "elif T_simulation == \"T_input\":\n",
    "    T_in = 5\n",
    "\n",
    "# CFL method # OPTIONS: liquid, gas, max_velocity, max_characteristic\n",
    "base_CFL = \"max_characteristic\""
   ],
   "outputs": [],
   "metadata": {}
  },
  {
   "cell_type": "code",
   "execution_count": null,
   "source": [
    "# For BDF2 first step\n",
    "step_bdf2 = \"first\""
   ],
   "outputs": [],
   "metadata": {}
  },
  {
   "cell_type": "markdown",
   "source": [
    "## 6. Regularization\n",
    "\n",
    "> Parameters for regularization."
   ],
   "metadata": {}
  },
  {
   "cell_type": "code",
   "execution_count": null,
   "source": [
    "# Regularization: artificial viscosities\n",
    "# Gamma_lvector = np.array (  [[0, 1E-4, 1e-1], \n",
    "#                             [0, 1E-4, 1e-1], \n",
    "#                             [0, 0, 0]])\n",
    "# nu_lvector = np.array ( [[0, 1e-10, 1e-1], \n",
    "#                         [0, 1E-10, 1e-1],\n",
    "#                         [0, 0, 0]])\n",
    "# Gamma_gvector = Gamma_lvector\n",
    "# nu_gvector = nu_lvector"
   ],
   "outputs": [],
   "metadata": {}
  }
 ]
}