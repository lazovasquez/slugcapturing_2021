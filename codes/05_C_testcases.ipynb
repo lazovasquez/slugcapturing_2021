{
 "metadata": {
  "language_info": {
   "codemirror_mode": {
    "name": "ipython",
    "version": 3
   },
   "file_extension": ".py",
   "mimetype": "text/x-python",
   "name": "python",
   "nbconvert_exporter": "python",
   "pygments_lexer": "ipython3",
   "version": "3.8.2"
  },
  "orig_nbformat": 2,
  "kernelspec": {
   "name": "python3",
   "display_name": "Python 3.8.2 64-bit ('fenicsproject': conda)"
  },
  "interpreter": {
   "hash": "38da386f580614e4c6a85824bff41beb4ebd8d62055fe5e2510efbe524b5bbb7"
  }
 },
 "nbformat": 4,
 "nbformat_minor": 2,
 "cells": [
  {
   "cell_type": "markdown",
   "source": [
    "## Type of simulation\n",
    "> Choose the equation system, type of simulation or stability analysis and validation data."
   ],
   "metadata": {}
  },
  {
   "cell_type": "code",
   "execution_count": 1,
   "source": [
    "# Simulation\n",
    "simulation = \"linear_simulation\" # OPTIONS: stiffness, linear_simulation, nonlinear_simulation\n",
    "# Validation\n",
    "validation = \"experimental\" # OPTIONS: khinstabilities, experimental\n",
    "# Plot reference conditions\n",
    "show_data = \"no_show_data\" # OPTIONS: show_data, no_show_data (for discrete flow pattern maps)"
   ],
   "outputs": [],
   "metadata": {}
  },
  {
   "cell_type": "markdown",
   "source": [
    "## Cases\n",
    "> Choose test case and inclination angle."
   ],
   "metadata": {}
  },
  {
   "cell_type": "code",
   "execution_count": 2,
   "source": [
    "# Study case \n",
    "case = \"case1\" # OPTIONS: case0, case1, case2, case3...\n",
    "# Pipe inclination \n",
    "inclination = \"horizontal\" # OPTIONS: horizontal, upward_straight, downward_straight, v-section"
   ],
   "outputs": [],
   "metadata": {}
  },
  {
   "cell_type": "markdown",
   "source": [
    "## Spatial discretization\n",
    "> Choose the finite element parameters"
   ],
   "metadata": {}
  },
  {
   "cell_type": "code",
   "execution_count": 3,
   "source": [
    "# Element function space\n",
    "elementspace = \"TaylorHood\" # OPTIONS: TaylorHood, CG_elements, Mini, IPDG\n",
    "# Highest order of basis functions. If CG (p for all variables), if TH (p for velocities, p-1 for the other variables)                       \n",
    "p = 2\n",
    "# Delta_s\n",
    "nx = 40 # OPTIONS: 40, 400, 1000"
   ],
   "outputs": [],
   "metadata": {}
  },
  {
   "cell_type": "markdown",
   "source": [
    "## Time integration\n",
    "> Time discretization patrameters."
   ],
   "metadata": {}
  },
  {
   "cell_type": "code",
   "execution_count": 5,
   "source": [
    "#  Time integration method\n",
    "time_method = \"CN\" # OPTIONS: BDF1, BDF2, CN\n",
    "# For BDF2 first step\n",
    "step_bdf2 = \"first\""
   ],
   "outputs": [],
   "metadata": {}
  },
  {
   "cell_type": "markdown",
   "source": [
    "> CFL and time steps"
   ],
   "metadata": {}
  },
  {
   "cell_type": "code",
   "execution_count": null,
   "source": [
    "# CFL_type\n",
    "CFL_type = \"CFL_number\" # OPTIONS: CFL_number, CFL_refinement\n",
    "if CFL_type == \"CFL_number\":\n",
    "    # CFL input\n",
    "    CFL = 0.22 # OPTIONS: 1.0 Consistency check, 0.7 Holmas, 0.978 Van Zwieten, 0.95 Bonzanini, 1 Sanderse, 0.22 Ferrari\n",
    "\n",
    "# Velocity for CFL \n",
    "CFL_velocity = \"max_characteristic\" # OPTIONS: liquid, gas, max_velocity, max_characteristic\n",
    "\n",
    "# Time step method \n",
    "timestep = \"timestep_input\" # OPTIONS: timestep_input, cfl_based\n",
    "\n",
    "# Type of timestep input\n",
    "if timestep == \"timestep_input\":\n",
    "    type_of_timestep_input = \"sanderse_approach\" # OPTIONS: sanderse_approach, numerical_value\n",
    "    if type_of_timestep_input == \"sanderse_approach\":\n",
    "        timestep_in = 1/nx #CFL/(nx*2000) # OPTIONS: 1/nx, CFL*theta_cfl/(2*pi*2000)\n",
    "    elif type_of_timestep_input == \"numerical_value\":\n",
    "        timestep_in = 0.0001\n",
    "\n",
    "# Final time method \n",
    "T_simulation = \"T_steps_based\" # OPTIONS: T_steps_based, T_input\n",
    "if T_simulation == \"T_steps_based\":\n",
    "    num_steps = 1\n",
    "elif T_simulation == \"T_input\":\n",
    "    T_in = 5"
   ],
   "outputs": [],
   "metadata": {}
  }
 ]
}