{
 "metadata": {
  "language_info": {
   "codemirror_mode": {
    "name": "ipython",
    "version": 3
   },
   "file_extension": ".py",
   "mimetype": "text/x-python",
   "name": "python",
   "nbconvert_exporter": "python",
   "pygments_lexer": "ipython3",
   "version": "3.8.2"
  },
  "orig_nbformat": 2,
  "kernelspec": {
   "name": "python3",
   "display_name": "Python 3.8.2 64-bit ('fenicsproject': conda)"
  },
  "metadata": {
   "interpreter": {
    "hash": "38da386f580614e4c6a85824bff41beb4ebd8d62055fe5e2510efbe524b5bbb7"
   }
  },
  "interpreter": {
   "hash": "38da386f580614e4c6a85824bff41beb4ebd8d62055fe5e2510efbe524b5bbb7"
  }
 },
 "nbformat": 4,
 "nbformat_minor": 2,
 "cells": [
  {
   "cell_type": "markdown",
   "source": [
    "## Libraries\n",
    "> Import libraries"
   ],
   "metadata": {}
  },
  {
   "cell_type": "code",
   "execution_count": 1,
   "source": [
    "from fenics import *\n",
    "from IPython.display import clear_output  \n",
    "from math import pi\n",
    "from matplotlib import (rc, style)\n",
    "from matplotlib.ticker import (MultipleLocator, FormatStrFormatter, AutoMinorLocator)\n",
    "from mpl_toolkits.mplot3d import Axes3D\n",
    "from numpy import linalg as LA\n",
    "from scipy import (linalg, matrix, sparse)\n",
    "from scipy.interpolate import interp1d\n",
    "from scipy.linalg import (eigvals, eig)\n",
    "from scipy.misc import derivative as dtv\n",
    "from scipy.optimize import (brenth, fsolve)\n",
    "from scipy.sparse.linalg import eigs\n",
    "from scipy.sparse import csr_matrix\n",
    "\n",
    "import math\n",
    "import matplotlib\n",
    "import matplotlib.font_manager\n",
    "import matplotlib.pyplot as plt\n",
    "import matplotlib.ticker as mtick\n",
    "import numpy as np\n",
    "import pprint\n",
    "import scipy.signal\n",
    "import time\n",
    "import ufl"
   ],
   "outputs": [],
   "metadata": {}
  }
 ]
}