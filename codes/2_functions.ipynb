{
 "metadata": {
  "language_info": {
   "codemirror_mode": {
    "name": "ipython",
    "version": 3
   },
   "file_extension": ".py",
   "mimetype": "text/x-python",
   "name": "python",
   "nbconvert_exporter": "python",
   "pygments_lexer": "ipython3",
   "version": "3.8.2"
  },
  "orig_nbformat": 2,
  "kernelspec": {
   "name": "python38264bitfenicsprojectcondabf159a8f9ce4443a8f5d4906e9a70930",
   "display_name": "Python 3.8.2 64-bit ('fenicsproject': conda)"
  },
  "metadata": {
   "interpreter": {
    "hash": "38da386f580614e4c6a85824bff41beb4ebd8d62055fe5e2510efbe524b5bbb7"
   }
  }
 },
 "nbformat": 4,
 "nbformat_minor": 2,
 "cells": [
  {
   "source": [
    "## _Functions_\n",
    "1. Fenics\n",
    "2. Linearization\n",
    "3. Characteristics\n",
    "4. Stability"
   ],
   "cell_type": "markdown",
   "metadata": {}
  },
  {
   "source": [
    "## 2. Linearization"
   ],
   "cell_type": "markdown",
   "metadata": {}
  },
  {
   "cell_type": "code",
   "execution_count": null,
   "metadata": {},
   "outputs": [],
   "source": [
    "# For linearization of sources\n",
    "def gradient (Cmat_element, nvariable):\n",
    "    return dtv (Cmat_element, ref[nvariable - 1])\n",
    "\n",
    "# 3D matrix for fourier analysis\n",
    "def ThreeD (a, b, c): \n",
    "    lst = [[ [[] for col in range (a)] for col in range (b)] for row in range (c)] \n",
    "    return lst"
   ]
  },
  {
   "source": [
    "## 1. Fenics"
   ],
   "cell_type": "markdown",
   "metadata": {}
  },
  {
   "cell_type": "code",
   "execution_count": 2,
   "metadata": {},
   "outputs": [],
   "source": [
    "# For UFL\n",
    "def Max (a, b): \n",
    "    return (a + b + abs (a - b))/2\n",
    "def Min (a, b): \n",
    "    return (a + b - abs (a - b))/2"
   ]
  }
 ]
}