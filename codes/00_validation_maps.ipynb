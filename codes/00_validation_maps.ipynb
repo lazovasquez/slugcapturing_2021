{
 "cells": [
  {
   "cell_type": "markdown",
   "source": [
    "## Validation\n",
    "> HORIZONTAL SANDERSE (D=0.078m)"
   ],
   "metadata": {}
  },
  {
   "cell_type": "code",
   "execution_count": null,
   "source": [
    "if all ([D == 0.078, i == 0]):\n",
    "    x1,y1 = np.loadtxt('validation/Sanderse2017_horizontal/well-posedness_sanderse.csv',\n",
    "                unpack = True, \n",
    "                delimiter = ',')\n",
    "    x2,y2 = np.loadtxt('validation/Sanderse2017_horizontal/globalstability_sanderse.csv',\n",
    "                    unpack = True, \n",
    "                    delimiter = ',')\n",
    "    \n",
    "    # fig, ax = plt.subplots()\n",
    "    ax.loglog(x1,y1, 'k-', label = 'Differential IKH (Sanderse et al., 2017)')\n",
    "    ax.loglog(x2,y2, 'k:', label = 'Discrete VKH (Sanderse et al., 2017)')"
   ],
   "outputs": [],
   "metadata": {}
  },
  {
   "cell_type": "markdown",
   "source": [
    "> Plot Barnea Shoham Taitel (1981) for validation (https://automeris.io/WebPlotDigitizer/tutorial.html)\n",
    "\n",
    "horizontal pipe d = 0.051"
   ],
   "metadata": {}
  },
  {
   "cell_type": "code",
   "execution_count": null,
   "source": [
    "if all ([D == 0.051, i == 0]):\n",
    "    x1,y1 = np.loadtxt('validation/barnea1994_ikh-vkhlimits/barnea1994horizontal/barnea1994_0deg_IKH.csv',\n",
    "                    unpack = True, \n",
    "                    delimiter = ',')\n",
    "    x2,y2 = np.loadtxt('validation/barnea1994_ikh-vkhlimits/barnea1994horizontal/barnea1994_0deg_VKH.csv',\n",
    "                    unpack = True, \n",
    "                    delimiter = ',')\n",
    "    # x3,y3 = np.loadtxt('validation/barnea1994_ikh-vkhlimits/barnea1994horizontal/shoham1982_0deg.csv',\n",
    "                    # unpack = True, \n",
    "                    # delimiter = ',')\n",
    "    # x4,y4 = np.loadtxt('validation/barnea1994_ikh-vkhlimits/barnea1994horizontal/barnea1994_0deg_hlD.csv',\n",
    "                    # unpack = True, \n",
    "                    # delimiter = ',')\n",
    "\n",
    "    # fig, ax = plt.subplots(1)\n",
    "\n",
    "    ax.loglog(x1,y1, 'ko-', alpha = alphascatter, label = 'Differential IKH (Barnea and Taitel, 1994)')\n",
    "    ax.loglog(x2,y2, 'kv-', alpha = alphascatter, label = 'Experimental VKH (Barnea and Taitel, 1994)')\n",
    "    # ax.scatter(x2,y2, s = area, marker = \"v\", color='k', alpha = alphaplot, edgecolors = 'k', linewidths = 1, label = 'VKH Barnea and Taitel (1994)')\n",
    "    # ax.loglog(x3,y3, 'k^-', alpha = alphascatter, label = 'VKH (Shoham, 1982)')\n",
    "    # ax.loglog(x4,y4, 'ks-', alpha = alphascatter, label = r'$\\alpha_l$ = 0.5')\n",
    "\n",
    "    handles,labels = ax.get_legend_handles_labels()\n",
    "\n",
    "    handles = [handles[0], handles[1], handles[2]]\n",
    "    labels = [labels[0], labels[1], labels[2]]\n",
    "\n",
    "    leg1  = ax.legend (handles,\n",
    "                    labels,\n",
    "                    loc = 'best',\n",
    "                    shadow = True, \n",
    "                    frameon = True, \n",
    "                    fontsize = 14);\n",
    "\n",
    "    # Stability regions\n",
    "    # plt.text(0.15, 0.05, 'Well-posed VKH stable')\n",
    "    # plt.text(0.5, 0.4, 'Well-posed VKH unstable')\n",
    "    # plt.text(0.9, 3, 'Ill-posed')"
   ],
   "outputs": [],
   "metadata": {}
  },
  {
   "cell_type": "markdown",
   "source": [
    "\n",
    "> 0.25inc"
   ],
   "metadata": {}
  },
  {
   "cell_type": "code",
   "execution_count": null,
   "source": [
    "if all ([D == 0.051, i == 1]):\n",
    "    x1,y1 = np.loadtxt('validation/barnea1994_ikh-vkhlimits/barnea 1994_025/barnea1994_025deg_IKH.csv',\n",
    "                    unpack = True, \n",
    "                    delimiter = ',')\n",
    "    x2,y2 = np.loadtxt('validation/barnea1994_ikh-vkhlimits/barnea 1994_025/barnea1994_025deg_VKH.csv',\n",
    "                    unpack = True, \n",
    "                    delimiter = ',')\n",
    "    # x3,y3 = np.loadtxt('validation/barnea1994_ikh-vkhlimits/barnea 1994_025/shoham1982_025deg.csv',\n",
    "                    # unpack = True, \n",
    "                    # delimiter = ',')\n",
    "    # x4,y4 = np.loadtxt('validation/barnea1994_ikh-vkhlimits/barnea 1994_025/barnea1994_025deg_hlD.csv',\n",
    "    #                 unpack = True, \n",
    "    #                 delimiter = ',')\n",
    "\n",
    "    # fig, ax = plt.subplots(1)\n",
    "\n",
    "    ax.loglog(x1,y1, 'ko-', alpha = alphascatter, label = 'Differential IKH (Barnea and Taitel, 1994)')\n",
    "    ax.loglog(x2,y2, 'kv-', alpha = alphascatter, label = 'Experimental VKH (Barnea and Taitel, 1994)')\n",
    "    # ax.scatter(x2,y2, s = area, marker = \"v\", color='k', alpha = alphaplot, edgecolors = 'k', linewidths = 1, label = 'VKH Barnea and Taitel (1994)')\n",
    "    # ax.loglog(x3,y3, 'k^-', alpha = alphaplot, label = 'VKH (Shoham, 1982)')\n",
    "    # ax.loglog(x4,y4, 'ks-', alpha = alphaplot, label = r'$\\alpha_l$ = 0.5')\n",
    "\n",
    "    handles,labels = ax.get_legend_handles_labels()\n",
    "\n",
    "    handles = [handles[0], handles[1], handles[2]]\n",
    "    labels = [labels[0], labels[1], labels[2]]\n",
    "\n",
    "    leg1  = ax.legend (handles,\n",
    "                    labels,\n",
    "                    loc = 'best',\n",
    "                    shadow = True, \n",
    "                    frameon = True);\n",
    "\n",
    "    # Stability regions\n",
    "    # plt.text(0.3, 0.05, 'Well-posed VKH stable')\n",
    "    # plt.text(5.0, 0.02, 'Well-posed VKH unstable')\n",
    "    # plt.text(1.1, 2, 'Ill-posed')"
   ],
   "outputs": [],
   "metadata": {}
  },
  {
   "cell_type": "markdown",
   "source": [
    "> -5 deg inc"
   ],
   "metadata": {}
  },
  {
   "cell_type": "code",
   "execution_count": null,
   "source": [
    "if all ([D == 0.051, i == 2]):\n",
    "    x1,y1 = np.loadtxt('validation/barnea1994_ikh-vkhlimits/barnea1994-5/barnea1994_-5deg_IKH.csv',\n",
    "                    unpack = True, \n",
    "                    delimiter = ',')\n",
    "    x2,y2 = np.loadtxt('validation/barnea1994_ikh-vkhlimits/barnea1994-5/shoham1982_-5deg.csv',\n",
    "                    unpack = True, \n",
    "                    delimiter = ',')\n",
    "    # x3,y3 = np.loadtxt('validation/barnea1994_ikh-vkhlimits/barnea1994-5/barnea1994_-5deg_hlD.csv',\n",
    "                    # unpack = True, \n",
    "                    # delimiter = ',')\n",
    "\n",
    "    # fig, ax = plt.subplots(1)\n",
    "    ax.loglog(x1,y1, 'ko-', alpha = alphascatter, label = 'Differential IKH (Barnea and Taitel, 1994)')\n",
    "    ax.loglog(x2,y2, 'kv-', alpha = alphascatter, label = 'Experimental VKH (Barnea and Taitel, 1994)')\n",
    "    # ax.scatter(x2,y2, s = area, marker = \"v\", color='k', alpha = alphaplot, edgecolors = 'k', linewidths = 1, label = 'VKH Barnea and Taitel (1994)')\n",
    "    ax.loglog(x2,y2, 'k^-', alpha = alphascatter, label = 'Experimental VKH (Shoham, 1982)')\n",
    "    # ax.loglog(x3,y3, 'ks-', alpha = alphaplot, label = r'$\\alpha_l$ = 0.5')\n",
    "\n",
    "    handles,labels = ax.get_legend_handles_labels()\n",
    "\n",
    "    handles = [handles[0], handles[1], handles[2]]\n",
    "    labels = [labels[0], labels[1], labels[2]]\n",
    "\n",
    "    leg1  = ax.legend (handles,\n",
    "                    labels,\n",
    "                    loc = 'best',\n",
    "                    shadow = True, \n",
    "                    frameon = True);\n",
    "\n",
    "    # Stability regions\n",
    "    # plt.text(3.0, 0.012, 'Well-posed VKH stable')\n",
    "    # plt.text(0.3, 0.5, 'Well-posed VKH unstable')\n",
    "    # plt.text(1.5, 3, 'Ill-posed')"
   ],
   "outputs": [],
   "metadata": {}
  },
  {
   "cell_type": "markdown",
   "source": [
    "# Plot information"
   ],
   "metadata": {}
  },
  {
   "cell_type": "code",
   "execution_count": null,
   "source": [],
   "outputs": [],
   "metadata": {}
  }
 ],
 "metadata": {
  "orig_nbformat": 4,
  "language_info": {
   "name": "python"
  }
 },
 "nbformat": 4,
 "nbformat_minor": 2
}