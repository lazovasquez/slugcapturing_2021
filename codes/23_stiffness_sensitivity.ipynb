{
 "metadata": {
  "language_info": {
   "codemirror_mode": {
    "name": "ipython",
    "version": 3
   },
   "file_extension": ".py",
   "mimetype": "text/x-python",
   "name": "python",
   "nbconvert_exporter": "python",
   "pygments_lexer": "ipython3",
   "version": "3.8.2"
  },
  "orig_nbformat": 4,
  "kernelspec": {
   "name": "python3",
   "display_name": "Python 3.8.2 64-bit ('fenicsproject': conda)"
  },
  "interpreter": {
   "hash": "38da386f580614e4c6a85824bff41beb4ebd8d62055fe5e2510efbe524b5bbb7"
  }
 },
 "nbformat": 4,
 "nbformat_minor": 2,
 "cells": [
  {
   "cell_type": "markdown",
   "source": [
    "## Code for stiffness\n",
    ">ddd"
   ],
   "metadata": {}
  },
  {
   "cell_type": "code",
   "execution_count": null,
   "source": [
    "if discretization == \"semi_discretized\":\n",
    "   "
   ],
   "outputs": [],
   "metadata": {}
  },
  {
   "cell_type": "code",
   "execution_count": null,
   "source": [
    "def stiffness_function (Aeval, Beval): \n",
    "\n",
    "    return figure"
   ],
   "outputs": [],
   "metadata": {}
  },
  {
   "cell_type": "code",
   "execution_count": null,
   "source": [
    "%config InlineBackend.close_figures = False\n",
    "\n",
    "def stiffness_function (t, x):\n",
    "    fig = figure()\n",
    "    x = plot(t,x)\n",
    "    fig.savefig('plot.png') # This is just to show the figure is still generated\n",
    "\n",
    "    return fig\n",
    "\n",
    "t = arange (0,6,0.01)\n",
    "x = sin (t)\n",
    "\n",
    "f = stiffness_function (t, x)"
   ],
   "outputs": [],
   "metadata": {}
  },
  {
   "cell_type": "code",
   "execution_count": null,
   "source": [
    "%run ./00_libraries.ipynb\n",
    "%run ./01_constants_codes.ipynb\n",
    "\n",
    "# Some example data to display\n",
    "x = np.linspace (0, 2 * np.pi, 400)\n",
    "y = np.sin (x ** 2)\n",
    "\n",
    "def stiffness_function (x, y):\n",
    "    \n",
    "    fig, (ax0, ax1) = plt.subplots(ncols = 2, constrained_layout = True)\n",
    "    fig.figsize = mapsize\n",
    "\n",
    "    # ax0\n",
    "    ax0.scatter (x,\n",
    "                y,\n",
    "                s = areatestpoints,\n",
    "                marker = listmarkers[0],\n",
    "                color = listcolor [0],\n",
    "                edgecolors = listcolor [0],\n",
    "                linewidths = 1,\n",
    "                alpha = alphascatter)\n",
    "\n",
    "    ax0.set_title ('Axis [0, 0]')\n",
    "\n",
    "    ax0.xaxis.set_tick_params (which='major', size=7, direction='in', top='on')\n",
    "    ax0.xaxis.set_tick_params (which='minor', size=7, direction='in', top='on')\n",
    "    ax0.yaxis.set_tick_params (which='major', size=7, direction='in', right='on')\n",
    "    ax0.yaxis.set_tick_params (which='minor', size=7, direction='in', right='on')\n",
    "\n",
    "    ax0.grid(True)\n",
    "    ax0.set(xlabel = r'Re ($\\lambda$) $[\\it{s^{-1}}]$', ylabel=r'Im ($\\lambda$) $[\\it{s^{-1}}]$')\n",
    "\n",
    "    # ax1\n",
    "    ax1.scatter (y,\n",
    "                x,\n",
    "                s = areatestpoints,\n",
    "                marker = listmarkers[0],\n",
    "                color = listcolor [0], \n",
    "                edgecolors = listcolor [0],\n",
    "                linewidths = 1,\n",
    "                alpha = alphascatter)\n",
    "    ax1.set_title('Axis [1, 0]')\n",
    "\n",
    "    ax1.xaxis.set_tick_params(which='major', size=7, direction='in', top='on')\n",
    "    ax1.xaxis.set_tick_params(which='minor', size=7, direction='in', top='on')\n",
    "    ax1.yaxis.set_tick_params(which='major', size=7, direction='in', right='on')\n",
    "    ax1.yaxis.set_tick_params(which='minor', size=7, direction='in', right='on')\n",
    "\n",
    "    ax1.grid(True)\n",
    "    ax1.set(xlabel = r'Re ($\\lambda$) $[\\it{s^{-1}}]$', ylabel=r'Im ($\\lambda$) $[\\it{s^{-1}}]$')\n",
    "\n",
    "    return "
   ],
   "outputs": [],
   "metadata": {}
  },
  {
   "cell_type": "code",
   "execution_count": null,
   "source": [
    "ax = stiffness_function (x, y)"
   ],
   "outputs": [],
   "metadata": {}
  },
  {
   "cell_type": "markdown",
   "source": [
    "## Case I\n",
    "Finite elements"
   ],
   "metadata": {}
  },
  {
   "cell_type": "code",
   "execution_count": null,
   "source": [
    "for beta in betavector:\n",
    "    "
   ],
   "outputs": [],
   "metadata": {}
  },
  {
   "cell_type": "markdown",
   "source": [
    "## Case II\n",
    "Superficial velocities"
   ],
   "metadata": {}
  },
  {
   "cell_type": "code",
   "execution_count": null,
   "source": [],
   "outputs": [],
   "metadata": {}
  },
  {
   "cell_type": "markdown",
   "source": [
    "## For unstable conditions\n",
    "Acoustic vs. convective eigenvalues"
   ],
   "metadata": {}
  },
  {
   "cell_type": "code",
   "execution_count": null,
   "source": [],
   "outputs": [],
   "metadata": {}
  },
  {
   "cell_type": "markdown",
   "source": [
    "Full scale plot vs. Detail near the origin"
   ],
   "metadata": {}
  },
  {
   "cell_type": "code",
   "execution_count": null,
   "source": [],
   "outputs": [],
   "metadata": {}
  },
  {
   "cell_type": "markdown",
   "source": [
    "## Case III\n",
    "Upward flows"
   ],
   "metadata": {}
  },
  {
   "cell_type": "code",
   "execution_count": null,
   "source": [],
   "outputs": [],
   "metadata": {}
  },
  {
   "cell_type": "markdown",
   "source": [
    "## Case IV\n",
    "Downward flows"
   ],
   "metadata": {}
  },
  {
   "cell_type": "code",
   "execution_count": null,
   "source": [],
   "outputs": [],
   "metadata": {}
  },
  {
   "cell_type": "markdown",
   "source": [
    "## Case V\n",
    "Mesh size"
   ],
   "metadata": {}
  },
  {
   "cell_type": "code",
   "execution_count": null,
   "source": [],
   "outputs": [],
   "metadata": {}
  },
  {
   "cell_type": "markdown",
   "source": [
    "## Case VI\n",
    "Highest order of basis functions"
   ],
   "metadata": {}
  },
  {
   "cell_type": "code",
   "execution_count": null,
   "source": [],
   "outputs": [],
   "metadata": {}
  },
  {
   "cell_type": "markdown",
   "source": [
    "## Case VII\n",
    "Compressibility effects"
   ],
   "metadata": {}
  },
  {
   "cell_type": "code",
   "execution_count": null,
   "source": [],
   "outputs": [],
   "metadata": {}
  }
 ]
}