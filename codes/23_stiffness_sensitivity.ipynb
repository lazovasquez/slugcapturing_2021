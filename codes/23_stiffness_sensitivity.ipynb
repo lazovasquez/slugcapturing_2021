{
 "metadata": {
  "language_info": {
   "codemirror_mode": {
    "name": "ipython",
    "version": 3
   },
   "file_extension": ".py",
   "mimetype": "text/x-python",
   "name": "python",
   "nbconvert_exporter": "python",
   "pygments_lexer": "ipython3",
   "version": "3.8.2"
  },
  "orig_nbformat": 4,
  "kernelspec": {
   "name": "python3",
   "display_name": "Python 3.8.2 64-bit ('fenicsproject': conda)"
  },
  "interpreter": {
   "hash": "38da386f580614e4c6a85824bff41beb4ebd8d62055fe5e2510efbe524b5bbb7"
  }
 },
 "nbformat": 4,
 "nbformat_minor": 2,
 "cells": [
  {
   "source": [
    "## Code for stiffness"
   ],
   "cell_type": "markdown",
   "metadata": {}
  },
  {
   "cell_type": "code",
   "execution_count": null,
   "metadata": {},
   "outputs": [],
   "source": [
    "def stiffness_function (Aeval, Beval):\n",
    "    \n",
    "\n",
    "    return figure"
   ]
  },
  {
   "cell_type": "code",
   "execution_count": 1,
   "metadata": {},
   "outputs": [
    {
     "output_type": "error",
     "ename": "NameError",
     "evalue": "name 'arange' is not defined",
     "traceback": [
      "\u001b[0;31m---------------------------------------------------------------------------\u001b[0m",
      "\u001b[0;31mNameError\u001b[0m                                 Traceback (most recent call last)",
      "\u001b[0;32m<ipython-input-1-0858e7474dc3>\u001b[0m in \u001b[0;36m<module>\u001b[0;34m\u001b[0m\n\u001b[1;32m      7\u001b[0m     \u001b[0;32mreturn\u001b[0m \u001b[0mfig\u001b[0m\u001b[0;34m\u001b[0m\u001b[0;34m\u001b[0m\u001b[0m\n\u001b[1;32m      8\u001b[0m \u001b[0;34m\u001b[0m\u001b[0m\n\u001b[0;32m----> 9\u001b[0;31m \u001b[0mt\u001b[0m \u001b[0;34m=\u001b[0m \u001b[0marange\u001b[0m \u001b[0;34m(\u001b[0m\u001b[0;36m0\u001b[0m\u001b[0;34m,\u001b[0m\u001b[0;36m6\u001b[0m\u001b[0;34m,\u001b[0m\u001b[0;36m0.01\u001b[0m\u001b[0;34m)\u001b[0m\u001b[0;34m\u001b[0m\u001b[0;34m\u001b[0m\u001b[0m\n\u001b[0m\u001b[1;32m     10\u001b[0m \u001b[0mx\u001b[0m \u001b[0;34m=\u001b[0m \u001b[0msin\u001b[0m \u001b[0;34m(\u001b[0m\u001b[0mt\u001b[0m\u001b[0;34m)\u001b[0m\u001b[0;34m\u001b[0m\u001b[0;34m\u001b[0m\u001b[0m\n\u001b[1;32m     11\u001b[0m \u001b[0;34m\u001b[0m\u001b[0m\n",
      "\u001b[0;31mNameError\u001b[0m: name 'arange' is not defined"
     ]
    }
   ],
   "source": [
    "%config InlineBackend.close_figures = False\n",
    "\n",
    "def stiffness_function (t, x):\n",
    "    fig = figure()\n",
    "    x = plot(t,x)\n",
    "    fig.savefig('plot.png') # This is just to show the figure is still generated\n",
    "    return fig\n",
    "\n",
    "t = arange (0,6,0.01)\n",
    "x = sin (t)\n",
    "\n",
    "f = stiffness_function (t, x)"
   ]
  },
  {
   "cell_type": "code",
   "execution_count": null,
   "metadata": {},
   "outputs": [],
   "source": [
    "%run ./00_libraries.ipynb\n",
    "# %run ./01_constants.ipynb\n",
    "\n",
    "# Some example data to display\n",
    "x = np.linspace (0, 2 * np.pi, 400)\n",
    "y = np.sin (x ** 2)\n",
    "\n",
    "def stiffness_function (x, y):\n",
    "    \n",
    "    fig, (ax0, ax1) = plt.subplots(ncols=2, constrained_layout=True)\n",
    "    fig.figsize = eigenspectrasize\n",
    "\n",
    "    # ax0\n",
    "    ax0.scatter (x,\n",
    "                y,\n",
    "                s = areatestpoints,\n",
    "                marker = listmarkers[0],\n",
    "                color = listcolor [0],\n",
    "                edgecolors = listcolor [0],\n",
    "                linewidths = 1,\n",
    "                alpha = alphascatter)\n",
    "\n",
    "    ax0.set_title ('Axis [0, 0]')\n",
    "\n",
    "    ax0.xaxis.set_tick_params (which='major', size=7, direction='in', top='on')\n",
    "    ax0.xaxis.set_tick_params (which='minor', size=7, direction='in', top='on')\n",
    "    ax0.yaxis.set_tick_params (which='major', size=7, direction='in', right='on')\n",
    "    ax0.yaxis.set_tick_params (which='minor', size=7, direction='in', right='on')\n",
    "\n",
    "    ax0.grid(True)\n",
    "    ax0.set(xlabel = r'Re ($\\lambda$) $[\\it{s^{-1}}]$', ylabel=r'Im ($\\lambda$) $[\\it{s^{-1}}]$')\n",
    "\n",
    "    # ax1\n",
    "    ax1.scatter (y,\n",
    "                x,\n",
    "                s = areatestpoints,\n",
    "                marker = listmarkers[0],\n",
    "                color = listcolor [0], \n",
    "                edgecolors = listcolor [0],\n",
    "                linewidths = 1,\n",
    "                alpha = alphascatter)\n",
    "    ax1.set_title('Axis [1, 0]')\n",
    "\n",
    "    ax1.xaxis.set_tick_params(which='major', size=7, direction='in', top='on')\n",
    "    ax1.xaxis.set_tick_params(which='minor', size=7, direction='in', top='on')\n",
    "    ax1.yaxis.set_tick_params(which='major', size=7, direction='in', right='on')\n",
    "    ax1.yaxis.set_tick_params(which='minor', size=7, direction='in', right='on')\n",
    "\n",
    "    ax1.grid(True)\n",
    "    ax1.set(xlabel = r'Re ($\\lambda$) $[\\it{s^{-1}}]$', ylabel=r'Im ($\\lambda$) $[\\it{s^{-1}}]$')\n",
    "\n",
    "    return "
   ]
  },
  {
   "cell_type": "code",
   "execution_count": null,
   "metadata": {},
   "outputs": [],
   "source": [
    "ax = stiffness_function (x, y)"
   ]
  },
  {
   "source": [
    "## Case I\n",
    "Finite elements"
   ],
   "cell_type": "markdown",
   "metadata": {}
  },
  {
   "cell_type": "code",
   "execution_count": null,
   "metadata": {},
   "outputs": [],
   "source": [
    "for beta in betavector:\n",
    "    "
   ]
  },
  {
   "source": [
    "## Case II\n",
    "Superficial velocities"
   ],
   "cell_type": "markdown",
   "metadata": {}
  },
  {
   "cell_type": "code",
   "execution_count": null,
   "metadata": {},
   "outputs": [],
   "source": []
  },
  {
   "source": [
    "## For unstable conditions\n",
    "Acoustic vs. convective eigenvalues"
   ],
   "cell_type": "markdown",
   "metadata": {}
  },
  {
   "source": [],
   "cell_type": "code",
   "metadata": {},
   "execution_count": null,
   "outputs": []
  },
  {
   "source": [
    "Full scale plot vs. Detail near the origin"
   ],
   "cell_type": "markdown",
   "metadata": {}
  },
  {
   "cell_type": "code",
   "execution_count": null,
   "metadata": {},
   "outputs": [],
   "source": []
  },
  {
   "source": [
    "## Case III\n",
    "Upward flows"
   ],
   "cell_type": "markdown",
   "metadata": {}
  },
  {
   "cell_type": "code",
   "execution_count": null,
   "metadata": {},
   "outputs": [],
   "source": []
  },
  {
   "source": [
    "## Case IV\n",
    "Downward flows"
   ],
   "cell_type": "markdown",
   "metadata": {}
  },
  {
   "cell_type": "code",
   "execution_count": null,
   "metadata": {},
   "outputs": [],
   "source": []
  },
  {
   "source": [
    "## Case V\n",
    "Mesh size"
   ],
   "cell_type": "markdown",
   "metadata": {}
  },
  {
   "cell_type": "code",
   "execution_count": null,
   "metadata": {},
   "outputs": [],
   "source": []
  },
  {
   "source": [
    "## Case VI\n",
    "Highest order of basis functions"
   ],
   "cell_type": "markdown",
   "metadata": {}
  },
  {
   "cell_type": "code",
   "execution_count": null,
   "metadata": {},
   "outputs": [],
   "source": []
  },
  {
   "source": [
    "## Case VII\n",
    "Compressibility effects"
   ],
   "cell_type": "markdown",
   "metadata": {}
  },
  {
   "cell_type": "code",
   "execution_count": null,
   "metadata": {},
   "outputs": [],
   "source": []
  }
 ]
}